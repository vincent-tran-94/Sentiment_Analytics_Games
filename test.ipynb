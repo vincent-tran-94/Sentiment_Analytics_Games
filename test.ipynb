{
 "cells": [
  {
   "cell_type": "code",
   "execution_count": 97,
   "metadata": {},
   "outputs": [],
   "source": [
    "import pandas as pd"
   ]
  },
  {
   "cell_type": "code",
   "execution_count": 98,
   "metadata": {},
   "outputs": [],
   "source": [
    "data_path = \"data\""
   ]
  },
  {
   "cell_type": "code",
   "execution_count": 99,
   "metadata": {},
   "outputs": [],
   "source": [
    "df = pd.read_csv(f\"{data_path}/twitter_training.csv\",names=[\"index_category\", \"game_category\",\"sentiment_category\",\"Tweet\"])"
   ]
  },
  {
   "cell_type": "code",
   "execution_count": 100,
   "metadata": {},
   "outputs": [
    {
     "data": {
      "text/html": [
       "<div>\n",
       "<style scoped>\n",
       "    .dataframe tbody tr th:only-of-type {\n",
       "        vertical-align: middle;\n",
       "    }\n",
       "\n",
       "    .dataframe tbody tr th {\n",
       "        vertical-align: top;\n",
       "    }\n",
       "\n",
       "    .dataframe thead th {\n",
       "        text-align: right;\n",
       "    }\n",
       "</style>\n",
       "<table border=\"1\" class=\"dataframe\">\n",
       "  <thead>\n",
       "    <tr style=\"text-align: right;\">\n",
       "      <th></th>\n",
       "      <th>index_category</th>\n",
       "      <th>game_category</th>\n",
       "      <th>sentiment_category</th>\n",
       "      <th>Tweet</th>\n",
       "    </tr>\n",
       "  </thead>\n",
       "  <tbody>\n",
       "    <tr>\n",
       "      <th>0</th>\n",
       "      <td>2401</td>\n",
       "      <td>Borderlands</td>\n",
       "      <td>Positive</td>\n",
       "      <td>im getting on borderlands and i will murder yo...</td>\n",
       "    </tr>\n",
       "    <tr>\n",
       "      <th>1</th>\n",
       "      <td>2401</td>\n",
       "      <td>Borderlands</td>\n",
       "      <td>Positive</td>\n",
       "      <td>I am coming to the borders and I will kill you...</td>\n",
       "    </tr>\n",
       "    <tr>\n",
       "      <th>2</th>\n",
       "      <td>2401</td>\n",
       "      <td>Borderlands</td>\n",
       "      <td>Positive</td>\n",
       "      <td>im getting on borderlands and i will kill you ...</td>\n",
       "    </tr>\n",
       "    <tr>\n",
       "      <th>3</th>\n",
       "      <td>2401</td>\n",
       "      <td>Borderlands</td>\n",
       "      <td>Positive</td>\n",
       "      <td>im coming on borderlands and i will murder you...</td>\n",
       "    </tr>\n",
       "    <tr>\n",
       "      <th>4</th>\n",
       "      <td>2401</td>\n",
       "      <td>Borderlands</td>\n",
       "      <td>Positive</td>\n",
       "      <td>im getting on borderlands 2 and i will murder ...</td>\n",
       "    </tr>\n",
       "  </tbody>\n",
       "</table>\n",
       "</div>"
      ],
      "text/plain": [
       "   index_category game_category sentiment_category  \\\n",
       "0            2401   Borderlands           Positive   \n",
       "1            2401   Borderlands           Positive   \n",
       "2            2401   Borderlands           Positive   \n",
       "3            2401   Borderlands           Positive   \n",
       "4            2401   Borderlands           Positive   \n",
       "\n",
       "                                               Tweet  \n",
       "0  im getting on borderlands and i will murder yo...  \n",
       "1  I am coming to the borders and I will kill you...  \n",
       "2  im getting on borderlands and i will kill you ...  \n",
       "3  im coming on borderlands and i will murder you...  \n",
       "4  im getting on borderlands 2 and i will murder ...  "
      ]
     },
     "execution_count": 100,
     "metadata": {},
     "output_type": "execute_result"
    }
   ],
   "source": [
    "df.head()"
   ]
  },
  {
   "cell_type": "code",
   "execution_count": 101,
   "metadata": {},
   "outputs": [
    {
     "name": "stdout",
     "output_type": "stream",
     "text": [
      "Taille de données restant: (74682, 4)\n"
     ]
    }
   ],
   "source": [
    "print(\"Taille de données restant:\", df.shape)"
   ]
  },
  {
   "cell_type": "code",
   "execution_count": 102,
   "metadata": {},
   "outputs": [
    {
     "data": {
      "text/html": [
       "<div>\n",
       "<style scoped>\n",
       "    .dataframe tbody tr th:only-of-type {\n",
       "        vertical-align: middle;\n",
       "    }\n",
       "\n",
       "    .dataframe tbody tr th {\n",
       "        vertical-align: top;\n",
       "    }\n",
       "\n",
       "    .dataframe thead th {\n",
       "        text-align: right;\n",
       "    }\n",
       "</style>\n",
       "<table border=\"1\" class=\"dataframe\">\n",
       "  <thead>\n",
       "    <tr style=\"text-align: right;\">\n",
       "      <th></th>\n",
       "      <th>game_category</th>\n",
       "      <th>sentiment_category</th>\n",
       "      <th>Tweet</th>\n",
       "    </tr>\n",
       "  </thead>\n",
       "  <tbody>\n",
       "    <tr>\n",
       "      <th>0</th>\n",
       "      <td>Borderlands</td>\n",
       "      <td>Positive</td>\n",
       "      <td>im getting on borderlands and i will murder yo...</td>\n",
       "    </tr>\n",
       "    <tr>\n",
       "      <th>1</th>\n",
       "      <td>Borderlands</td>\n",
       "      <td>Positive</td>\n",
       "      <td>I am coming to the borders and I will kill you...</td>\n",
       "    </tr>\n",
       "    <tr>\n",
       "      <th>2</th>\n",
       "      <td>Borderlands</td>\n",
       "      <td>Positive</td>\n",
       "      <td>im getting on borderlands and i will kill you ...</td>\n",
       "    </tr>\n",
       "    <tr>\n",
       "      <th>3</th>\n",
       "      <td>Borderlands</td>\n",
       "      <td>Positive</td>\n",
       "      <td>im coming on borderlands and i will murder you...</td>\n",
       "    </tr>\n",
       "    <tr>\n",
       "      <th>4</th>\n",
       "      <td>Borderlands</td>\n",
       "      <td>Positive</td>\n",
       "      <td>im getting on borderlands 2 and i will murder ...</td>\n",
       "    </tr>\n",
       "  </tbody>\n",
       "</table>\n",
       "</div>"
      ],
      "text/plain": [
       "  game_category sentiment_category  \\\n",
       "0   Borderlands           Positive   \n",
       "1   Borderlands           Positive   \n",
       "2   Borderlands           Positive   \n",
       "3   Borderlands           Positive   \n",
       "4   Borderlands           Positive   \n",
       "\n",
       "                                               Tweet  \n",
       "0  im getting on borderlands and i will murder yo...  \n",
       "1  I am coming to the borders and I will kill you...  \n",
       "2  im getting on borderlands and i will kill you ...  \n",
       "3  im coming on borderlands and i will murder you...  \n",
       "4  im getting on borderlands 2 and i will murder ...  "
      ]
     },
     "execution_count": 102,
     "metadata": {},
     "output_type": "execute_result"
    }
   ],
   "source": [
    "df = df.drop(columns='index_category',axis=1)\n",
    "df.head()"
   ]
  },
  {
   "cell_type": "code",
   "execution_count": 103,
   "metadata": {},
   "outputs": [],
   "source": [
    "#df.to_csv(\"new_twitter_training.csv\",index=False)"
   ]
  },
  {
   "cell_type": "code",
   "execution_count": 104,
   "metadata": {},
   "outputs": [
    {
     "name": "stdout",
     "output_type": "stream",
     "text": [
      "Taille de données restant: (71061, 3)\n"
     ]
    }
   ],
   "source": [
    "df = df.drop_duplicates()\n",
    "print(\"Taille de données restant:\", df.shape)\n"
   ]
  },
  {
   "cell_type": "code",
   "execution_count": 105,
   "metadata": {},
   "outputs": [],
   "source": [
    "exclude_categories = ['johnson&johnson', 'Amazon','Nvidia','PlayStation5(PS5)','Xbox(Xseries)','HomeDepot','Verizon','Facebook','Google','Microsoft']\n",
    "\n",
    "df = df[~df['game_category'].isin(exclude_categories)]"
   ]
  },
  {
   "cell_type": "code",
   "execution_count": 106,
   "metadata": {},
   "outputs": [],
   "source": [
    "df['sentiment_category'] = df['sentiment_category'].replace('Irrelevant', 'Neutral')"
   ]
  },
  {
   "cell_type": "code",
   "execution_count": 107,
   "metadata": {},
   "outputs": [
    {
     "name": "stdout",
     "output_type": "stream",
     "text": [
      "Taille de données restant: (48799, 3)\n"
     ]
    }
   ],
   "source": [
    "print(\"Taille de données restant:\", df.shape)"
   ]
  },
  {
   "cell_type": "code",
   "execution_count": 108,
   "metadata": {},
   "outputs": [
    {
     "data": {
      "text/html": [
       "<div>\n",
       "<style scoped>\n",
       "    .dataframe tbody tr th:only-of-type {\n",
       "        vertical-align: middle;\n",
       "    }\n",
       "\n",
       "    .dataframe tbody tr th {\n",
       "        vertical-align: top;\n",
       "    }\n",
       "\n",
       "    .dataframe thead th {\n",
       "        text-align: right;\n",
       "    }\n",
       "</style>\n",
       "<table border=\"1\" class=\"dataframe\">\n",
       "  <thead>\n",
       "    <tr style=\"text-align: right;\">\n",
       "      <th></th>\n",
       "      <th>game_category</th>\n",
       "      <th>sentiment_category</th>\n",
       "      <th>Tweet</th>\n",
       "    </tr>\n",
       "  </thead>\n",
       "  <tbody>\n",
       "    <tr>\n",
       "      <th>0</th>\n",
       "      <td>Borderlands</td>\n",
       "      <td>Positive</td>\n",
       "      <td>im getting on borderlands and i will murder yo...</td>\n",
       "    </tr>\n",
       "    <tr>\n",
       "      <th>1</th>\n",
       "      <td>Borderlands</td>\n",
       "      <td>Positive</td>\n",
       "      <td>I am coming to the borders and I will kill you...</td>\n",
       "    </tr>\n",
       "    <tr>\n",
       "      <th>2</th>\n",
       "      <td>Borderlands</td>\n",
       "      <td>Positive</td>\n",
       "      <td>im getting on borderlands and i will kill you ...</td>\n",
       "    </tr>\n",
       "    <tr>\n",
       "      <th>3</th>\n",
       "      <td>Borderlands</td>\n",
       "      <td>Positive</td>\n",
       "      <td>im coming on borderlands and i will murder you...</td>\n",
       "    </tr>\n",
       "    <tr>\n",
       "      <th>4</th>\n",
       "      <td>Borderlands</td>\n",
       "      <td>Positive</td>\n",
       "      <td>im getting on borderlands 2 and i will murder ...</td>\n",
       "    </tr>\n",
       "  </tbody>\n",
       "</table>\n",
       "</div>"
      ],
      "text/plain": [
       "  game_category sentiment_category  \\\n",
       "0   Borderlands           Positive   \n",
       "1   Borderlands           Positive   \n",
       "2   Borderlands           Positive   \n",
       "3   Borderlands           Positive   \n",
       "4   Borderlands           Positive   \n",
       "\n",
       "                                               Tweet  \n",
       "0  im getting on borderlands and i will murder yo...  \n",
       "1  I am coming to the borders and I will kill you...  \n",
       "2  im getting on borderlands and i will kill you ...  \n",
       "3  im coming on borderlands and i will murder you...  \n",
       "4  im getting on borderlands 2 and i will murder ...  "
      ]
     },
     "execution_count": 108,
     "metadata": {},
     "output_type": "execute_result"
    }
   ],
   "source": [
    "df.head()"
   ]
  },
  {
   "cell_type": "markdown",
   "metadata": {},
   "source": [
    "## Data exploration"
   ]
  },
  {
   "cell_type": "markdown",
   "metadata": {},
   "source": [
    "### Liste des noms de jeux et entreprises"
   ]
  },
  {
   "cell_type": "code",
   "execution_count": 109,
   "metadata": {},
   "outputs": [
    {
     "name": "stdout",
     "output_type": "stream",
     "text": [
      "['Borderlands' 'CallOfDutyBlackopsColdWar' 'Overwatch' 'NBA2K' 'Dota2'\n",
      " 'WorldOfCraft' 'CS-GO' 'AssassinsCreed' 'ApexLegends' 'LeagueOfLegends'\n",
      " 'Fortnite' 'Hearthstone' 'Battlefield'\n",
      " 'PlayerUnknownsBattlegrounds(PUBG)' 'FIFA' 'RedDeadRedemption(RDR)'\n",
      " 'CallOfDuty' 'TomClancysRainbowSix' 'GrandTheftAuto(GTA)' 'MaddenNFL'\n",
      " 'Cyberpunk2077' 'TomClancysGhostRecon']\n"
     ]
    }
   ],
   "source": [
    "all_games_category = df['game_category'].unique()\n",
    "print(all_games_category)"
   ]
  },
  {
   "cell_type": "code",
   "execution_count": 110,
   "metadata": {},
   "outputs": [
    {
     "name": "stdout",
     "output_type": "stream",
     "text": [
      "['Positive' 'Neutral' 'Negative']\n"
     ]
    }
   ],
   "source": [
    "all_sentiments = df['sentiment_category'].unique()\n",
    "print(all_sentiments)"
   ]
  },
  {
   "cell_type": "code",
   "execution_count": 111,
   "metadata": {},
   "outputs": [
    {
     "name": "stdout",
     "output_type": "stream",
     "text": [
      "game_category\n",
      "ApexLegends                          2249\n",
      "AssassinsCreed                       2147\n",
      "Battlefield                          2240\n",
      "Borderlands                          2194\n",
      "CS-GO                                2173\n",
      "CallOfDuty                           2307\n",
      "CallOfDutyBlackopsColdWar            2237\n",
      "Cyberpunk2077                        2150\n",
      "Dota2                                2221\n",
      "FIFA                                 2226\n",
      "Fortnite                             2166\n",
      "GrandTheftAuto(GTA)                  2204\n",
      "Hearthstone                          2204\n",
      "LeagueOfLegends                      2231\n",
      "MaddenNFL                            2296\n",
      "NBA2K                                2292\n",
      "Overwatch                            2212\n",
      "PlayerUnknownsBattlegrounds(PUBG)    2116\n",
      "RedDeadRedemption(RDR)               2127\n",
      "TomClancysGhostRecon                 2266\n",
      "TomClancysRainbowSix                 2290\n",
      "WorldOfCraft                         2251\n",
      "Name: count, dtype: int64\n"
     ]
    }
   ],
   "source": [
    "counts_games = df['game_category'].value_counts().sort_index()\n",
    "print(counts_games)"
   ]
  },
  {
   "cell_type": "code",
   "execution_count": 112,
   "metadata": {},
   "outputs": [
    {
     "name": "stdout",
     "output_type": "stream",
     "text": [
      "sentiment_category\n",
      "Negative    15007\n",
      "Neutral     19453\n",
      "Positive    14339\n",
      "Name: count, dtype: int64\n"
     ]
    }
   ],
   "source": [
    "counts_sentiments = df['sentiment_category'].value_counts().sort_index()\n",
    "print(counts_sentiments)"
   ]
  },
  {
   "cell_type": "code",
   "execution_count": 113,
   "metadata": {},
   "outputs": [
    {
     "data": {
      "application/vnd.plotly.v1+json": {
       "config": {
        "plotlyServerURL": "https://plot.ly"
       },
       "data": [
        {
         "alignmentgroup": "True",
         "hovertemplate": "Sentiment Class=%{x}<br>Percentage (%)=%{text}<extra></extra>",
         "legendgroup": "",
         "marker": {
          "color": "#636efa",
          "pattern": {
           "shape": ""
          }
         },
         "name": "",
         "offsetgroup": "",
         "orientation": "v",
         "showlegend": false,
         "text": [
          39.86352179347937,
          30.75267935818357,
          29.383798848337054
         ],
         "textposition": "outside",
         "texttemplate": "%{text:.2f}%",
         "type": "bar",
         "x": [
          "Neutral",
          "Negative",
          "Positive"
         ],
         "xaxis": "x",
         "y": [
          39.86352179347937,
          30.75267935818357,
          29.383798848337054
         ],
         "yaxis": "y"
        }
       ],
       "layout": {
        "barmode": "relative",
        "height": 500,
        "legend": {
         "tracegroupgap": 0
        },
        "template": {
         "data": {
          "bar": [
           {
            "error_x": {
             "color": "#2a3f5f"
            },
            "error_y": {
             "color": "#2a3f5f"
            },
            "marker": {
             "line": {
              "color": "white",
              "width": 0.5
             },
             "pattern": {
              "fillmode": "overlay",
              "size": 10,
              "solidity": 0.2
             }
            },
            "type": "bar"
           }
          ],
          "barpolar": [
           {
            "marker": {
             "line": {
              "color": "white",
              "width": 0.5
             },
             "pattern": {
              "fillmode": "overlay",
              "size": 10,
              "solidity": 0.2
             }
            },
            "type": "barpolar"
           }
          ],
          "carpet": [
           {
            "aaxis": {
             "endlinecolor": "#2a3f5f",
             "gridcolor": "#C8D4E3",
             "linecolor": "#C8D4E3",
             "minorgridcolor": "#C8D4E3",
             "startlinecolor": "#2a3f5f"
            },
            "baxis": {
             "endlinecolor": "#2a3f5f",
             "gridcolor": "#C8D4E3",
             "linecolor": "#C8D4E3",
             "minorgridcolor": "#C8D4E3",
             "startlinecolor": "#2a3f5f"
            },
            "type": "carpet"
           }
          ],
          "choropleth": [
           {
            "colorbar": {
             "outlinewidth": 0,
             "ticks": ""
            },
            "type": "choropleth"
           }
          ],
          "contour": [
           {
            "colorbar": {
             "outlinewidth": 0,
             "ticks": ""
            },
            "colorscale": [
             [
              0,
              "#0d0887"
             ],
             [
              0.1111111111111111,
              "#46039f"
             ],
             [
              0.2222222222222222,
              "#7201a8"
             ],
             [
              0.3333333333333333,
              "#9c179e"
             ],
             [
              0.4444444444444444,
              "#bd3786"
             ],
             [
              0.5555555555555556,
              "#d8576b"
             ],
             [
              0.6666666666666666,
              "#ed7953"
             ],
             [
              0.7777777777777778,
              "#fb9f3a"
             ],
             [
              0.8888888888888888,
              "#fdca26"
             ],
             [
              1,
              "#f0f921"
             ]
            ],
            "type": "contour"
           }
          ],
          "contourcarpet": [
           {
            "colorbar": {
             "outlinewidth": 0,
             "ticks": ""
            },
            "type": "contourcarpet"
           }
          ],
          "heatmap": [
           {
            "colorbar": {
             "outlinewidth": 0,
             "ticks": ""
            },
            "colorscale": [
             [
              0,
              "#0d0887"
             ],
             [
              0.1111111111111111,
              "#46039f"
             ],
             [
              0.2222222222222222,
              "#7201a8"
             ],
             [
              0.3333333333333333,
              "#9c179e"
             ],
             [
              0.4444444444444444,
              "#bd3786"
             ],
             [
              0.5555555555555556,
              "#d8576b"
             ],
             [
              0.6666666666666666,
              "#ed7953"
             ],
             [
              0.7777777777777778,
              "#fb9f3a"
             ],
             [
              0.8888888888888888,
              "#fdca26"
             ],
             [
              1,
              "#f0f921"
             ]
            ],
            "type": "heatmap"
           }
          ],
          "heatmapgl": [
           {
            "colorbar": {
             "outlinewidth": 0,
             "ticks": ""
            },
            "colorscale": [
             [
              0,
              "#0d0887"
             ],
             [
              0.1111111111111111,
              "#46039f"
             ],
             [
              0.2222222222222222,
              "#7201a8"
             ],
             [
              0.3333333333333333,
              "#9c179e"
             ],
             [
              0.4444444444444444,
              "#bd3786"
             ],
             [
              0.5555555555555556,
              "#d8576b"
             ],
             [
              0.6666666666666666,
              "#ed7953"
             ],
             [
              0.7777777777777778,
              "#fb9f3a"
             ],
             [
              0.8888888888888888,
              "#fdca26"
             ],
             [
              1,
              "#f0f921"
             ]
            ],
            "type": "heatmapgl"
           }
          ],
          "histogram": [
           {
            "marker": {
             "pattern": {
              "fillmode": "overlay",
              "size": 10,
              "solidity": 0.2
             }
            },
            "type": "histogram"
           }
          ],
          "histogram2d": [
           {
            "colorbar": {
             "outlinewidth": 0,
             "ticks": ""
            },
            "colorscale": [
             [
              0,
              "#0d0887"
             ],
             [
              0.1111111111111111,
              "#46039f"
             ],
             [
              0.2222222222222222,
              "#7201a8"
             ],
             [
              0.3333333333333333,
              "#9c179e"
             ],
             [
              0.4444444444444444,
              "#bd3786"
             ],
             [
              0.5555555555555556,
              "#d8576b"
             ],
             [
              0.6666666666666666,
              "#ed7953"
             ],
             [
              0.7777777777777778,
              "#fb9f3a"
             ],
             [
              0.8888888888888888,
              "#fdca26"
             ],
             [
              1,
              "#f0f921"
             ]
            ],
            "type": "histogram2d"
           }
          ],
          "histogram2dcontour": [
           {
            "colorbar": {
             "outlinewidth": 0,
             "ticks": ""
            },
            "colorscale": [
             [
              0,
              "#0d0887"
             ],
             [
              0.1111111111111111,
              "#46039f"
             ],
             [
              0.2222222222222222,
              "#7201a8"
             ],
             [
              0.3333333333333333,
              "#9c179e"
             ],
             [
              0.4444444444444444,
              "#bd3786"
             ],
             [
              0.5555555555555556,
              "#d8576b"
             ],
             [
              0.6666666666666666,
              "#ed7953"
             ],
             [
              0.7777777777777778,
              "#fb9f3a"
             ],
             [
              0.8888888888888888,
              "#fdca26"
             ],
             [
              1,
              "#f0f921"
             ]
            ],
            "type": "histogram2dcontour"
           }
          ],
          "mesh3d": [
           {
            "colorbar": {
             "outlinewidth": 0,
             "ticks": ""
            },
            "type": "mesh3d"
           }
          ],
          "parcoords": [
           {
            "line": {
             "colorbar": {
              "outlinewidth": 0,
              "ticks": ""
             }
            },
            "type": "parcoords"
           }
          ],
          "pie": [
           {
            "automargin": true,
            "type": "pie"
           }
          ],
          "scatter": [
           {
            "fillpattern": {
             "fillmode": "overlay",
             "size": 10,
             "solidity": 0.2
            },
            "type": "scatter"
           }
          ],
          "scatter3d": [
           {
            "line": {
             "colorbar": {
              "outlinewidth": 0,
              "ticks": ""
             }
            },
            "marker": {
             "colorbar": {
              "outlinewidth": 0,
              "ticks": ""
             }
            },
            "type": "scatter3d"
           }
          ],
          "scattercarpet": [
           {
            "marker": {
             "colorbar": {
              "outlinewidth": 0,
              "ticks": ""
             }
            },
            "type": "scattercarpet"
           }
          ],
          "scattergeo": [
           {
            "marker": {
             "colorbar": {
              "outlinewidth": 0,
              "ticks": ""
             }
            },
            "type": "scattergeo"
           }
          ],
          "scattergl": [
           {
            "marker": {
             "colorbar": {
              "outlinewidth": 0,
              "ticks": ""
             }
            },
            "type": "scattergl"
           }
          ],
          "scattermapbox": [
           {
            "marker": {
             "colorbar": {
              "outlinewidth": 0,
              "ticks": ""
             }
            },
            "type": "scattermapbox"
           }
          ],
          "scatterpolar": [
           {
            "marker": {
             "colorbar": {
              "outlinewidth": 0,
              "ticks": ""
             }
            },
            "type": "scatterpolar"
           }
          ],
          "scatterpolargl": [
           {
            "marker": {
             "colorbar": {
              "outlinewidth": 0,
              "ticks": ""
             }
            },
            "type": "scatterpolargl"
           }
          ],
          "scatterternary": [
           {
            "marker": {
             "colorbar": {
              "outlinewidth": 0,
              "ticks": ""
             }
            },
            "type": "scatterternary"
           }
          ],
          "surface": [
           {
            "colorbar": {
             "outlinewidth": 0,
             "ticks": ""
            },
            "colorscale": [
             [
              0,
              "#0d0887"
             ],
             [
              0.1111111111111111,
              "#46039f"
             ],
             [
              0.2222222222222222,
              "#7201a8"
             ],
             [
              0.3333333333333333,
              "#9c179e"
             ],
             [
              0.4444444444444444,
              "#bd3786"
             ],
             [
              0.5555555555555556,
              "#d8576b"
             ],
             [
              0.6666666666666666,
              "#ed7953"
             ],
             [
              0.7777777777777778,
              "#fb9f3a"
             ],
             [
              0.8888888888888888,
              "#fdca26"
             ],
             [
              1,
              "#f0f921"
             ]
            ],
            "type": "surface"
           }
          ],
          "table": [
           {
            "cells": {
             "fill": {
              "color": "#EBF0F8"
             },
             "line": {
              "color": "white"
             }
            },
            "header": {
             "fill": {
              "color": "#C8D4E3"
             },
             "line": {
              "color": "white"
             }
            },
            "type": "table"
           }
          ]
         },
         "layout": {
          "annotationdefaults": {
           "arrowcolor": "#2a3f5f",
           "arrowhead": 0,
           "arrowwidth": 1
          },
          "autotypenumbers": "strict",
          "coloraxis": {
           "colorbar": {
            "outlinewidth": 0,
            "ticks": ""
           }
          },
          "colorscale": {
           "diverging": [
            [
             0,
             "#8e0152"
            ],
            [
             0.1,
             "#c51b7d"
            ],
            [
             0.2,
             "#de77ae"
            ],
            [
             0.3,
             "#f1b6da"
            ],
            [
             0.4,
             "#fde0ef"
            ],
            [
             0.5,
             "#f7f7f7"
            ],
            [
             0.6,
             "#e6f5d0"
            ],
            [
             0.7,
             "#b8e186"
            ],
            [
             0.8,
             "#7fbc41"
            ],
            [
             0.9,
             "#4d9221"
            ],
            [
             1,
             "#276419"
            ]
           ],
           "sequential": [
            [
             0,
             "#0d0887"
            ],
            [
             0.1111111111111111,
             "#46039f"
            ],
            [
             0.2222222222222222,
             "#7201a8"
            ],
            [
             0.3333333333333333,
             "#9c179e"
            ],
            [
             0.4444444444444444,
             "#bd3786"
            ],
            [
             0.5555555555555556,
             "#d8576b"
            ],
            [
             0.6666666666666666,
             "#ed7953"
            ],
            [
             0.7777777777777778,
             "#fb9f3a"
            ],
            [
             0.8888888888888888,
             "#fdca26"
            ],
            [
             1,
             "#f0f921"
            ]
           ],
           "sequentialminus": [
            [
             0,
             "#0d0887"
            ],
            [
             0.1111111111111111,
             "#46039f"
            ],
            [
             0.2222222222222222,
             "#7201a8"
            ],
            [
             0.3333333333333333,
             "#9c179e"
            ],
            [
             0.4444444444444444,
             "#bd3786"
            ],
            [
             0.5555555555555556,
             "#d8576b"
            ],
            [
             0.6666666666666666,
             "#ed7953"
            ],
            [
             0.7777777777777778,
             "#fb9f3a"
            ],
            [
             0.8888888888888888,
             "#fdca26"
            ],
            [
             1,
             "#f0f921"
            ]
           ]
          },
          "colorway": [
           "#636efa",
           "#EF553B",
           "#00cc96",
           "#ab63fa",
           "#FFA15A",
           "#19d3f3",
           "#FF6692",
           "#B6E880",
           "#FF97FF",
           "#FECB52"
          ],
          "font": {
           "color": "#2a3f5f"
          },
          "geo": {
           "bgcolor": "white",
           "lakecolor": "white",
           "landcolor": "white",
           "showlakes": true,
           "showland": true,
           "subunitcolor": "#C8D4E3"
          },
          "hoverlabel": {
           "align": "left"
          },
          "hovermode": "closest",
          "mapbox": {
           "style": "light"
          },
          "paper_bgcolor": "white",
          "plot_bgcolor": "white",
          "polar": {
           "angularaxis": {
            "gridcolor": "#EBF0F8",
            "linecolor": "#EBF0F8",
            "ticks": ""
           },
           "bgcolor": "white",
           "radialaxis": {
            "gridcolor": "#EBF0F8",
            "linecolor": "#EBF0F8",
            "ticks": ""
           }
          },
          "scene": {
           "xaxis": {
            "backgroundcolor": "white",
            "gridcolor": "#DFE8F3",
            "gridwidth": 2,
            "linecolor": "#EBF0F8",
            "showbackground": true,
            "ticks": "",
            "zerolinecolor": "#EBF0F8"
           },
           "yaxis": {
            "backgroundcolor": "white",
            "gridcolor": "#DFE8F3",
            "gridwidth": 2,
            "linecolor": "#EBF0F8",
            "showbackground": true,
            "ticks": "",
            "zerolinecolor": "#EBF0F8"
           },
           "zaxis": {
            "backgroundcolor": "white",
            "gridcolor": "#DFE8F3",
            "gridwidth": 2,
            "linecolor": "#EBF0F8",
            "showbackground": true,
            "ticks": "",
            "zerolinecolor": "#EBF0F8"
           }
          },
          "shapedefaults": {
           "line": {
            "color": "#2a3f5f"
           }
          },
          "ternary": {
           "aaxis": {
            "gridcolor": "#DFE8F3",
            "linecolor": "#A2B1C6",
            "ticks": ""
           },
           "baxis": {
            "gridcolor": "#DFE8F3",
            "linecolor": "#A2B1C6",
            "ticks": ""
           },
           "bgcolor": "white",
           "caxis": {
            "gridcolor": "#DFE8F3",
            "linecolor": "#A2B1C6",
            "ticks": ""
           }
          },
          "title": {
           "x": 0.05
          },
          "xaxis": {
           "automargin": true,
           "gridcolor": "#EBF0F8",
           "linecolor": "#EBF0F8",
           "ticks": "",
           "title": {
            "standoff": 15
           },
           "zerolinecolor": "#EBF0F8",
           "zerolinewidth": 2
          },
          "yaxis": {
           "automargin": true,
           "gridcolor": "#EBF0F8",
           "linecolor": "#EBF0F8",
           "ticks": "",
           "title": {
            "standoff": 15
           },
           "zerolinecolor": "#EBF0F8",
           "zerolinewidth": 2
          }
         }
        },
        "title": {
         "text": "Percentage of Each Sentiment Class"
        },
        "width": 600,
        "xaxis": {
         "anchor": "y",
         "domain": [
          0,
          1
         ],
         "title": {
          "text": "Sentiment Class"
         }
        },
        "yaxis": {
         "anchor": "x",
         "domain": [
          0,
          1
         ],
         "title": {
          "text": "Percentage (%)"
         }
        }
       }
      }
     },
     "metadata": {},
     "output_type": "display_data"
    }
   ],
   "source": [
    "import plotly.express as px\n",
    "import plotly.io as pio\n",
    "pio.templates.default = \"plotly_white\"\n",
    "\n",
    "# Calculate the percentage of each sentiment class\n",
    "sentiment_percentage = df['sentiment_category'].value_counts(normalize=True) * 100\n",
    "\n",
    "# Convert the calculated percentages into DataFrame for plotting\n",
    "percentage_df = pd.DataFrame({'Sentiment': sentiment_percentage.index, 'Percentage': sentiment_percentage.values})\n",
    "\n",
    "# Plot the bar plot with percentages visible\n",
    "fig = px.bar(percentage_df, x='Sentiment', y='Percentage', text='Percentage',\n",
    "             title=\"Percentage of Each Sentiment Class\", labels={'Sentiment': 'Sentiment Class', 'Percentage': 'Percentage (%)'})\n",
    "fig.update_traces(texttemplate='%{text:.2f}%', textposition='outside')\n",
    "fig.update_layout(width=600, height=500)\n",
    "fig.show()"
   ]
  },
  {
   "cell_type": "markdown",
   "metadata": {},
   "source": [
    "### Data preprocessing"
   ]
  },
  {
   "cell_type": "code",
   "execution_count": 114,
   "metadata": {},
   "outputs": [
    {
     "name": "stderr",
     "output_type": "stream",
     "text": [
      "[nltk_data] Downloading package punkt_tab to\n",
      "[nltk_data]     C:\\Users\\Vincent\\AppData\\Roaming\\nltk_data...\n",
      "[nltk_data]   Package punkt_tab is already up-to-date!\n",
      "[nltk_data] Downloading package stopwords to\n",
      "[nltk_data]     C:\\Users\\Vincent\\AppData\\Roaming\\nltk_data...\n",
      "[nltk_data]   Package stopwords is already up-to-date!\n"
     ]
    },
    {
     "data": {
      "text/plain": [
       "True"
      ]
     },
     "execution_count": 114,
     "metadata": {},
     "output_type": "execute_result"
    }
   ],
   "source": [
    "import numpy as np\n",
    "import re\n",
    "\n",
    "import nltk\n",
    "from nltk.corpus import stopwords\n",
    "nltk.download('punkt_tab')\n",
    "nltk.download('stopwords')"
   ]
  },
  {
   "cell_type": "code",
   "execution_count": 115,
   "metadata": {},
   "outputs": [],
   "source": [
    "english_stopwords = set(stopwords.words('english'))\n",
    "\n",
    "def clean_text(text):\n",
    "    if not isinstance(text, str):\n",
    "        return \"\"  # Retournez une chaîne vide si ce n'est pas une chaîne\n",
    "\n",
    "    # Replace all non-alphabetic characters with a space\n",
    "    cleaned_text = re.sub(r'[^a-zA-Z]', ' ', text)\n",
    "\n",
    "    # Convert text to lowercase\n",
    "    cleaned_text = cleaned_text.lower()\n",
    "\n",
    "    # Tokenize the text\n",
    "    tokens = nltk.word_tokenize(cleaned_text)\n",
    "\n",
    "    # Remove stopwords from the tokenized text\n",
    "    filtered_tokens = [word for word in tokens if word.lower() not in english_stopwords]\n",
    "\n",
    "    # Join the filtered tokens back into a single string\n",
    "    filtered_text = ' '.join(filtered_tokens)\n",
    "\n",
    "    return filtered_text\n",
    "\n",
    "df['tweet_clean'] = df['Tweet'].apply(clean_text)"
   ]
  },
  {
   "cell_type": "code",
   "execution_count": 116,
   "metadata": {},
   "outputs": [
    {
     "data": {
      "text/html": [
       "<div>\n",
       "<style scoped>\n",
       "    .dataframe tbody tr th:only-of-type {\n",
       "        vertical-align: middle;\n",
       "    }\n",
       "\n",
       "    .dataframe tbody tr th {\n",
       "        vertical-align: top;\n",
       "    }\n",
       "\n",
       "    .dataframe thead th {\n",
       "        text-align: right;\n",
       "    }\n",
       "</style>\n",
       "<table border=\"1\" class=\"dataframe\">\n",
       "  <thead>\n",
       "    <tr style=\"text-align: right;\">\n",
       "      <th></th>\n",
       "      <th>game_category</th>\n",
       "      <th>sentiment_category</th>\n",
       "      <th>Tweet</th>\n",
       "      <th>tweet_clean</th>\n",
       "    </tr>\n",
       "  </thead>\n",
       "  <tbody>\n",
       "    <tr>\n",
       "      <th>0</th>\n",
       "      <td>Borderlands</td>\n",
       "      <td>Positive</td>\n",
       "      <td>im getting on borderlands and i will murder yo...</td>\n",
       "      <td>im getting borderlands murder</td>\n",
       "    </tr>\n",
       "    <tr>\n",
       "      <th>1</th>\n",
       "      <td>Borderlands</td>\n",
       "      <td>Positive</td>\n",
       "      <td>I am coming to the borders and I will kill you...</td>\n",
       "      <td>coming borders kill</td>\n",
       "    </tr>\n",
       "    <tr>\n",
       "      <th>2</th>\n",
       "      <td>Borderlands</td>\n",
       "      <td>Positive</td>\n",
       "      <td>im getting on borderlands and i will kill you ...</td>\n",
       "      <td>im getting borderlands kill</td>\n",
       "    </tr>\n",
       "    <tr>\n",
       "      <th>3</th>\n",
       "      <td>Borderlands</td>\n",
       "      <td>Positive</td>\n",
       "      <td>im coming on borderlands and i will murder you...</td>\n",
       "      <td>im coming borderlands murder</td>\n",
       "    </tr>\n",
       "    <tr>\n",
       "      <th>4</th>\n",
       "      <td>Borderlands</td>\n",
       "      <td>Positive</td>\n",
       "      <td>im getting on borderlands 2 and i will murder ...</td>\n",
       "      <td>im getting borderlands murder</td>\n",
       "    </tr>\n",
       "  </tbody>\n",
       "</table>\n",
       "</div>"
      ],
      "text/plain": [
       "  game_category sentiment_category  \\\n",
       "0   Borderlands           Positive   \n",
       "1   Borderlands           Positive   \n",
       "2   Borderlands           Positive   \n",
       "3   Borderlands           Positive   \n",
       "4   Borderlands           Positive   \n",
       "\n",
       "                                               Tweet  \\\n",
       "0  im getting on borderlands and i will murder yo...   \n",
       "1  I am coming to the borders and I will kill you...   \n",
       "2  im getting on borderlands and i will kill you ...   \n",
       "3  im coming on borderlands and i will murder you...   \n",
       "4  im getting on borderlands 2 and i will murder ...   \n",
       "\n",
       "                     tweet_clean  \n",
       "0  im getting borderlands murder  \n",
       "1            coming borders kill  \n",
       "2    im getting borderlands kill  \n",
       "3   im coming borderlands murder  \n",
       "4  im getting borderlands murder  "
      ]
     },
     "execution_count": 116,
     "metadata": {},
     "output_type": "execute_result"
    }
   ],
   "source": [
    "df.head()"
   ]
  },
  {
   "cell_type": "code",
   "execution_count": 131,
   "metadata": {},
   "outputs": [
    {
     "name": "stdout",
     "output_type": "stream",
     "text": [
      "Vocab size:  1000\n",
      "Vocab {'im': np.int64(432), 'getting': np.int64(350), 'borderlands': np.int64(85), 'coming': np.int64(152), 'kill': np.int64(459), 'spent': np.int64(803), 'hours': np.int64(420), 'making': np.int64(533), 'something': np.int64(792), 'fun': np.int64(336), 'know': np.int64(466), 'huge': np.int64(423), 'fan': np.int64(287), 'one': np.int64(609), 'favorite': np.int64(293), 'characters': np.int64(131), 'decided': np.int64(205), 'make': np.int64(531), 'pc': np.int64(633), 'original': np.int64(617), 'made': np.int64(527), 'enjoy': np.int64(253), 'pic': np.int64(638), 'twitter': np.int64(903), 'com': np.int64(149), 'couple': np.int64(172), 'rhandlerr': np.int64(719), 'hard': np.int64(395), 'xbox': np.int64(984), 'dlvr': np.int64(225), 'live': np.int64(499), 'music': np.int64(575), 'like': np.int64(490), 'first': np.int64(309), 'long': np.int64(507), 'time': np.int64(872), 'actually': np.int64(12), 'really': np.int64(699), 'experience': np.int64(277), 'got': np.int64(371), 'good': np.int64(370), 'kills': np.int64(462), 'enjoyed': np.int64(254), 'rather': np.int64(691), 'real': np.int64(698), 'nice': np.int64(593), 'wait': np.int64(930), 'hot': np.int64(418), 'row': np.int64(730), 'bad': np.int64(50), 'biggest': np.int64(75), 'life': np.int64(488), 'came': np.int64(112), 'year': np.int64(989), 'ago': np.int64(15), 'fuck': np.int64(330), 'back': np.int64(49), 'last': np.int64(469), 'finished': np.int64(307), 'finally': np.int64(303), 'thank': np.int64(856), 'everyone': np.int64(269), 'try': np.int64(894), 'stream': np.int64(822), 'tomorrow': np.int64(879), 'might': np.int64(549), 'see': np.int64(749), 'much': np.int64(573), 'find': np.int64(304), 'yes': np.int64(991), 'maybe': np.int64(543), 'thanks': np.int64(857), 'get': np.int64(348), 'would': np.int64(980), 'still': np.int64(815), 'update': np.int64(911), 'guys': np.int64(383), 'even': np.int64(265), 'go': np.int64(361), 'hope': np.int64(415), 'never': np.int64(588), 'hey': np.int64(407), 'use': np.int64(915), 'many': np.int64(535), 'man': np.int64(534), 'needs': np.int64(586), 'fix': np.int64(310), 'new': np.int64(589), 'dlc': np.int64(224), 'cant': np.int64(114), 'fine': np.int64(305), 'legendary': np.int64(482), 'drop': np.int64(233), 'else': np.int64(249), 'sucks': np.int64(831), 'completely': np.int64(158), 'days': np.int64(198), 'unk': np.int64(910), 'check': np.int64(134), 'epic': np.int64(259), 'streamer': np.int64(823), 'watch': np.int64(941), 'big': np.int64(74), 'little': np.int64(498), 'bit': np.int64(77), 'called': np.int64(110), 'early': np.int64(242), 'work': np.int64(972), 'sorry': np.int64(796), 'twitch': np.int64(902), 'tv': np.int64(899), 'morning': np.int64(569), 'love': np.int64(519), 'every': np.int64(268), 'heard': np.int64(400), 'stupid': np.int64(829), 'enough': np.int64(256), 'going': np.int64(365), 'finish': np.int64(306), 'today': np.int64(876), 'set': np.int64(760), 'looking': np.int64(511), 'forward': np.int64(322), 'starting': np.int64(811), 'hour': np.int64(419), 'start': np.int64(809), 'look': np.int64(509), 'awesome': np.int64(46), 'server': np.int64(757), 'probably': np.int64(670), 'play': np.int64(643), 'playing': np.int64(649), 'video': np.int64(925), 'ly': np.int64(524), 'say': np.int64(740), 'chat': np.int64(132), 'chance': np.int64(125), 'shout': np.int64(767), 'also': np.int64(22), 'shows': np.int64(771), 'via': np.int64(924), 'series': np.int64(755), 'hate': np.int64(396), 'easy': np.int64(246), 'event': np.int64(266), 'forever': np.int64(317), 'game': np.int64(339), 'since': np.int64(777), 'added': np.int64(14), 'horrible': np.int64(417), 'please': np.int64(653), 'give': np.int64(355), 'option': np.int64(614), 'turn': np.int64(897), 'pls': np.int64(654), 'simple': np.int64(775), 'terrible': np.int64(853), 'saying': np.int64(741), 'day': np.int64(197), 'thinking': np.int64(863), 'total': np.int64(883), 'absolutely': np.int64(3), 'ridiculous': np.int64(721), 'almost': np.int64(18), 'best': np.int64(69), 'taken': np.int64(842), 'past': np.int64(630), 'looked': np.int64(510), 'pretty': np.int64(667), 'cool': np.int64(170), 'despite': np.int64(214), 'yet': np.int64(993), 'another': np.int64(28), 'shitty': np.int64(762), 'die': np.int64(219), 'turned': np.int64(898), 'crap': np.int64(174), 'mobile': np.int64(561), 'top': np.int64(882), 'annoying': np.int64(27), 'seriously': np.int64(756), 'appreciate': np.int64(35), 'together': np.int64(877), 'talk': np.int64(845), 'action': np.int64(9), 'sound': np.int64(798), 'amazing': np.int64(24), 'brought': np.int64(100), 'pay': np.int64(632), 'entire': np.int64(258), 'fuckin': np.int64(332), 'trash': np.int64(889), 'damn': np.int64(194), 'fucking': np.int64(333), 'shit': np.int64(761), 'played': np.int64(645), 'actual': np.int64(11), 'great': np.int64(376), 'feel': np.int64(295), 'felt': np.int64(298), 'story': np.int64(820), 'hand': np.int64(387), 'weapons': np.int64(946), 'funny': np.int64(337), 'open': np.int64(611), 'someone': np.int64(791), 'side': np.int64(773), 'sure': np.int64(835), 'oh': np.int64(604), 'loving': np.int64(521), 'anyone': np.int64(30), 'ghost': np.int64(352), 'three': np.int64(868), 'want': np.int64(934), 'come': np.int64(150), 'gaming': np.int64(344), 'beautiful': np.int64(64), 'hell': np.int64(403), 'month': np.int64(567), 'already': np.int64(21), 'bitch': np.int64(78), 'ok': np.int64(605), 'anything': np.int64(31), 'gets': np.int64(349), 'seeing': np.int64(750), 'take': np.int64(841), 'sir': np.int64(779), 'games': np.int64(343), 'room': np.int64(728), 'deleted': np.int64(211), 'watching': np.int64(943), 'cross': np.int64(180), 'overwatch': np.int64(621), 'mode': np.int64(562), 'future': np.int64(338), 'fantasy': np.int64(290), 'switch': np.int64(838), 'loot': np.int64(513), 'lot': np.int64(517), 'reason': np.int64(700), 'run': np.int64(732), 'war': np.int64(937), 'high': np.int64(409), 'moment': np.int64(564), 'launch': np.int64(475), 'csgo': np.int64(183), 'computer': np.int64(159), 'crashes': np.int64(175), 'whole': np.int64(956), 'plus': np.int64(655), 'currently': np.int64(185), 'mind': np.int64(551), 'king': np.int64(465), 'quality': np.int64(682), 'makes': np.int64(532), 'well': np.int64(952), 'runs': np.int64(734), 'dumb': np.int64(236), 'internet': np.int64(443), 'lmao': np.int64(501), 'streaming': np.int64(825), 'step': np.int64(814), 'wikipedia': np.int64(957), 'org': np.int64(616), 'omg': np.int64(608), 'ever': np.int64(267), 'late': np.int64(470), 'seems': np.int64(752), 'broken': np.int64(98), 'constantly': np.int64(165), 'less': np.int64(484), 'possible': np.int64(661), 'swear': np.int64(836), 'kinda': np.int64(464), 'people': np.int64(634), 'fast': np.int64(292), 'next': np.int64(591), 'gold': np.int64(366), 'worked': np.int64(973), 'cut': np.int64(186), 'rest': np.int64(715), 'two': np.int64(904), 'us': np.int64(914), 'wall': np.int64(932), 'says': np.int64(742), 'fact': np.int64(282), 'taking': np.int64(844), 'tonight': np.int64(880), 'end': np.int64(251), 'better': np.int64(71), 'part': np.int64(627), 'happy': np.int64(394), 'due': np.int64(235), 'business': np.int64(106), 'problem': np.int64(671), 'far': np.int64(291), 'always': np.int64(23), 'around': np.int64(37), 'weekend': np.int64(948), 'done': np.int64(227), 'enjoying': np.int64(255), 'loved': np.int64(520), 'old': np.int64(607), 'night': np.int64(594), 'towards': np.int64(886), 'art': np.int64(38), 'follow': np.int64(314), 'works': np.int64(975), 'let': np.int64(485), 'pick': np.int64(639), 'league': np.int64(476), 'super': np.int64(833), 'stars': np.int64(808), 'playstation': np.int64(652), 'others': np.int64(619), 'beat': np.int64(63), 'literally': np.int64(497), 'things': np.int64(861), 'using': np.int64(917), 'girl': np.int64(354), 'fire': np.int64(308), 'gon': np.int64(368), 'na': np.int64(580), 'quit': np.int64(684), 'leave': np.int64(479), 'knows': np.int64(467), 'hyped': np.int64(425), 'movie': np.int64(572), 'guy': np.int64(382), 'bc': np.int64(62), 'okay': np.int64(606), 'kind': np.int64(463), 'think': np.int64(862), 'modern': np.int64(563), 'warfare': np.int64(939), 'ps': np.int64(674), 'co': np.int64(144), 'https': np.int64(422), 'group': np.int64(378), 'online': np.int64(610), 'collection': np.int64(148), 'welcome': np.int64(951), 'short': np.int64(765), 'true': np.int64(892), 'second': np.int64(747), 'fantastic': np.int64(289), 'wonderful': np.int64(969), 'line': np.int64(492), 'character': np.int64(130), 'players': np.int64(647), 'issues': np.int64(445), 'perfect': np.int64(635), 'fans': np.int64(288), 'close': np.int64(142), 'vs': np.int64(929), 'book': np.int64(84), 'patch': np.int64(631), 'latest': np.int64(473), 'ultimate': np.int64(908), 'level': np.int64(487), 'power': np.int64(664), 'idea': np.int64(427), 'happened': np.int64(391), 'hi': np.int64(408), 'though': np.int64(866), 'exactly': np.int64(272), 'congratulations': np.int64(161), 'playapex': np.int64(644), 'respawn': np.int64(713), 'callofduty': np.int64(111), 'cfduty': np.int64(122), 'special': np.int64(801), 'campaign': np.int64(113), 'putting': np.int64(681), 'strong': np.int64(826), 'ya': np.int64(986), 'cute': np.int64(187), 'content': np.int64(166), 'need': np.int64(585), 'away': np.int64(45), 'believe': np.int64(67), 'behind': np.int64(66), 'ranked': np.int64(690), 'ift': np.int64(429), 'tt': np.int64(896), 'rank': np.int64(689), 'black': np.int64(79), 'words': np.int64(971), 'en': np.int64(250), 'star': np.int64(807), 'tournament': np.int64(885), 'favourite': np.int64(294), 'screen': np.int64(744), 'feeling': np.int64(296), 'died': np.int64(220), 'season': np.int64(746), 'pass': np.int64(629), 'store': np.int64(818), 'card': np.int64(116), 'feels': np.int64(297), 'final': np.int64(302), 'later': np.int64(472), 'access': np.int64(5), 'mission': np.int64(557), 'nothing': np.int64(595), 'put': np.int64(680), 'console': np.int64(164), 'four': np.int64(324), 'hit': np.int64(411), 'started': np.int64(810), 'th': np.int64(855), 'stop': np.int64(816), 'dead': np.int64(200), 'times': np.int64(873), 'years': np.int64(990), 'friend': np.int64(328), 'recently': np.int64(702), 'rhttpr': np.int64(720), 'full': np.int64(334), 'continue': np.int64(167), 'home': np.int64(413), 'paid': np.int64(625), 'lots': np.int64(518), 'said': np.int64(737), 'phone': np.int64(637), 'months': np.int64(568), 'tell': np.int64(852), 'may': np.int64(542), 'extremely': np.int64(279), 'base': np.int64(57), 'happening': np.int64(392), 'keep': np.int64(454), 'plays': np.int64(651), 'social': np.int64(788), 'head': np.int64(397), 'definitely': np.int64(209), 'right': np.int64(722), 'film': np.int64(301), 'gearboxofficial': np.int64(347), 'understand': np.int64(909), 'dont': np.int64(228), 'twice': np.int64(901), 'crazy': np.int64(177), 'way': np.int64(944), 'working': np.int64(974), 'money': np.int64(566), 'wanted': np.int64(935), 'totally': np.int64(884), 'tch': np.int64(848), 'youtube': np.int64(997), 'solo': np.int64(789), 'channel': np.int64(129), 'id': np.int64(426), 'beyond': np.int64(72), 'buy': np.int64(107), 'idk': np.int64(428), 'class': np.int64(137), 'trying': np.int64(895), 'controller': np.int64(169), 'instagram': np.int64(440), 'imagine': np.int64(433), 'tried': np.int64(891), 'took': np.int64(881), 'barely': np.int64(56), 'pm': np.int64(657), 'rn': np.int64(724), 'episode': np.int64(260), 'fm': np.int64(313), 'fall': np.int64(285), 'damage': np.int64(193), 'lately': np.int64(471), 'facebook': np.int64(281), 'gun': np.int64(381), 'week': np.int64(947), 'able': np.int64(1), 'anymore': np.int64(29), 'tired': np.int64(874), 'anyway': np.int64(32), 'stories': np.int64(819), 'point': np.int64(658), 'weapon': np.int64(945), 'show': np.int64(769), 'excited': np.int64(274), 'main': np.int64(529), 'hear': np.int64(399), 'voice': np.int64(928), 'half': np.int64(386), 'yeah': np.int64(988), 'ass': np.int64(39), 'lose': np.int64(514), 'demon': np.int64(212), 'left': np.int64(480), 'holy': np.int64(412), 'sick': np.int64(772), 'ta': np.int64(840), 'must': np.int64(576), 'save': np.int64(738), 'read': np.int64(696), 'face': np.int64(280), 'dude': np.int64(234), 'fifa': np.int64(299), 'uk': np.int64(907), 'yesterday': np.int64(992), 'god': np.int64(363), 'miss': np.int64(554), 'forget': np.int64(318), 'usually': np.int64(918), 'worth': np.int64(979), 'liked': np.int64(491), 'sea': np.int64(745), 'battlefield': np.int64(61), 'talking': np.int64(846), 'happens': np.int64(393), 'accounts': np.int64(7), 'used': np.int64(916), 'return': np.int64(716), 'current': np.int64(184), 'could': np.int64(171), 'course': np.int64(173), 'major': np.int64(530), 'problems': np.int64(672), 'official': np.int64(602), 'lost': np.int64(516), 'running': np.int64(733), 'iii': np.int64(431), 'glad': np.int64(359), 'heart': np.int64(401), 'lol': np.int64(506), 'thought': np.int64(867), 'small': np.int64(786), 'cause': np.int64(121), 'quite': np.int64(685), 'hopefully': np.int64(416), 'white': np.int64(955), 'player': np.int64(646), 'haha': np.int64(385), 'dark': np.int64(195), 'mistake': np.int64(559), 'dope': np.int64(229), 'squad': np.int64(805), 'either': np.int64(248), 'hang': np.int64(389), 'comes': np.int64(151), 'eu': np.int64(264), 'sounds': np.int64(799), 'skin': np.int64(783), 'free': np.int64(327), 'issue': np.int64(444), 'alone': np.int64(19), 'log': np.int64(505), 'care': np.int64(118), 'steam': np.int64(813), 'lets': np.int64(486), 'garbage': np.int64(345), 'net': np.int64(587), 'youtu': np.int64(996), 'explain': np.int64(278), 'wan': np.int64(933), 'download': np.int64(231), 'without': np.int64(965), 'soundtrack': np.int64(800), 'absolute': np.int64(2), 'song': np.int64(794), 'classic': np.int64(138), 'dog': np.int64(226), 'audio': np.int64(43), 'build': np.int64(104), 'item': np.int64(447), 'company': np.int64(155), 'third': np.int64(864), 'simply': np.int64(776), 'rainbow': np.int64(687), 'market': np.int64(537), 'basically': np.int64(59), 'golden': np.int64(367), 'thing': np.int64(860), 'different': np.int64(221), 'edition': np.int64(247), 'complete': np.int64(157), 'system': np.int64(839), 'gave': np.int64(346), 'except': np.int64(273), 'loading': np.int64(503), 'whatever': np.int64(954), 'tho': np.int64(865), 'everything': np.int64(270), 'along': np.int64(20), 'bought': np.int64(87), 'crashing': np.int64(176), 'looks': np.int64(512), 'honestly': np.int64(414), 'add': np.int64(13), 'party': np.int64(628), 'community': np.int64(153), 'support': np.int64(834), 'insane': np.int64(438), 'incredible': np.int64(435), 'yo': np.int64(994), 'friends': np.int64(329), 'found': np.int64(323), 'went': np.int64(953), 'wrong': np.int64(982), 'safe': np.int64(736), 'somehow': np.int64(790), 'nearly': np.int64(584), 'code': np.int64(146), 'help': np.int64(405), 'bro': np.int64(96), 'delayed': np.int64(210), 'break': np.int64(92), 'breaking': np.int64(93), 'yall': np.int64(987), 'giving': np.int64(358), 'random': np.int64(688), 'boy': np.int64(89), 'stuff': np.int64(828), 'angry': np.int64(26), 'football': np.int64(316), 'st': np.int64(806), 'interesting': np.int64(442), 'opinion': np.int64(612), 'least': np.int64(478), 'match': np.int64(539), 'lit': np.int64(496), 'living': np.int64(500), 'exciting': np.int64(275), 'remember': np.int64(710), 'piece': np.int64(640), 'guess': np.int64(380), 'join': np.int64(451), 'family': np.int64(286), 'history': np.int64(410), 'ur': np.int64(913), 'review': np.int64(717), 'gta': np.int64(379), 'stay': np.int64(812), 'wtf': np.int64(983), 'worst': np.int64(978), 'single': np.int64(778), 'team': np.int64(849), 'sweet': np.int64(837), 'post': np.int64(662), 'list': np.int64(494), 'wow': np.int64(981), 'cod': np.int64(145), 'kids': np.int64(458), 'box': np.int64(88), 'boys': np.int64(90), 'straight': np.int64(821), 'goes': np.int64(364), 'thats': np.int64(858), 'link': np.int64(493), 'sad': np.int64(735), 'based': np.int64(58), 'name': np.int64(581), 'john': np.int64(450), 'zombies': np.int64(999), 'world': np.int64(976), 'achievement': np.int64(8), 'overall': np.int64(620), 'score': np.int64(743), 'app': np.int64(34), 'giveaway': np.int64(356), 'waiting': np.int64(931), 'buying': np.int64(108), 'graphics': np.int64(375), 'wonder': np.int64(968), 'da': np.int64(191), 'zero': np.int64(998), 'red': np.int64(704), 'date': np.int64(196), 'mad': np.int64(525), 'worse': np.int64(977), 'hello': np.int64(404), 'version': np.int64(923), 'sometimes': np.int64(793), 'awful': np.int64(47), 'hands': np.int64(388), 'pro': np.int64(669), 'bring': np.int64(95), 'become': np.int64(65), 'laugh': np.int64(474), 'especially': np.int64(262), 'proud': np.int64(673), 'losing': np.int64(515), 'skill': np.int64(782), 'park': np.int64(626), 'ready': np.int64(697), 'greatest': np.int64(377), 'release': np.int64(708), 'given': np.int64(357), 'mean': np.int64(544), 'ive': np.int64(448), 'order': np.int64(615), 'control': np.int64(168), 'death': np.int64(203), 'gone': np.int64(369), 'decent': np.int64(204), 'congrats': np.int64(160), 'women': np.int64(967), 'truly': np.int64(893), 'birthday': np.int64(76), 'news': np.int64(590), 'raid': np.int64(686), 'weird': np.int64(950), 'forgot': np.int64(319), 'followers': np.int64(315), 'jump': np.int64(453), 'fight': np.int64(300), 'sports': np.int64(804), 'matter': np.int64(541), 'bloody': np.int64(81), 'killed': np.int64(460), 'franchise': np.int64(326), 'dying': np.int64(238), 'blue': np.int64(82), 'goal': np.int64(362), 'stuck': np.int64(827), 'november': np.int64(596), 'moments': np.int64(565), 'happen': np.int64(390), 'including': np.int64(434), 'change': np.int64(126), 'city': np.int64(136), 'person': np.int64(636), 'nd': np.int64(583), 'service': np.int64(759), 'design': np.int64(213), 'massive': np.int64(538), 'poor': np.int64(660), 'shooting': np.int64(764), 'baby': np.int64(48), 'middle': np.int64(548), 'place': np.int64(642), 'means': np.int64(545), 'connect': np.int64(162), 'videos': np.int64(926), 'gotten': np.int64(372), 'inside': np.int64(439), 'call': np.int64(109), 'soon': np.int64(795), 'daily': np.int64(192), 'club': np.int64(143), 'killing': np.int64(461), 'removed': np.int64(712), 'servers': np.int64(758), 'ti': np.int64(870), 'fps': np.int64(325), 'gameplay': np.int64(340), 'flying': np.int64(312), 'deal': np.int64(201), 'released': np.int64(709), 'ii': np.int64(430), 'joke': np.int64(452), 'cheating': np.int64(133), 'hunter': np.int64(424), 'hacker': np.int64(384), 'number': np.int64(598), 'amount': np.int64(25), 'told': np.int64(878), 'wild': np.int64(958), 'mountain': np.int64(570), 'sense': np.int64(754), 'young': np.int64(995), 'clips': np.int64(141), 'six': np.int64(781), 'instead': np.int64(441), 'gamers': np.int64(342), 'ksupport': np.int64(468), 'account': np.int64(6), 'created': np.int64(178), 'decision': np.int64(206), 'map': np.int64(536), 'fully': np.int64(335), 'trailer': np.int64(888), 'evil': np.int64(271), 'cry': np.int64(181), 'move': np.int64(571), 'defense': np.int64(208), 'wish': np.int64(962), 'winning': np.int64(960), 'magic': np.int64(528), 'ending': np.int64(252), 'updates': np.int64(912), 'dear': np.int64(202), 'saw': np.int64(739), 'weeks': np.int64(949), 'fake': np.int64(284), 'posted': np.int64(663), 'light': np.int64(489), 'drive': np.int64(232), 'missed': np.int64(555), 'skins': np.int64(784), 'house': np.int64(421), 'tf': np.int64(854), 'plz': np.int64(656), 'obviously': np.int64(599), 'round': np.int64(729), 'million': np.int64(550), 'health': np.int64(398), 'disappointed': np.int64(223), 'pa': np.int64(622), 'watched': np.int64(942), 'ppl': np.int64(665), 'multiplayer': np.int64(574), 'ops': np.int64(613), 'cold': np.int64(147), 'boring': np.int64(86), 'mw': np.int64(578), 'streamers': np.int64(824), 'beta': np.int64(70), 'takes': np.int64(843), 'bullshit': np.int64(105), 'air': np.int64(17), 'treyarch': np.int64(890), 'packs': np.int64(623), 'title': np.int64(875), 'slow': np.int64(785), 'quick': np.int64(683), 'rip': np.int64(723), 'win': np.int64(959), 'smh': np.int64(787), 'duty': np.int64(237), 'pre': np.int64(666), 'longer': np.int64(508), 'shot': np.int64(766), 'sort': np.int64(797), 'teams': np.int64(851), 'gamer': np.int64(341), 'rt': np.int64(731), 'warzone': np.int64(940), 'battle': np.int64(60), 'challenge': np.int64(123), 'activision': np.int64(10), 'competitive': np.int64(156), 'ubisoft': np.int64(905), 'auto': np.int64(44), 'car': np.int64(115), 'fixed': np.int64(311), 'cards': np.int64(117), 'keeps': np.int64(455), 'italy': np.int64(446), 'dirty': np.int64(222), 'wants': np.int64(936), 'remove': np.int64(711), 'tweet': np.int64(900), 'within': np.int64(964), 'developers': np.int64(216), 'listen': np.int64(495), 'seem': np.int64(751), 'stopped': np.int64(817), 'luck': np.int64(523), 'job': np.int64(449), 'gg': np.int64(351), 'till': np.int64(871), 'tbh': np.int64(847), 'rd': np.int64(694), 'broke': np.int64(97), 'throw': np.int64(869), 'page': np.int64(624), 'showing': np.int64(770), 'clearly': np.int64(139), 'clip': np.int64(140), 'ai': np.int64(16), 'often': np.int64(603), 'brother': np.int64(99), 'fortnite': np.int64(320), 'shoot': np.int64(763), 'kid': np.int64(457), 'cuz': np.int64(188), 'fucked': np.int64(331), 'low': np.int64(522), 'suck': np.int64(830), 'infinityward': np.int64(437), 'punk': np.int64(679), 'bruh': np.int64(101), 'site': np.int64(780), 'mins': np.int64(552), 'word': np.int64(970), 'minutes': np.int64(553), 'missions': np.int64(558), 'changed': np.int64(127), 'details': np.int64(215), 'seen': np.int64(753), 'wins': np.int64(961), 'playoverwatch': np.int64(650), 'error': np.int64(261), 'toxic': np.int64(887), 'shoutout': np.int64(768), 'diamond': np.int64(217), 'blizzard': np.int64(80), 'comp': np.int64(154), 'hero': np.int64(406), 'suddenly': np.int64(832), 'changes': np.int64(128), 'brain': np.int64(91), 'ban': np.int64(52), 'body': np.int64(83), 'valorant': np.int64(920), 'matches': np.int64(540), 'points': np.int64(659), 'champions': np.int64(124), 'banning': np.int64(54), 'apex': np.int64(33), 'legends': np.int64(483), 'ent': np.int64(257), 'connection': np.int64(163), 'seconds': np.int64(748), 'xd': np.int64(985), 'ball': np.int64(51), 'banned': np.int64(53), 'ac': np.int64(4), 'bans': np.int64(55), 'men': np.int64(546), 'esports': np.int64(263), 'teammates': np.int64(850), 'load': np.int64(502), 'ea': np.int64(239), 'expansion': np.int64(276), 'kicked': np.int64(456), 'rating': np.int64(692), 'rewards': np.int64(718), 'cs': np.int64(182), 'chinese': np.int64(135), 'nfl': np.int64(592), 'nba': np.int64(582), 'respect': np.int64(714), 'missing': np.int64(556), 'ratings': np.int64(693), 'myteam': np.int64(579), 'received': np.int64(701), 'ronnie': np.int64(727), 'beluba': np.int64(68), 'spend': np.int64(802), 'vc': np.int64(922), 'db': np.int64(199), 'glitch': np.int64(360), 'easports': np.int64(244), 'government': np.int64(373), 'madden': np.int64(526), 'legend': np.int64(481), 'dota': np.int64(230), 'career': np.int64(119), 'lobby': np.int64(504), 'price': np.int64(668), 'bugs': np.int64(103), 'aa': np.int64(0), 'redd': np.int64(705), 'casey': np.int64(120), 'bug': np.int64(102), 'warcraft': np.int64(938), 'valve': np.int64(921), 'failed': np.int64(283), 'grand': np.int64(374), 'india': np.int64(436), 'valhalla': np.int64(919), 'meta': np.int64(547), 'dice': np.int64(218), 'ping': np.int64(641), 'earned': np.int64(243), 'vision': np.int64(927), 'siege': np.int64(774), 'assassin': np.int64(40), 'creed': np.int64(179), 'hearthstone': np.int64(402), 'mixer': np.int64(560), 'bf': np.int64(73), 'deck': np.int64(207), 'cyberpunk': np.int64(189), 'wn': np.int64(966), 'nr': np.int64(597), 'pubg': np.int64(677), 'assassins': np.int64(41), 'odyssey': np.int64(601), 'assassinscreed': np.int64(42), 'origins': np.int64(618), 'witcher': np.int64(963), 'pts': np.int64(675), 'ubisoftsupport': np.int64(906), 'theft': np.int64(859), 'occurred': np.int64(600), 'rockstar': np.int64(725), 'eahelp': np.int64(240), 'pub': np.int64(676), 'leagueoflegends': np.int64(477), 'fortnitegame': np.int64(321), 'apps': np.int64(36), 'playhearthstone': np.int64(648), 'redemption': np.int64(707), 'rdr': np.int64(695), 'recon': np.int64(703), 'pubgmobile': np.int64(678), 'redeeming': np.int64(706), 'easportsfifa': np.int64(245), 'rockstargames': np.int64(726), 'eamaddennfl': np.int64(241), 'mut': np.int64(577), 'cyberpunkgame': np.int64(190), 'ghostrecon': np.int64(353), 'breakpoint': np.int64(94)}\n"
     ]
    }
   ],
   "source": [
    "from sklearn.model_selection import train_test_split\n",
    "from sklearn.feature_extraction.text import TfidfVectorizer\n",
    "from sklearn.ensemble import RandomForestClassifier\n",
    "from sklearn.metrics import classification_report\n",
    "from sklearn.preprocessing import LabelEncoder\n",
    "\n",
    "vectorizer = TfidfVectorizer(\n",
    "    max_features = 1000\n",
    ")\n",
    "X = vectorizer.fit_transform(df['tweet_clean'])\n",
    "\n",
    "print(\"Vocab size: \", len(vectorizer.vocabulary_))\n",
    "print(\"Vocab\", vectorizer.vocabulary_)"
   ]
  },
  {
   "cell_type": "code",
   "execution_count": 127,
   "metadata": {},
   "outputs": [],
   "source": [
    "# Encodage des catégories\n",
    "sentiments = LabelEncoder()\n",
    "df['sentiment_category_encoded'] = sentiments.fit_transform(df['sentiment_category'])\n",
    "y = df['sentiment_category_encoded']\n",
    "\n",
    "# Division des données\n",
    "X_train, X_test, y_train, y_test = train_test_split(X, y, test_size=0.3, random_state=42)"
   ]
  },
  {
   "cell_type": "code",
   "execution_count": 118,
   "metadata": {},
   "outputs": [],
   "source": [
    "# from sklearn.model_selection import GridSearchCV\n",
    "\n",
    "# # Définir les hyperparamètres à tester\n",
    "# param_grid = {\n",
    "#     'n_estimators': [100, 200],  # Nombre d'arbres\n",
    "#     'max_depth': [None, 6],  # Profondeur maximale de l'arbre\n",
    "#     'min_samples_split': [2, 5],  # Nombre minimal d'échantillons pour diviser un nœud\n",
    "#     'min_samples_leaf': [1, 2]     # Nombre minimal d'échantillons dans une feuille\n",
    "# }\n",
    "\n",
    "# # Instanciation du modèle\n",
    "# rf_model = RandomForestClassifier()\n",
    "\n",
    "# # GridSearchCV\n",
    "# grid_search = GridSearchCV(estimator=rf_model, \n",
    "#                            param_grid=param_grid, \n",
    "#                            scoring='accuracy',  # Vous pouvez utiliser une métrique adaptée à vos données\n",
    "#                            cv=5,                  # Nombre de folds pour la validation croisée\n",
    "#                            verbose=1)            \n",
    "\n",
    "# grid_search.fit(X_train, y_train)\n",
    "\n",
    "# # Get the best parameters and score\n",
    "# best_params = grid_search.best_params_\n",
    "# best_score = grid_search.best_score_\n",
    "\n",
    "# print(\"Best Parameters:\", best_params)\n",
    "# print(\"Best Score:\", best_score)"
   ]
  },
  {
   "cell_type": "code",
   "execution_count": 128,
   "metadata": {},
   "outputs": [
    {
     "name": "stdout",
     "output_type": "stream",
     "text": [
      "              precision    recall  f1-score   support\n",
      "\n",
      "    Negative       0.91      0.88      0.89      4588\n",
      "     Neutral       0.84      0.91      0.88      5759\n",
      "    Positive       0.90      0.84      0.87      4293\n",
      "\n",
      "    accuracy                           0.88     14640\n",
      "   macro avg       0.89      0.88      0.88     14640\n",
      "weighted avg       0.88      0.88      0.88     14640\n",
      "\n"
     ]
    }
   ],
   "source": [
    "# Modèle\n",
    "#model = RandomForestClassifier(**param_grid)\n",
    "model = RandomForestClassifier()\n",
    "model.fit(X_train, y_train)\n",
    "\n",
    "# Prédictions\n",
    "y_pred = model.predict(X_test)\n",
    "\n",
    "# Rapport de classification\n",
    "print(classification_report(y_test, y_pred, target_names=sentiments.classes_))"
   ]
  },
  {
   "cell_type": "code",
   "execution_count": 120,
   "metadata": {},
   "outputs": [
    {
     "name": "stdout",
     "output_type": "stream",
     "text": [
      "Tweet: I love playing Call of Duty, the action is incredible!\n",
      "Predicted Sentiment: 2 = Positive\n",
      "Tweet: Borderlands 3 is such an amazing game, highly recommended!\n",
      "Predicted Sentiment: 2 = Positive\n",
      "Tweet: Dota2's community is so toxic, it's hard to enjoy the game sometimes.\n",
      "Predicted Sentiment: 0 = Negative\n",
      "Tweet: Cyberpunk2077 still has bugs even after all these patches.\n",
      "Predicted Sentiment: 0 = Negative\n",
      "Tweet: AssassinsCreed's open worlds are impressive, but they can feel overwhelming.\n",
      "Predicted Sentiment: 2 = Positive\n",
      "Tweet: Thinking about trying out Cyberpunk 2077; heard mixed reviews. #Cyberpunk2077\n",
      "Predicted Sentiment: 1 = Neutral\n",
      "Tweet: Did you know Overwatch lore? But I'm not into gaming much.\n",
      "Predicted Sentiment: 1 = Neutral\n",
      "Tweet: Fortnite is creative with its events, but I'm not into building mechanics.\n",
      "Predicted Sentiment: 1 = Neutral\n"
     ]
    }
   ],
   "source": [
    "# Exemple de tweets à prédire\n",
    "new_tweets = [\n",
    "    # Positive\n",
    "    \"I love playing Call of Duty, the action is incredible!\",\n",
    "    \"Borderlands 3 is such an amazing game, highly recommended!\",\n",
    "    # Negative\n",
    "    \"Dota2's community is so toxic, it's hard to enjoy the game sometimes.\",\n",
    "    \"Cyberpunk2077 still has bugs even after all these patches.\",\n",
    "    # Neutral\n",
    "    \"AssassinsCreed's open worlds are impressive, but they can feel overwhelming.\",\n",
    "    \"Thinking about trying out Cyberpunk 2077; heard mixed reviews. #Cyberpunk2077\",\n",
    "    \"Did you know Overwatch lore? But I'm not into gaming much.\",\n",
    "    \"Fortnite is creative with its events, but I'm not into building mechanics.\"\n",
    "]\n",
    "\n",
    "# Vectoriser les nouveaux tweets\n",
    "new_tweets_tfidf = vectorizer.transform(new_tweets)\n",
    "\n",
    "# Faire les prédictions\n",
    "predicted_sentiments = model.predict(new_tweets_tfidf)\n",
    "\n",
    "# Afficher les résultats\n",
    "for tweet, sentiment in zip(new_tweets, predicted_sentiments):\n",
    "    sentiment_class = sentiments.inverse_transform([sentiment])[0]\n",
    "    print(f\"Tweet: {tweet}\")\n",
    "    print(f\"Predicted Sentiment: {sentiment} = {sentiment_class}\")"
   ]
  }
 ],
 "metadata": {
  "kernelspec": {
   "display_name": "env",
   "language": "python",
   "name": "python3"
  },
  "language_info": {
   "codemirror_mode": {
    "name": "ipython",
    "version": 3
   },
   "file_extension": ".py",
   "mimetype": "text/x-python",
   "name": "python",
   "nbconvert_exporter": "python",
   "pygments_lexer": "ipython3",
   "version": "3.11.7"
  }
 },
 "nbformat": 4,
 "nbformat_minor": 2
}
