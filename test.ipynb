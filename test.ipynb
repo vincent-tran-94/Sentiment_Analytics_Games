{
 "cells": [
  {
   "cell_type": "code",
   "execution_count": 630,
   "metadata": {},
   "outputs": [],
   "source": [
    "import pandas as pd"
   ]
  },
  {
   "cell_type": "code",
   "execution_count": 631,
   "metadata": {},
   "outputs": [],
   "source": [
    "df = pd.read_csv(\"twitter_training.csv\",names=[\"index_category\", \"game_category\",\"sentiment_category\",\"Tweet\"])"
   ]
  },
  {
   "cell_type": "code",
   "execution_count": 632,
   "metadata": {},
   "outputs": [
    {
     "data": {
      "text/html": [
       "<div>\n",
       "<style scoped>\n",
       "    .dataframe tbody tr th:only-of-type {\n",
       "        vertical-align: middle;\n",
       "    }\n",
       "\n",
       "    .dataframe tbody tr th {\n",
       "        vertical-align: top;\n",
       "    }\n",
       "\n",
       "    .dataframe thead th {\n",
       "        text-align: right;\n",
       "    }\n",
       "</style>\n",
       "<table border=\"1\" class=\"dataframe\">\n",
       "  <thead>\n",
       "    <tr style=\"text-align: right;\">\n",
       "      <th></th>\n",
       "      <th>index_category</th>\n",
       "      <th>game_category</th>\n",
       "      <th>sentiment_category</th>\n",
       "      <th>Tweet</th>\n",
       "    </tr>\n",
       "  </thead>\n",
       "  <tbody>\n",
       "    <tr>\n",
       "      <th>0</th>\n",
       "      <td>2401</td>\n",
       "      <td>Borderlands</td>\n",
       "      <td>Positive</td>\n",
       "      <td>im getting on borderlands and i will murder yo...</td>\n",
       "    </tr>\n",
       "    <tr>\n",
       "      <th>1</th>\n",
       "      <td>2401</td>\n",
       "      <td>Borderlands</td>\n",
       "      <td>Positive</td>\n",
       "      <td>I am coming to the borders and I will kill you...</td>\n",
       "    </tr>\n",
       "    <tr>\n",
       "      <th>2</th>\n",
       "      <td>2401</td>\n",
       "      <td>Borderlands</td>\n",
       "      <td>Positive</td>\n",
       "      <td>im getting on borderlands and i will kill you ...</td>\n",
       "    </tr>\n",
       "    <tr>\n",
       "      <th>3</th>\n",
       "      <td>2401</td>\n",
       "      <td>Borderlands</td>\n",
       "      <td>Positive</td>\n",
       "      <td>im coming on borderlands and i will murder you...</td>\n",
       "    </tr>\n",
       "    <tr>\n",
       "      <th>4</th>\n",
       "      <td>2401</td>\n",
       "      <td>Borderlands</td>\n",
       "      <td>Positive</td>\n",
       "      <td>im getting on borderlands 2 and i will murder ...</td>\n",
       "    </tr>\n",
       "  </tbody>\n",
       "</table>\n",
       "</div>"
      ],
      "text/plain": [
       "   index_category game_category sentiment_category  \\\n",
       "0            2401   Borderlands           Positive   \n",
       "1            2401   Borderlands           Positive   \n",
       "2            2401   Borderlands           Positive   \n",
       "3            2401   Borderlands           Positive   \n",
       "4            2401   Borderlands           Positive   \n",
       "\n",
       "                                               Tweet  \n",
       "0  im getting on borderlands and i will murder yo...  \n",
       "1  I am coming to the borders and I will kill you...  \n",
       "2  im getting on borderlands and i will kill you ...  \n",
       "3  im coming on borderlands and i will murder you...  \n",
       "4  im getting on borderlands 2 and i will murder ...  "
      ]
     },
     "execution_count": 632,
     "metadata": {},
     "output_type": "execute_result"
    }
   ],
   "source": [
    "df.head()"
   ]
  },
  {
   "cell_type": "code",
   "execution_count": 633,
   "metadata": {},
   "outputs": [
    {
     "name": "stdout",
     "output_type": "stream",
     "text": [
      "Taille de données restant: (74682, 4)\n"
     ]
    }
   ],
   "source": [
    "print(\"Taille de données restant:\", df.shape)"
   ]
  },
  {
   "cell_type": "code",
   "execution_count": 634,
   "metadata": {},
   "outputs": [
    {
     "data": {
      "text/html": [
       "<div>\n",
       "<style scoped>\n",
       "    .dataframe tbody tr th:only-of-type {\n",
       "        vertical-align: middle;\n",
       "    }\n",
       "\n",
       "    .dataframe tbody tr th {\n",
       "        vertical-align: top;\n",
       "    }\n",
       "\n",
       "    .dataframe thead th {\n",
       "        text-align: right;\n",
       "    }\n",
       "</style>\n",
       "<table border=\"1\" class=\"dataframe\">\n",
       "  <thead>\n",
       "    <tr style=\"text-align: right;\">\n",
       "      <th></th>\n",
       "      <th>game_category</th>\n",
       "      <th>sentiment_category</th>\n",
       "      <th>Tweet</th>\n",
       "    </tr>\n",
       "  </thead>\n",
       "  <tbody>\n",
       "    <tr>\n",
       "      <th>0</th>\n",
       "      <td>Borderlands</td>\n",
       "      <td>Positive</td>\n",
       "      <td>im getting on borderlands and i will murder yo...</td>\n",
       "    </tr>\n",
       "    <tr>\n",
       "      <th>1</th>\n",
       "      <td>Borderlands</td>\n",
       "      <td>Positive</td>\n",
       "      <td>I am coming to the borders and I will kill you...</td>\n",
       "    </tr>\n",
       "    <tr>\n",
       "      <th>2</th>\n",
       "      <td>Borderlands</td>\n",
       "      <td>Positive</td>\n",
       "      <td>im getting on borderlands and i will kill you ...</td>\n",
       "    </tr>\n",
       "    <tr>\n",
       "      <th>3</th>\n",
       "      <td>Borderlands</td>\n",
       "      <td>Positive</td>\n",
       "      <td>im coming on borderlands and i will murder you...</td>\n",
       "    </tr>\n",
       "    <tr>\n",
       "      <th>4</th>\n",
       "      <td>Borderlands</td>\n",
       "      <td>Positive</td>\n",
       "      <td>im getting on borderlands 2 and i will murder ...</td>\n",
       "    </tr>\n",
       "  </tbody>\n",
       "</table>\n",
       "</div>"
      ],
      "text/plain": [
       "  game_category sentiment_category  \\\n",
       "0   Borderlands           Positive   \n",
       "1   Borderlands           Positive   \n",
       "2   Borderlands           Positive   \n",
       "3   Borderlands           Positive   \n",
       "4   Borderlands           Positive   \n",
       "\n",
       "                                               Tweet  \n",
       "0  im getting on borderlands and i will murder yo...  \n",
       "1  I am coming to the borders and I will kill you...  \n",
       "2  im getting on borderlands and i will kill you ...  \n",
       "3  im coming on borderlands and i will murder you...  \n",
       "4  im getting on borderlands 2 and i will murder ...  "
      ]
     },
     "execution_count": 634,
     "metadata": {},
     "output_type": "execute_result"
    }
   ],
   "source": [
    "df = df.drop(columns='index_category',axis=1)\n",
    "df.head()"
   ]
  },
  {
   "cell_type": "code",
   "execution_count": 635,
   "metadata": {},
   "outputs": [],
   "source": [
    "df.to_csv(\"new_twitter_training.csv\",index=False)"
   ]
  },
  {
   "cell_type": "code",
   "execution_count": 636,
   "metadata": {},
   "outputs": [
    {
     "name": "stdout",
     "output_type": "stream",
     "text": [
      "Taille de données restant: (71061, 3)\n"
     ]
    }
   ],
   "source": [
    "df = df.drop_duplicates()\n",
    "print(\"Taille de données restant:\", df.shape)\n"
   ]
  },
  {
   "cell_type": "code",
   "execution_count": 637,
   "metadata": {},
   "outputs": [],
   "source": [
    "exclude_categories = ['johnson&johnson', 'Amazon','Nvidia','PlayStation5(PS5)','Xbox(Xseries)','HomeDepot','Verizon','Facebook','Google','Microsoft']\n",
    "\n",
    "df = df[~df['game_category'].isin(exclude_categories)]"
   ]
  },
  {
   "cell_type": "code",
   "execution_count": 638,
   "metadata": {},
   "outputs": [],
   "source": [
    "df['sentiment_category'] = df['sentiment_category'].replace('Irrelevant', 'Neutral')"
   ]
  },
  {
   "cell_type": "code",
   "execution_count": 639,
   "metadata": {},
   "outputs": [
    {
     "name": "stdout",
     "output_type": "stream",
     "text": [
      "Taille de données restant: (48799, 3)\n"
     ]
    }
   ],
   "source": [
    "print(\"Taille de données restant:\", df.shape)"
   ]
  },
  {
   "cell_type": "code",
   "execution_count": 640,
   "metadata": {},
   "outputs": [
    {
     "data": {
      "text/html": [
       "<div>\n",
       "<style scoped>\n",
       "    .dataframe tbody tr th:only-of-type {\n",
       "        vertical-align: middle;\n",
       "    }\n",
       "\n",
       "    .dataframe tbody tr th {\n",
       "        vertical-align: top;\n",
       "    }\n",
       "\n",
       "    .dataframe thead th {\n",
       "        text-align: right;\n",
       "    }\n",
       "</style>\n",
       "<table border=\"1\" class=\"dataframe\">\n",
       "  <thead>\n",
       "    <tr style=\"text-align: right;\">\n",
       "      <th></th>\n",
       "      <th>game_category</th>\n",
       "      <th>sentiment_category</th>\n",
       "      <th>Tweet</th>\n",
       "    </tr>\n",
       "  </thead>\n",
       "  <tbody>\n",
       "    <tr>\n",
       "      <th>0</th>\n",
       "      <td>Borderlands</td>\n",
       "      <td>Positive</td>\n",
       "      <td>im getting on borderlands and i will murder yo...</td>\n",
       "    </tr>\n",
       "    <tr>\n",
       "      <th>1</th>\n",
       "      <td>Borderlands</td>\n",
       "      <td>Positive</td>\n",
       "      <td>I am coming to the borders and I will kill you...</td>\n",
       "    </tr>\n",
       "    <tr>\n",
       "      <th>2</th>\n",
       "      <td>Borderlands</td>\n",
       "      <td>Positive</td>\n",
       "      <td>im getting on borderlands and i will kill you ...</td>\n",
       "    </tr>\n",
       "    <tr>\n",
       "      <th>3</th>\n",
       "      <td>Borderlands</td>\n",
       "      <td>Positive</td>\n",
       "      <td>im coming on borderlands and i will murder you...</td>\n",
       "    </tr>\n",
       "    <tr>\n",
       "      <th>4</th>\n",
       "      <td>Borderlands</td>\n",
       "      <td>Positive</td>\n",
       "      <td>im getting on borderlands 2 and i will murder ...</td>\n",
       "    </tr>\n",
       "  </tbody>\n",
       "</table>\n",
       "</div>"
      ],
      "text/plain": [
       "  game_category sentiment_category  \\\n",
       "0   Borderlands           Positive   \n",
       "1   Borderlands           Positive   \n",
       "2   Borderlands           Positive   \n",
       "3   Borderlands           Positive   \n",
       "4   Borderlands           Positive   \n",
       "\n",
       "                                               Tweet  \n",
       "0  im getting on borderlands and i will murder yo...  \n",
       "1  I am coming to the borders and I will kill you...  \n",
       "2  im getting on borderlands and i will kill you ...  \n",
       "3  im coming on borderlands and i will murder you...  \n",
       "4  im getting on borderlands 2 and i will murder ...  "
      ]
     },
     "execution_count": 640,
     "metadata": {},
     "output_type": "execute_result"
    }
   ],
   "source": [
    "df.head()"
   ]
  },
  {
   "cell_type": "markdown",
   "metadata": {},
   "source": [
    "## Data exploration"
   ]
  },
  {
   "cell_type": "markdown",
   "metadata": {},
   "source": [
    "### Liste des noms de jeux et entreprises"
   ]
  },
  {
   "cell_type": "code",
   "execution_count": 641,
   "metadata": {},
   "outputs": [
    {
     "name": "stdout",
     "output_type": "stream",
     "text": [
      "['Borderlands' 'CallOfDutyBlackopsColdWar' 'Overwatch' 'NBA2K' 'Dota2'\n",
      " 'WorldOfCraft' 'CS-GO' 'AssassinsCreed' 'ApexLegends' 'LeagueOfLegends'\n",
      " 'Fortnite' 'Hearthstone' 'Battlefield'\n",
      " 'PlayerUnknownsBattlegrounds(PUBG)' 'FIFA' 'RedDeadRedemption(RDR)'\n",
      " 'CallOfDuty' 'TomClancysRainbowSix' 'GrandTheftAuto(GTA)' 'MaddenNFL'\n",
      " 'Cyberpunk2077' 'TomClancysGhostRecon']\n"
     ]
    }
   ],
   "source": [
    "all_games_category = df['game_category'].unique()\n",
    "print(all_games_category)"
   ]
  },
  {
   "cell_type": "code",
   "execution_count": 642,
   "metadata": {},
   "outputs": [
    {
     "name": "stdout",
     "output_type": "stream",
     "text": [
      "['Positive' 'Neutral' 'Negative']\n"
     ]
    }
   ],
   "source": [
    "all_sentiments = df['sentiment_category'].unique()\n",
    "print(all_sentiments)"
   ]
  },
  {
   "cell_type": "code",
   "execution_count": 643,
   "metadata": {},
   "outputs": [
    {
     "name": "stdout",
     "output_type": "stream",
     "text": [
      "game_category\n",
      "ApexLegends                          2249\n",
      "AssassinsCreed                       2147\n",
      "Battlefield                          2240\n",
      "Borderlands                          2194\n",
      "CS-GO                                2173\n",
      "CallOfDuty                           2307\n",
      "CallOfDutyBlackopsColdWar            2237\n",
      "Cyberpunk2077                        2150\n",
      "Dota2                                2221\n",
      "FIFA                                 2226\n",
      "Fortnite                             2166\n",
      "GrandTheftAuto(GTA)                  2204\n",
      "Hearthstone                          2204\n",
      "LeagueOfLegends                      2231\n",
      "MaddenNFL                            2296\n",
      "NBA2K                                2292\n",
      "Overwatch                            2212\n",
      "PlayerUnknownsBattlegrounds(PUBG)    2116\n",
      "RedDeadRedemption(RDR)               2127\n",
      "TomClancysGhostRecon                 2266\n",
      "TomClancysRainbowSix                 2290\n",
      "WorldOfCraft                         2251\n",
      "Name: count, dtype: int64\n"
     ]
    }
   ],
   "source": [
    "counts_games = df['game_category'].value_counts().sort_index()\n",
    "print(counts_games)"
   ]
  },
  {
   "cell_type": "code",
   "execution_count": 644,
   "metadata": {},
   "outputs": [
    {
     "name": "stdout",
     "output_type": "stream",
     "text": [
      "sentiment_category\n",
      "Negative    15007\n",
      "Neutral     19453\n",
      "Positive    14339\n",
      "Name: count, dtype: int64\n"
     ]
    }
   ],
   "source": [
    "counts_sentiments = df['sentiment_category'].value_counts().sort_index()\n",
    "print(counts_sentiments)"
   ]
  },
  {
   "cell_type": "code",
   "execution_count": 645,
   "metadata": {},
   "outputs": [],
   "source": [
    "# import plotly.express as px\n",
    "# import plotly.io as pio\n",
    "# pio.templates.default = \"plotly_white\"\n",
    "\n",
    "# # Calculate the percentage of each sentiment class\n",
    "# sentiment_percentage = df['sentiment_category'].value_counts(normalize=True) * 100\n",
    "\n",
    "# # Convert the calculated percentages into DataFrame for plotting\n",
    "# percentage_df = pd.DataFrame({'Sentiment': sentiment_percentage.index, 'Percentage': sentiment_percentage.values})\n",
    "\n",
    "# # Plot the bar plot with percentages visible\n",
    "# fig = px.bar(percentage_df, x='Sentiment', y='Percentage', text='Percentage',\n",
    "#              title=\"Percentage of Each Sentiment Class\", labels={'Sentiment': 'Sentiment Class', 'Percentage': 'Percentage (%)'})\n",
    "# fig.update_traces(texttemplate='%{text:.2f}%', textposition='outside')\n",
    "# fig.update_layout(width=600, height=500)\n",
    "# fig.show()\n"
   ]
  },
  {
   "cell_type": "markdown",
   "metadata": {},
   "source": [
    "### Data preprocessing"
   ]
  },
  {
   "cell_type": "code",
   "execution_count": 646,
   "metadata": {},
   "outputs": [
    {
     "name": "stderr",
     "output_type": "stream",
     "text": [
      "[nltk_data] Downloading package punkt_tab to\n",
      "[nltk_data]     C:\\Users\\Vincent\\AppData\\Roaming\\nltk_data...\n",
      "[nltk_data]   Package punkt_tab is already up-to-date!\n",
      "[nltk_data] Downloading package stopwords to\n",
      "[nltk_data]     C:\\Users\\Vincent\\AppData\\Roaming\\nltk_data...\n",
      "[nltk_data]   Package stopwords is already up-to-date!\n"
     ]
    },
    {
     "data": {
      "text/plain": [
       "True"
      ]
     },
     "execution_count": 646,
     "metadata": {},
     "output_type": "execute_result"
    }
   ],
   "source": [
    "import numpy as np\n",
    "import re\n",
    "\n",
    "import nltk\n",
    "from nltk.corpus import stopwords\n",
    "nltk.download('punkt_tab')\n",
    "nltk.download('stopwords')"
   ]
  },
  {
   "cell_type": "code",
   "execution_count": 647,
   "metadata": {},
   "outputs": [],
   "source": [
    "english_stopwords = set(stopwords.words('english'))\n",
    "\n",
    "def clean_text(text):\n",
    "    if not isinstance(text, str):\n",
    "        return \"\"  # Retournez une chaîne vide si ce n'est pas une chaîne\n",
    "\n",
    "    # Replace all non-alphabetic characters with a space\n",
    "    cleaned_text = re.sub(r'[^a-zA-Z]', ' ', text)\n",
    "\n",
    "    # Convert text to lowercase\n",
    "    cleaned_text = cleaned_text.lower()\n",
    "\n",
    "    # Tokenize the text\n",
    "    tokens = nltk.word_tokenize(cleaned_text)\n",
    "\n",
    "    # Remove stopwords from the tokenized text\n",
    "    filtered_tokens = [word for word in tokens if word.lower() not in english_stopwords]\n",
    "\n",
    "    # Join the filtered tokens back into a single string\n",
    "    filtered_text = ' '.join(filtered_tokens)\n",
    "\n",
    "    return filtered_text\n",
    "\n",
    "df['tweet_clean'] = df['Tweet'].apply(clean_text)"
   ]
  },
  {
   "cell_type": "code",
   "execution_count": 648,
   "metadata": {},
   "outputs": [
    {
     "data": {
      "text/html": [
       "<div>\n",
       "<style scoped>\n",
       "    .dataframe tbody tr th:only-of-type {\n",
       "        vertical-align: middle;\n",
       "    }\n",
       "\n",
       "    .dataframe tbody tr th {\n",
       "        vertical-align: top;\n",
       "    }\n",
       "\n",
       "    .dataframe thead th {\n",
       "        text-align: right;\n",
       "    }\n",
       "</style>\n",
       "<table border=\"1\" class=\"dataframe\">\n",
       "  <thead>\n",
       "    <tr style=\"text-align: right;\">\n",
       "      <th></th>\n",
       "      <th>game_category</th>\n",
       "      <th>sentiment_category</th>\n",
       "      <th>Tweet</th>\n",
       "      <th>tweet_clean</th>\n",
       "    </tr>\n",
       "  </thead>\n",
       "  <tbody>\n",
       "    <tr>\n",
       "      <th>0</th>\n",
       "      <td>Borderlands</td>\n",
       "      <td>Positive</td>\n",
       "      <td>im getting on borderlands and i will murder yo...</td>\n",
       "      <td>im getting borderlands murder</td>\n",
       "    </tr>\n",
       "    <tr>\n",
       "      <th>1</th>\n",
       "      <td>Borderlands</td>\n",
       "      <td>Positive</td>\n",
       "      <td>I am coming to the borders and I will kill you...</td>\n",
       "      <td>coming borders kill</td>\n",
       "    </tr>\n",
       "    <tr>\n",
       "      <th>2</th>\n",
       "      <td>Borderlands</td>\n",
       "      <td>Positive</td>\n",
       "      <td>im getting on borderlands and i will kill you ...</td>\n",
       "      <td>im getting borderlands kill</td>\n",
       "    </tr>\n",
       "    <tr>\n",
       "      <th>3</th>\n",
       "      <td>Borderlands</td>\n",
       "      <td>Positive</td>\n",
       "      <td>im coming on borderlands and i will murder you...</td>\n",
       "      <td>im coming borderlands murder</td>\n",
       "    </tr>\n",
       "    <tr>\n",
       "      <th>4</th>\n",
       "      <td>Borderlands</td>\n",
       "      <td>Positive</td>\n",
       "      <td>im getting on borderlands 2 and i will murder ...</td>\n",
       "      <td>im getting borderlands murder</td>\n",
       "    </tr>\n",
       "  </tbody>\n",
       "</table>\n",
       "</div>"
      ],
      "text/plain": [
       "  game_category sentiment_category  \\\n",
       "0   Borderlands           Positive   \n",
       "1   Borderlands           Positive   \n",
       "2   Borderlands           Positive   \n",
       "3   Borderlands           Positive   \n",
       "4   Borderlands           Positive   \n",
       "\n",
       "                                               Tweet  \\\n",
       "0  im getting on borderlands and i will murder yo...   \n",
       "1  I am coming to the borders and I will kill you...   \n",
       "2  im getting on borderlands and i will kill you ...   \n",
       "3  im coming on borderlands and i will murder you...   \n",
       "4  im getting on borderlands 2 and i will murder ...   \n",
       "\n",
       "                     tweet_clean  \n",
       "0  im getting borderlands murder  \n",
       "1            coming borders kill  \n",
       "2    im getting borderlands kill  \n",
       "3   im coming borderlands murder  \n",
       "4  im getting borderlands murder  "
      ]
     },
     "execution_count": 648,
     "metadata": {},
     "output_type": "execute_result"
    }
   ],
   "source": [
    "df.head()"
   ]
  },
  {
   "cell_type": "code",
   "execution_count": 649,
   "metadata": {},
   "outputs": [],
   "source": [
    "from sklearn.model_selection import train_test_split\n",
    "from sklearn.feature_extraction.text import TfidfVectorizer\n",
    "from sklearn.ensemble import RandomForestClassifier\n",
    "from sklearn.metrics import classification_report\n",
    "from sklearn.preprocessing import LabelEncoder\n",
    "\n",
    "vectorizer = TfidfVectorizer(max_features=1000)\n",
    "X = vectorizer.fit_transform(df['tweet_clean'])\n",
    "\n",
    "# Encodage des catégories\n",
    "sentiments = LabelEncoder()\n",
    "df['sentiment_category_encoded'] = sentiments.fit_transform(df['sentiment_category'])\n",
    "\n",
    "y = df['sentiment_category_encoded']\n",
    "\n",
    "# Division des données\n",
    "X_train, X_test, y_train, y_test = train_test_split(X, y, test_size=0.3, random_state=42)"
   ]
  },
  {
   "cell_type": "code",
   "execution_count": 650,
   "metadata": {},
   "outputs": [],
   "source": [
    "# from sklearn.model_selection import GridSearchCV\n",
    "\n",
    "# # Définir les hyperparamètres à tester\n",
    "# param_grid = {\n",
    "#     'n_estimators': [100, 200],  # Nombre d'arbres\n",
    "#     'max_depth': [None, 6],  # Profondeur maximale de l'arbre\n",
    "#     'min_samples_split': [2, 5],  # Nombre minimal d'échantillons pour diviser un nœud\n",
    "#     'min_samples_leaf': [1, 2]     # Nombre minimal d'échantillons dans une feuille\n",
    "# }\n",
    "\n",
    "# # Instanciation du modèle\n",
    "# rf_model = RandomForestClassifier()\n",
    "\n",
    "# # GridSearchCV\n",
    "# grid_search = GridSearchCV(estimator=rf_model, \n",
    "#                            param_grid=param_grid, \n",
    "#                            scoring='accuracy',  # Vous pouvez utiliser une métrique adaptée à vos données\n",
    "#                            cv=5,                  # Nombre de folds pour la validation croisée\n",
    "#                            verbose=1)            \n",
    "\n",
    "# grid_search.fit(X_train, y_train)\n",
    "\n",
    "# # Get the best parameters and score\n",
    "# best_params = grid_search.best_params_\n",
    "# best_score = grid_search.best_score_\n",
    "\n",
    "# print(\"Best Parameters:\", best_params)\n",
    "# print(\"Best Score:\", best_score)"
   ]
  },
  {
   "cell_type": "code",
   "execution_count": 651,
   "metadata": {},
   "outputs": [
    {
     "name": "stdout",
     "output_type": "stream",
     "text": [
      "              precision    recall  f1-score   support\n",
      "\n",
      "    Negative       0.90      0.86      0.88      4588\n",
      "     Neutral       0.82      0.90      0.86      5759\n",
      "    Positive       0.88      0.81      0.84      4293\n",
      "\n",
      "    accuracy                           0.86     14640\n",
      "   macro avg       0.87      0.85      0.86     14640\n",
      "weighted avg       0.86      0.86      0.86     14640\n",
      "\n"
     ]
    }
   ],
   "source": [
    "# Modèle\n",
    "#model = RandomForestClassifier(**param_grid)\n",
    "model = RandomForestClassifier()\n",
    "model.fit(X_train, y_train)\n",
    "\n",
    "# Prédictions\n",
    "y_pred = model.predict(X_test)\n",
    "\n",
    "# Rapport de classification\n",
    "print(classification_report(y_test, y_pred, target_names=sentiments.classes_))"
   ]
  },
  {
   "cell_type": "code",
   "execution_count": 652,
   "metadata": {},
   "outputs": [
    {
     "name": "stdout",
     "output_type": "stream",
     "text": [
      "Tweet: I love playing Call of Duty, the action is incredible!\n",
      "Predicted Sentiment: 2 = Positive\n",
      "Tweet: Borderlands 3 is such an amazing game, highly recommended!\n",
      "Predicted Sentiment: 2 = Positive\n",
      "Tweet: Dota2's community is so toxic, it's hard to enjoy the game sometimes.\n",
      "Predicted Sentiment: 0 = Negative\n",
      "Tweet: Cyberpunk2077 still has bugs even after all these patches.\n",
      "Predicted Sentiment: 0 = Negative\n",
      "Tweet: AssassinsCreed's open worlds are impressive, but they can feel overwhelming.\n",
      "Predicted Sentiment: 1 = Neutral\n",
      "Tweet: Thinking about trying out Cyberpunk 2077; heard mixed reviews. #Cyberpunk2077\n",
      "Predicted Sentiment: 1 = Neutral\n",
      "Tweet: Did you know Overwatch lore? But I'm not into gaming much.\n",
      "Predicted Sentiment: 1 = Neutral\n",
      "Tweet: Fortnite is creative with its events, but I'm not into building mechanics.\n",
      "Predicted Sentiment: 1 = Neutral\n"
     ]
    }
   ],
   "source": [
    "# Exemple de tweets à prédire\n",
    "new_tweets = [\n",
    "    # Positive\n",
    "    \"I love playing Call of Duty, the action is incredible!\",\n",
    "    \"Borderlands 3 is such an amazing game, highly recommended!\",\n",
    "    # Negative\n",
    "    \"Dota2's community is so toxic, it's hard to enjoy the game sometimes.\",\n",
    "    \"Cyberpunk2077 still has bugs even after all these patches.\",\n",
    "    # Neutral\n",
    "    \"AssassinsCreed's open worlds are impressive, but they can feel overwhelming.\",\n",
    "    \"Thinking about trying out Cyberpunk 2077; heard mixed reviews. #Cyberpunk2077\",\n",
    "    \"Did you know Overwatch lore? But I'm not into gaming much.\",\n",
    "    \"Fortnite is creative with its events, but I'm not into building mechanics.\"\n",
    "]\n",
    "\n",
    "# Vectoriser les nouveaux tweets\n",
    "new_tweets_tfidf = vectorizer.transform(new_tweets)\n",
    "\n",
    "# Faire les prédictions\n",
    "predicted_sentiments = model.predict(new_tweets_tfidf)\n",
    "\n",
    "# Afficher les résultats\n",
    "for tweet, sentiment in zip(new_tweets, predicted_sentiments):\n",
    "    sentiment_class = sentiments.inverse_transform([sentiment])[0]\n",
    "    print(f\"Tweet: {tweet}\")\n",
    "    print(f\"Predicted Sentiment: {sentiment} = {sentiment_class}\")"
   ]
  }
 ],
 "metadata": {
  "kernelspec": {
   "display_name": "env",
   "language": "python",
   "name": "python3"
  },
  "language_info": {
   "codemirror_mode": {
    "name": "ipython",
    "version": 3
   },
   "file_extension": ".py",
   "mimetype": "text/x-python",
   "name": "python",
   "nbconvert_exporter": "python",
   "pygments_lexer": "ipython3",
   "version": "3.11.7"
  }
 },
 "nbformat": 4,
 "nbformat_minor": 2
}
