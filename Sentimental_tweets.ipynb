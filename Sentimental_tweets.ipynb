{
 "cells": [
  {
   "cell_type": "markdown",
   "metadata": {},
   "source": [
    "# Sentimental Tweets Videos Games"
   ]
  },
  {
   "cell_type": "code",
   "execution_count": 1,
   "metadata": {},
   "outputs": [],
   "source": [
    "import pandas as pd"
   ]
  },
  {
   "cell_type": "code",
   "execution_count": 2,
   "metadata": {},
   "outputs": [],
   "source": [
    "data_path = \"data\""
   ]
  },
  {
   "cell_type": "code",
   "execution_count": 3,
   "metadata": {},
   "outputs": [],
   "source": [
    "df = pd.read_csv(f\"{data_path}/twitter_training.csv\",names=[\"index_category\", \"game_category\",\"sentiment_category\",\"Tweet\"])"
   ]
  },
  {
   "cell_type": "code",
   "execution_count": 4,
   "metadata": {},
   "outputs": [
    {
     "data": {
      "text/html": [
       "<div>\n",
       "<style scoped>\n",
       "    .dataframe tbody tr th:only-of-type {\n",
       "        vertical-align: middle;\n",
       "    }\n",
       "\n",
       "    .dataframe tbody tr th {\n",
       "        vertical-align: top;\n",
       "    }\n",
       "\n",
       "    .dataframe thead th {\n",
       "        text-align: right;\n",
       "    }\n",
       "</style>\n",
       "<table border=\"1\" class=\"dataframe\">\n",
       "  <thead>\n",
       "    <tr style=\"text-align: right;\">\n",
       "      <th></th>\n",
       "      <th>index_category</th>\n",
       "      <th>game_category</th>\n",
       "      <th>sentiment_category</th>\n",
       "      <th>Tweet</th>\n",
       "    </tr>\n",
       "  </thead>\n",
       "  <tbody>\n",
       "    <tr>\n",
       "      <th>0</th>\n",
       "      <td>2401</td>\n",
       "      <td>Borderlands</td>\n",
       "      <td>Positive</td>\n",
       "      <td>im getting on borderlands and i will murder yo...</td>\n",
       "    </tr>\n",
       "    <tr>\n",
       "      <th>1</th>\n",
       "      <td>2401</td>\n",
       "      <td>Borderlands</td>\n",
       "      <td>Positive</td>\n",
       "      <td>I am coming to the borders and I will kill you...</td>\n",
       "    </tr>\n",
       "    <tr>\n",
       "      <th>2</th>\n",
       "      <td>2401</td>\n",
       "      <td>Borderlands</td>\n",
       "      <td>Positive</td>\n",
       "      <td>im getting on borderlands and i will kill you ...</td>\n",
       "    </tr>\n",
       "    <tr>\n",
       "      <th>3</th>\n",
       "      <td>2401</td>\n",
       "      <td>Borderlands</td>\n",
       "      <td>Positive</td>\n",
       "      <td>im coming on borderlands and i will murder you...</td>\n",
       "    </tr>\n",
       "    <tr>\n",
       "      <th>4</th>\n",
       "      <td>2401</td>\n",
       "      <td>Borderlands</td>\n",
       "      <td>Positive</td>\n",
       "      <td>im getting on borderlands 2 and i will murder ...</td>\n",
       "    </tr>\n",
       "  </tbody>\n",
       "</table>\n",
       "</div>"
      ],
      "text/plain": [
       "   index_category game_category sentiment_category  \\\n",
       "0            2401   Borderlands           Positive   \n",
       "1            2401   Borderlands           Positive   \n",
       "2            2401   Borderlands           Positive   \n",
       "3            2401   Borderlands           Positive   \n",
       "4            2401   Borderlands           Positive   \n",
       "\n",
       "                                               Tweet  \n",
       "0  im getting on borderlands and i will murder yo...  \n",
       "1  I am coming to the borders and I will kill you...  \n",
       "2  im getting on borderlands and i will kill you ...  \n",
       "3  im coming on borderlands and i will murder you...  \n",
       "4  im getting on borderlands 2 and i will murder ...  "
      ]
     },
     "execution_count": 4,
     "metadata": {},
     "output_type": "execute_result"
    }
   ],
   "source": [
    "df.head()"
   ]
  },
  {
   "cell_type": "code",
   "execution_count": 5,
   "metadata": {},
   "outputs": [
    {
     "name": "stdout",
     "output_type": "stream",
     "text": [
      "<class 'pandas.core.frame.DataFrame'>\n",
      "RangeIndex: 74682 entries, 0 to 74681\n",
      "Data columns (total 4 columns):\n",
      " #   Column              Non-Null Count  Dtype \n",
      "---  ------              --------------  ----- \n",
      " 0   index_category      74682 non-null  int64 \n",
      " 1   game_category       74682 non-null  object\n",
      " 2   sentiment_category  74682 non-null  object\n",
      " 3   Tweet               73996 non-null  object\n",
      "dtypes: int64(1), object(3)\n",
      "memory usage: 2.3+ MB\n"
     ]
    }
   ],
   "source": [
    "df.info()"
   ]
  },
  {
   "cell_type": "code",
   "execution_count": 6,
   "metadata": {},
   "outputs": [
    {
     "name": "stdout",
     "output_type": "stream",
     "text": [
      "Taille de données restant: (74682, 4)\n"
     ]
    }
   ],
   "source": [
    "print(\"Taille de données restant:\", df.shape)"
   ]
  },
  {
   "cell_type": "code",
   "execution_count": 7,
   "metadata": {},
   "outputs": [
    {
     "data": {
      "text/html": [
       "<div>\n",
       "<style scoped>\n",
       "    .dataframe tbody tr th:only-of-type {\n",
       "        vertical-align: middle;\n",
       "    }\n",
       "\n",
       "    .dataframe tbody tr th {\n",
       "        vertical-align: top;\n",
       "    }\n",
       "\n",
       "    .dataframe thead th {\n",
       "        text-align: right;\n",
       "    }\n",
       "</style>\n",
       "<table border=\"1\" class=\"dataframe\">\n",
       "  <thead>\n",
       "    <tr style=\"text-align: right;\">\n",
       "      <th></th>\n",
       "      <th>game_category</th>\n",
       "      <th>sentiment_category</th>\n",
       "      <th>Tweet</th>\n",
       "    </tr>\n",
       "  </thead>\n",
       "  <tbody>\n",
       "    <tr>\n",
       "      <th>0</th>\n",
       "      <td>Borderlands</td>\n",
       "      <td>Positive</td>\n",
       "      <td>im getting on borderlands and i will murder yo...</td>\n",
       "    </tr>\n",
       "    <tr>\n",
       "      <th>1</th>\n",
       "      <td>Borderlands</td>\n",
       "      <td>Positive</td>\n",
       "      <td>I am coming to the borders and I will kill you...</td>\n",
       "    </tr>\n",
       "    <tr>\n",
       "      <th>2</th>\n",
       "      <td>Borderlands</td>\n",
       "      <td>Positive</td>\n",
       "      <td>im getting on borderlands and i will kill you ...</td>\n",
       "    </tr>\n",
       "    <tr>\n",
       "      <th>3</th>\n",
       "      <td>Borderlands</td>\n",
       "      <td>Positive</td>\n",
       "      <td>im coming on borderlands and i will murder you...</td>\n",
       "    </tr>\n",
       "    <tr>\n",
       "      <th>4</th>\n",
       "      <td>Borderlands</td>\n",
       "      <td>Positive</td>\n",
       "      <td>im getting on borderlands 2 and i will murder ...</td>\n",
       "    </tr>\n",
       "  </tbody>\n",
       "</table>\n",
       "</div>"
      ],
      "text/plain": [
       "  game_category sentiment_category  \\\n",
       "0   Borderlands           Positive   \n",
       "1   Borderlands           Positive   \n",
       "2   Borderlands           Positive   \n",
       "3   Borderlands           Positive   \n",
       "4   Borderlands           Positive   \n",
       "\n",
       "                                               Tweet  \n",
       "0  im getting on borderlands and i will murder yo...  \n",
       "1  I am coming to the borders and I will kill you...  \n",
       "2  im getting on borderlands and i will kill you ...  \n",
       "3  im coming on borderlands and i will murder you...  \n",
       "4  im getting on borderlands 2 and i will murder ...  "
      ]
     },
     "execution_count": 7,
     "metadata": {},
     "output_type": "execute_result"
    }
   ],
   "source": [
    "df = df.drop(columns='index_category',axis=1)\n",
    "df.head()"
   ]
  },
  {
   "cell_type": "code",
   "execution_count": 8,
   "metadata": {},
   "outputs": [],
   "source": [
    "#df.to_csv(\"new_twitter_training.csv\",index=False)"
   ]
  },
  {
   "cell_type": "code",
   "execution_count": 9,
   "metadata": {},
   "outputs": [
    {
     "name": "stdout",
     "output_type": "stream",
     "text": [
      "game_category           0\n",
      "sentiment_category      0\n",
      "Tweet                 686\n",
      "dtype: int64\n"
     ]
    }
   ],
   "source": [
    "print(df.isnull().sum())"
   ]
  },
  {
   "cell_type": "code",
   "execution_count": 10,
   "metadata": {},
   "outputs": [
    {
     "name": "stdout",
     "output_type": "stream",
     "text": [
      "Avant la suppression des données manquantes:  74682\n",
      "Après la suppression des données manquantes:  73996\n"
     ]
    }
   ],
   "source": [
    "print(\"Avant la suppression des données manquantes: \",len(df))\n",
    "df = df.dropna()\n",
    "print(\"Après la suppression des données manquantes: \",len(df))"
   ]
  },
  {
   "cell_type": "code",
   "execution_count": 11,
   "metadata": {},
   "outputs": [
    {
     "name": "stdout",
     "output_type": "stream",
     "text": [
      "Taille de données restant: (70958, 3)\n"
     ]
    }
   ],
   "source": [
    "df = df.drop_duplicates()\n",
    "print(\"Taille de données restant:\", df.shape)"
   ]
  },
  {
   "cell_type": "code",
   "execution_count": 12,
   "metadata": {},
   "outputs": [],
   "source": [
    "exclude_categories = ['johnson&johnson', 'Amazon','Nvidia','PlayStation5(PS5)','Xbox(Xseries)','HomeDepot','Verizon','Facebook','Google','Microsoft']\n",
    "\n",
    "df = df[~df['game_category'].isin(exclude_categories)]"
   ]
  },
  {
   "cell_type": "code",
   "execution_count": 13,
   "metadata": {},
   "outputs": [],
   "source": [
    "df['sentiment_category'] = df['sentiment_category'].replace('Irrelevant', 'Neutral')"
   ]
  },
  {
   "cell_type": "code",
   "execution_count": 14,
   "metadata": {},
   "outputs": [
    {
     "name": "stdout",
     "output_type": "stream",
     "text": [
      "Taille de données restant: (48731, 3)\n"
     ]
    }
   ],
   "source": [
    "print(\"Taille de données restant:\", df.shape)"
   ]
  },
  {
   "cell_type": "code",
   "execution_count": 15,
   "metadata": {},
   "outputs": [
    {
     "data": {
      "text/html": [
       "<div>\n",
       "<style scoped>\n",
       "    .dataframe tbody tr th:only-of-type {\n",
       "        vertical-align: middle;\n",
       "    }\n",
       "\n",
       "    .dataframe tbody tr th {\n",
       "        vertical-align: top;\n",
       "    }\n",
       "\n",
       "    .dataframe thead th {\n",
       "        text-align: right;\n",
       "    }\n",
       "</style>\n",
       "<table border=\"1\" class=\"dataframe\">\n",
       "  <thead>\n",
       "    <tr style=\"text-align: right;\">\n",
       "      <th></th>\n",
       "      <th>game_category</th>\n",
       "      <th>sentiment_category</th>\n",
       "      <th>Tweet</th>\n",
       "    </tr>\n",
       "  </thead>\n",
       "  <tbody>\n",
       "    <tr>\n",
       "      <th>0</th>\n",
       "      <td>Borderlands</td>\n",
       "      <td>Positive</td>\n",
       "      <td>im getting on borderlands and i will murder yo...</td>\n",
       "    </tr>\n",
       "    <tr>\n",
       "      <th>1</th>\n",
       "      <td>Borderlands</td>\n",
       "      <td>Positive</td>\n",
       "      <td>I am coming to the borders and I will kill you...</td>\n",
       "    </tr>\n",
       "    <tr>\n",
       "      <th>2</th>\n",
       "      <td>Borderlands</td>\n",
       "      <td>Positive</td>\n",
       "      <td>im getting on borderlands and i will kill you ...</td>\n",
       "    </tr>\n",
       "    <tr>\n",
       "      <th>3</th>\n",
       "      <td>Borderlands</td>\n",
       "      <td>Positive</td>\n",
       "      <td>im coming on borderlands and i will murder you...</td>\n",
       "    </tr>\n",
       "    <tr>\n",
       "      <th>4</th>\n",
       "      <td>Borderlands</td>\n",
       "      <td>Positive</td>\n",
       "      <td>im getting on borderlands 2 and i will murder ...</td>\n",
       "    </tr>\n",
       "  </tbody>\n",
       "</table>\n",
       "</div>"
      ],
      "text/plain": [
       "  game_category sentiment_category  \\\n",
       "0   Borderlands           Positive   \n",
       "1   Borderlands           Positive   \n",
       "2   Borderlands           Positive   \n",
       "3   Borderlands           Positive   \n",
       "4   Borderlands           Positive   \n",
       "\n",
       "                                               Tweet  \n",
       "0  im getting on borderlands and i will murder yo...  \n",
       "1  I am coming to the borders and I will kill you...  \n",
       "2  im getting on borderlands and i will kill you ...  \n",
       "3  im coming on borderlands and i will murder you...  \n",
       "4  im getting on borderlands 2 and i will murder ...  "
      ]
     },
     "execution_count": 15,
     "metadata": {},
     "output_type": "execute_result"
    }
   ],
   "source": [
    "df.head()"
   ]
  },
  {
   "cell_type": "markdown",
   "metadata": {},
   "source": [
    "## Data exploration"
   ]
  },
  {
   "cell_type": "markdown",
   "metadata": {},
   "source": [
    "### Liste des noms de jeux et entreprises"
   ]
  },
  {
   "cell_type": "code",
   "execution_count": 16,
   "metadata": {},
   "outputs": [
    {
     "name": "stdout",
     "output_type": "stream",
     "text": [
      "['Borderlands' 'CallOfDutyBlackopsColdWar' 'Overwatch' 'NBA2K' 'Dota2'\n",
      " 'WorldOfCraft' 'CS-GO' 'AssassinsCreed' 'ApexLegends' 'LeagueOfLegends'\n",
      " 'Fortnite' 'Hearthstone' 'Battlefield'\n",
      " 'PlayerUnknownsBattlegrounds(PUBG)' 'FIFA' 'RedDeadRedemption(RDR)'\n",
      " 'CallOfDuty' 'TomClancysRainbowSix' 'GrandTheftAuto(GTA)' 'MaddenNFL'\n",
      " 'Cyberpunk2077' 'TomClancysGhostRecon']\n"
     ]
    }
   ],
   "source": [
    "all_games_category = df['game_category'].unique()\n",
    "print(all_games_category)"
   ]
  },
  {
   "cell_type": "code",
   "execution_count": 17,
   "metadata": {},
   "outputs": [
    {
     "name": "stdout",
     "output_type": "stream",
     "text": [
      "['Positive' 'Neutral' 'Negative']\n"
     ]
    }
   ],
   "source": [
    "all_sentiments = df['sentiment_category'].unique()\n",
    "print(all_sentiments)"
   ]
  },
  {
   "cell_type": "code",
   "execution_count": 18,
   "metadata": {},
   "outputs": [
    {
     "name": "stdout",
     "output_type": "stream",
     "text": [
      "game_category\n",
      "ApexLegends                          2246\n",
      "AssassinsCreed                       2145\n",
      "Battlefield                          2236\n",
      "Borderlands                          2192\n",
      "CS-GO                                2169\n",
      "CallOfDuty                           2304\n",
      "CallOfDutyBlackopsColdWar            2233\n",
      "Cyberpunk2077                        2146\n",
      "Dota2                                2218\n",
      "FIFA                                 2224\n",
      "Fortnite                             2162\n",
      "GrandTheftAuto(GTA)                  2201\n",
      "Hearthstone                          2201\n",
      "LeagueOfLegends                      2228\n",
      "MaddenNFL                            2294\n",
      "NBA2K                                2290\n",
      "Overwatch                            2208\n",
      "PlayerUnknownsBattlegrounds(PUBG)    2112\n",
      "RedDeadRedemption(RDR)               2124\n",
      "TomClancysGhostRecon                 2263\n",
      "TomClancysRainbowSix                 2287\n",
      "WorldOfCraft                         2248\n",
      "Name: count, dtype: int64\n"
     ]
    }
   ],
   "source": [
    "counts_games = df['game_category'].value_counts().sort_index()\n",
    "print(counts_games)"
   ]
  },
  {
   "cell_type": "code",
   "execution_count": 19,
   "metadata": {},
   "outputs": [
    {
     "name": "stdout",
     "output_type": "stream",
     "text": [
      "sentiment_category\n",
      "Negative    14986\n",
      "Neutral     19427\n",
      "Positive    14318\n",
      "Name: count, dtype: int64\n"
     ]
    }
   ],
   "source": [
    "counts_sentiments = df['sentiment_category'].value_counts().sort_index()\n",
    "print(counts_sentiments)"
   ]
  },
  {
   "cell_type": "code",
   "execution_count": 20,
   "metadata": {},
   "outputs": [
    {
     "data": {
      "application/vnd.plotly.v1+json": {
       "config": {
        "plotlyServerURL": "https://plot.ly"
       },
       "data": [
        {
         "alignmentgroup": "True",
         "hovertemplate": "Sentiment Class=%{x}<br>Percentage (%)=%{text}<extra></extra>",
         "legendgroup": "",
         "marker": {
          "color": "#636efa",
          "pattern": {
           "shape": ""
          }
         },
         "name": "",
         "offsetgroup": "",
         "orientation": "v",
         "showlegend": false,
         "text": [
          39.865793847858654,
          30.752498409636576,
          29.38170774250477
         ],
         "textposition": "outside",
         "texttemplate": "%{text:.2f}%",
         "type": "bar",
         "x": [
          "Neutral",
          "Negative",
          "Positive"
         ],
         "xaxis": "x",
         "y": [
          39.865793847858654,
          30.752498409636576,
          29.38170774250477
         ],
         "yaxis": "y"
        }
       ],
       "layout": {
        "barmode": "relative",
        "height": 500,
        "legend": {
         "tracegroupgap": 0
        },
        "template": {
         "data": {
          "bar": [
           {
            "error_x": {
             "color": "#2a3f5f"
            },
            "error_y": {
             "color": "#2a3f5f"
            },
            "marker": {
             "line": {
              "color": "white",
              "width": 0.5
             },
             "pattern": {
              "fillmode": "overlay",
              "size": 10,
              "solidity": 0.2
             }
            },
            "type": "bar"
           }
          ],
          "barpolar": [
           {
            "marker": {
             "line": {
              "color": "white",
              "width": 0.5
             },
             "pattern": {
              "fillmode": "overlay",
              "size": 10,
              "solidity": 0.2
             }
            },
            "type": "barpolar"
           }
          ],
          "carpet": [
           {
            "aaxis": {
             "endlinecolor": "#2a3f5f",
             "gridcolor": "#C8D4E3",
             "linecolor": "#C8D4E3",
             "minorgridcolor": "#C8D4E3",
             "startlinecolor": "#2a3f5f"
            },
            "baxis": {
             "endlinecolor": "#2a3f5f",
             "gridcolor": "#C8D4E3",
             "linecolor": "#C8D4E3",
             "minorgridcolor": "#C8D4E3",
             "startlinecolor": "#2a3f5f"
            },
            "type": "carpet"
           }
          ],
          "choropleth": [
           {
            "colorbar": {
             "outlinewidth": 0,
             "ticks": ""
            },
            "type": "choropleth"
           }
          ],
          "contour": [
           {
            "colorbar": {
             "outlinewidth": 0,
             "ticks": ""
            },
            "colorscale": [
             [
              0,
              "#0d0887"
             ],
             [
              0.1111111111111111,
              "#46039f"
             ],
             [
              0.2222222222222222,
              "#7201a8"
             ],
             [
              0.3333333333333333,
              "#9c179e"
             ],
             [
              0.4444444444444444,
              "#bd3786"
             ],
             [
              0.5555555555555556,
              "#d8576b"
             ],
             [
              0.6666666666666666,
              "#ed7953"
             ],
             [
              0.7777777777777778,
              "#fb9f3a"
             ],
             [
              0.8888888888888888,
              "#fdca26"
             ],
             [
              1,
              "#f0f921"
             ]
            ],
            "type": "contour"
           }
          ],
          "contourcarpet": [
           {
            "colorbar": {
             "outlinewidth": 0,
             "ticks": ""
            },
            "type": "contourcarpet"
           }
          ],
          "heatmap": [
           {
            "colorbar": {
             "outlinewidth": 0,
             "ticks": ""
            },
            "colorscale": [
             [
              0,
              "#0d0887"
             ],
             [
              0.1111111111111111,
              "#46039f"
             ],
             [
              0.2222222222222222,
              "#7201a8"
             ],
             [
              0.3333333333333333,
              "#9c179e"
             ],
             [
              0.4444444444444444,
              "#bd3786"
             ],
             [
              0.5555555555555556,
              "#d8576b"
             ],
             [
              0.6666666666666666,
              "#ed7953"
             ],
             [
              0.7777777777777778,
              "#fb9f3a"
             ],
             [
              0.8888888888888888,
              "#fdca26"
             ],
             [
              1,
              "#f0f921"
             ]
            ],
            "type": "heatmap"
           }
          ],
          "heatmapgl": [
           {
            "colorbar": {
             "outlinewidth": 0,
             "ticks": ""
            },
            "colorscale": [
             [
              0,
              "#0d0887"
             ],
             [
              0.1111111111111111,
              "#46039f"
             ],
             [
              0.2222222222222222,
              "#7201a8"
             ],
             [
              0.3333333333333333,
              "#9c179e"
             ],
             [
              0.4444444444444444,
              "#bd3786"
             ],
             [
              0.5555555555555556,
              "#d8576b"
             ],
             [
              0.6666666666666666,
              "#ed7953"
             ],
             [
              0.7777777777777778,
              "#fb9f3a"
             ],
             [
              0.8888888888888888,
              "#fdca26"
             ],
             [
              1,
              "#f0f921"
             ]
            ],
            "type": "heatmapgl"
           }
          ],
          "histogram": [
           {
            "marker": {
             "pattern": {
              "fillmode": "overlay",
              "size": 10,
              "solidity": 0.2
             }
            },
            "type": "histogram"
           }
          ],
          "histogram2d": [
           {
            "colorbar": {
             "outlinewidth": 0,
             "ticks": ""
            },
            "colorscale": [
             [
              0,
              "#0d0887"
             ],
             [
              0.1111111111111111,
              "#46039f"
             ],
             [
              0.2222222222222222,
              "#7201a8"
             ],
             [
              0.3333333333333333,
              "#9c179e"
             ],
             [
              0.4444444444444444,
              "#bd3786"
             ],
             [
              0.5555555555555556,
              "#d8576b"
             ],
             [
              0.6666666666666666,
              "#ed7953"
             ],
             [
              0.7777777777777778,
              "#fb9f3a"
             ],
             [
              0.8888888888888888,
              "#fdca26"
             ],
             [
              1,
              "#f0f921"
             ]
            ],
            "type": "histogram2d"
           }
          ],
          "histogram2dcontour": [
           {
            "colorbar": {
             "outlinewidth": 0,
             "ticks": ""
            },
            "colorscale": [
             [
              0,
              "#0d0887"
             ],
             [
              0.1111111111111111,
              "#46039f"
             ],
             [
              0.2222222222222222,
              "#7201a8"
             ],
             [
              0.3333333333333333,
              "#9c179e"
             ],
             [
              0.4444444444444444,
              "#bd3786"
             ],
             [
              0.5555555555555556,
              "#d8576b"
             ],
             [
              0.6666666666666666,
              "#ed7953"
             ],
             [
              0.7777777777777778,
              "#fb9f3a"
             ],
             [
              0.8888888888888888,
              "#fdca26"
             ],
             [
              1,
              "#f0f921"
             ]
            ],
            "type": "histogram2dcontour"
           }
          ],
          "mesh3d": [
           {
            "colorbar": {
             "outlinewidth": 0,
             "ticks": ""
            },
            "type": "mesh3d"
           }
          ],
          "parcoords": [
           {
            "line": {
             "colorbar": {
              "outlinewidth": 0,
              "ticks": ""
             }
            },
            "type": "parcoords"
           }
          ],
          "pie": [
           {
            "automargin": true,
            "type": "pie"
           }
          ],
          "scatter": [
           {
            "fillpattern": {
             "fillmode": "overlay",
             "size": 10,
             "solidity": 0.2
            },
            "type": "scatter"
           }
          ],
          "scatter3d": [
           {
            "line": {
             "colorbar": {
              "outlinewidth": 0,
              "ticks": ""
             }
            },
            "marker": {
             "colorbar": {
              "outlinewidth": 0,
              "ticks": ""
             }
            },
            "type": "scatter3d"
           }
          ],
          "scattercarpet": [
           {
            "marker": {
             "colorbar": {
              "outlinewidth": 0,
              "ticks": ""
             }
            },
            "type": "scattercarpet"
           }
          ],
          "scattergeo": [
           {
            "marker": {
             "colorbar": {
              "outlinewidth": 0,
              "ticks": ""
             }
            },
            "type": "scattergeo"
           }
          ],
          "scattergl": [
           {
            "marker": {
             "colorbar": {
              "outlinewidth": 0,
              "ticks": ""
             }
            },
            "type": "scattergl"
           }
          ],
          "scattermapbox": [
           {
            "marker": {
             "colorbar": {
              "outlinewidth": 0,
              "ticks": ""
             }
            },
            "type": "scattermapbox"
           }
          ],
          "scatterpolar": [
           {
            "marker": {
             "colorbar": {
              "outlinewidth": 0,
              "ticks": ""
             }
            },
            "type": "scatterpolar"
           }
          ],
          "scatterpolargl": [
           {
            "marker": {
             "colorbar": {
              "outlinewidth": 0,
              "ticks": ""
             }
            },
            "type": "scatterpolargl"
           }
          ],
          "scatterternary": [
           {
            "marker": {
             "colorbar": {
              "outlinewidth": 0,
              "ticks": ""
             }
            },
            "type": "scatterternary"
           }
          ],
          "surface": [
           {
            "colorbar": {
             "outlinewidth": 0,
             "ticks": ""
            },
            "colorscale": [
             [
              0,
              "#0d0887"
             ],
             [
              0.1111111111111111,
              "#46039f"
             ],
             [
              0.2222222222222222,
              "#7201a8"
             ],
             [
              0.3333333333333333,
              "#9c179e"
             ],
             [
              0.4444444444444444,
              "#bd3786"
             ],
             [
              0.5555555555555556,
              "#d8576b"
             ],
             [
              0.6666666666666666,
              "#ed7953"
             ],
             [
              0.7777777777777778,
              "#fb9f3a"
             ],
             [
              0.8888888888888888,
              "#fdca26"
             ],
             [
              1,
              "#f0f921"
             ]
            ],
            "type": "surface"
           }
          ],
          "table": [
           {
            "cells": {
             "fill": {
              "color": "#EBF0F8"
             },
             "line": {
              "color": "white"
             }
            },
            "header": {
             "fill": {
              "color": "#C8D4E3"
             },
             "line": {
              "color": "white"
             }
            },
            "type": "table"
           }
          ]
         },
         "layout": {
          "annotationdefaults": {
           "arrowcolor": "#2a3f5f",
           "arrowhead": 0,
           "arrowwidth": 1
          },
          "autotypenumbers": "strict",
          "coloraxis": {
           "colorbar": {
            "outlinewidth": 0,
            "ticks": ""
           }
          },
          "colorscale": {
           "diverging": [
            [
             0,
             "#8e0152"
            ],
            [
             0.1,
             "#c51b7d"
            ],
            [
             0.2,
             "#de77ae"
            ],
            [
             0.3,
             "#f1b6da"
            ],
            [
             0.4,
             "#fde0ef"
            ],
            [
             0.5,
             "#f7f7f7"
            ],
            [
             0.6,
             "#e6f5d0"
            ],
            [
             0.7,
             "#b8e186"
            ],
            [
             0.8,
             "#7fbc41"
            ],
            [
             0.9,
             "#4d9221"
            ],
            [
             1,
             "#276419"
            ]
           ],
           "sequential": [
            [
             0,
             "#0d0887"
            ],
            [
             0.1111111111111111,
             "#46039f"
            ],
            [
             0.2222222222222222,
             "#7201a8"
            ],
            [
             0.3333333333333333,
             "#9c179e"
            ],
            [
             0.4444444444444444,
             "#bd3786"
            ],
            [
             0.5555555555555556,
             "#d8576b"
            ],
            [
             0.6666666666666666,
             "#ed7953"
            ],
            [
             0.7777777777777778,
             "#fb9f3a"
            ],
            [
             0.8888888888888888,
             "#fdca26"
            ],
            [
             1,
             "#f0f921"
            ]
           ],
           "sequentialminus": [
            [
             0,
             "#0d0887"
            ],
            [
             0.1111111111111111,
             "#46039f"
            ],
            [
             0.2222222222222222,
             "#7201a8"
            ],
            [
             0.3333333333333333,
             "#9c179e"
            ],
            [
             0.4444444444444444,
             "#bd3786"
            ],
            [
             0.5555555555555556,
             "#d8576b"
            ],
            [
             0.6666666666666666,
             "#ed7953"
            ],
            [
             0.7777777777777778,
             "#fb9f3a"
            ],
            [
             0.8888888888888888,
             "#fdca26"
            ],
            [
             1,
             "#f0f921"
            ]
           ]
          },
          "colorway": [
           "#636efa",
           "#EF553B",
           "#00cc96",
           "#ab63fa",
           "#FFA15A",
           "#19d3f3",
           "#FF6692",
           "#B6E880",
           "#FF97FF",
           "#FECB52"
          ],
          "font": {
           "color": "#2a3f5f"
          },
          "geo": {
           "bgcolor": "white",
           "lakecolor": "white",
           "landcolor": "white",
           "showlakes": true,
           "showland": true,
           "subunitcolor": "#C8D4E3"
          },
          "hoverlabel": {
           "align": "left"
          },
          "hovermode": "closest",
          "mapbox": {
           "style": "light"
          },
          "paper_bgcolor": "white",
          "plot_bgcolor": "white",
          "polar": {
           "angularaxis": {
            "gridcolor": "#EBF0F8",
            "linecolor": "#EBF0F8",
            "ticks": ""
           },
           "bgcolor": "white",
           "radialaxis": {
            "gridcolor": "#EBF0F8",
            "linecolor": "#EBF0F8",
            "ticks": ""
           }
          },
          "scene": {
           "xaxis": {
            "backgroundcolor": "white",
            "gridcolor": "#DFE8F3",
            "gridwidth": 2,
            "linecolor": "#EBF0F8",
            "showbackground": true,
            "ticks": "",
            "zerolinecolor": "#EBF0F8"
           },
           "yaxis": {
            "backgroundcolor": "white",
            "gridcolor": "#DFE8F3",
            "gridwidth": 2,
            "linecolor": "#EBF0F8",
            "showbackground": true,
            "ticks": "",
            "zerolinecolor": "#EBF0F8"
           },
           "zaxis": {
            "backgroundcolor": "white",
            "gridcolor": "#DFE8F3",
            "gridwidth": 2,
            "linecolor": "#EBF0F8",
            "showbackground": true,
            "ticks": "",
            "zerolinecolor": "#EBF0F8"
           }
          },
          "shapedefaults": {
           "line": {
            "color": "#2a3f5f"
           }
          },
          "ternary": {
           "aaxis": {
            "gridcolor": "#DFE8F3",
            "linecolor": "#A2B1C6",
            "ticks": ""
           },
           "baxis": {
            "gridcolor": "#DFE8F3",
            "linecolor": "#A2B1C6",
            "ticks": ""
           },
           "bgcolor": "white",
           "caxis": {
            "gridcolor": "#DFE8F3",
            "linecolor": "#A2B1C6",
            "ticks": ""
           }
          },
          "title": {
           "x": 0.05
          },
          "xaxis": {
           "automargin": true,
           "gridcolor": "#EBF0F8",
           "linecolor": "#EBF0F8",
           "ticks": "",
           "title": {
            "standoff": 15
           },
           "zerolinecolor": "#EBF0F8",
           "zerolinewidth": 2
          },
          "yaxis": {
           "automargin": true,
           "gridcolor": "#EBF0F8",
           "linecolor": "#EBF0F8",
           "ticks": "",
           "title": {
            "standoff": 15
           },
           "zerolinecolor": "#EBF0F8",
           "zerolinewidth": 2
          }
         }
        },
        "title": {
         "text": "Percentage of Each Sentiment Class"
        },
        "width": 600,
        "xaxis": {
         "anchor": "y",
         "domain": [
          0,
          1
         ],
         "title": {
          "text": "Sentiment Class"
         }
        },
        "yaxis": {
         "anchor": "x",
         "domain": [
          0,
          1
         ],
         "title": {
          "text": "Percentage (%)"
         }
        }
       }
      }
     },
     "metadata": {},
     "output_type": "display_data"
    }
   ],
   "source": [
    "import plotly.express as px\n",
    "import plotly.io as pio\n",
    "pio.templates.default = \"plotly_white\"\n",
    "\n",
    "# Calculate the percentage of each sentiment class\n",
    "sentiment_percentage = df['sentiment_category'].value_counts(normalize=True) * 100\n",
    "\n",
    "# Convert the calculated percentages into DataFrame for plotting\n",
    "percentage_df = pd.DataFrame({'Sentiment': sentiment_percentage.index, 'Percentage': sentiment_percentage.values})\n",
    "\n",
    "# Plot the bar plot with percentages visible\n",
    "fig = px.bar(percentage_df, x='Sentiment', y='Percentage', text='Percentage',\n",
    "             title=\"Percentage of Each Sentiment Class\", labels={'Sentiment': 'Sentiment Class', 'Percentage': 'Percentage (%)'})\n",
    "fig.update_traces(texttemplate='%{text:.2f}%', textposition='outside')\n",
    "fig.update_layout(width=600, height=500)\n",
    "fig.show()"
   ]
  },
  {
   "cell_type": "markdown",
   "metadata": {},
   "source": [
    "### Le coefficient de Gini obtenu vous permettra de répondre aux questions suivantes : <br>\n",
    " \n",
    "Les sentiments sont-ils bien répartis entre les différentes catégories ? <br>\n",
    "Y a-t-il une forte concentration dans une ou deux catégories spécifiques ? <br>\n",
    "\n",
    "Si le coefficient de Gini est proche de 0, cela signifie que les sentiments sont assez équilibrés entre les différentes catégories (positif, neutre, négatif). <br>\n",
    "Si le coefficient de Gini est proche de 1, cela signifie qu'il y a une grande concentration des sentiments dans une seule catégorie, et les autres sont peu représentées. <br>\n"
   ]
  },
  {
   "cell_type": "code",
   "execution_count": 21,
   "metadata": {},
   "outputs": [
    {
     "name": "stdout",
     "output_type": "stream",
     "text": [
      "Coefficient de Gini : 0.07\n"
     ]
    }
   ],
   "source": [
    "import numpy as np\n",
    "\n",
    "# Fonction pour calculer le coefficient de Gini\n",
    "def gini(x):\n",
    "    total = 0\n",
    "    for i, xi in enumerate(x[:-1], 1):\n",
    "        total += np.sum(np.abs(xi - x[i:]))\n",
    "    return total / (len(x)**2 * np.mean(x))\n",
    "\n",
    "# Dataset pour la répartition des sentiments de chaque tweet\n",
    "percentages = df['sentiment_category'].value_counts(normalize=True)\n",
    "\n",
    "# Calcul du coefficient de Gini\n",
    "gini_coefficient = gini(percentages)\n",
    "print(\"Coefficient de Gini :\", round(gini_coefficient,2))"
   ]
  },
  {
   "cell_type": "markdown",
   "metadata": {},
   "source": [
    "### Data preprocessing"
   ]
  },
  {
   "cell_type": "code",
   "execution_count": 22,
   "metadata": {},
   "outputs": [
    {
     "name": "stderr",
     "output_type": "stream",
     "text": [
      "[nltk_data] Downloading package punkt_tab to\n",
      "[nltk_data]     C:\\Users\\Vincent\\AppData\\Roaming\\nltk_data...\n",
      "[nltk_data]   Package punkt_tab is already up-to-date!\n",
      "[nltk_data] Downloading package stopwords to\n",
      "[nltk_data]     C:\\Users\\Vincent\\AppData\\Roaming\\nltk_data...\n",
      "[nltk_data]   Package stopwords is already up-to-date!\n"
     ]
    },
    {
     "data": {
      "text/plain": [
       "True"
      ]
     },
     "execution_count": 22,
     "metadata": {},
     "output_type": "execute_result"
    }
   ],
   "source": [
    "import numpy as np\n",
    "import re\n",
    "\n",
    "import nltk\n",
    "from nltk.corpus import stopwords\n",
    "nltk.download('punkt_tab')\n",
    "nltk.download('stopwords')"
   ]
  },
  {
   "cell_type": "code",
   "execution_count": 23,
   "metadata": {},
   "outputs": [],
   "source": [
    "english_stopwords = set(stopwords.words('english'))\n",
    "\n",
    "def remove_emoji():\n",
    "  regex_pattern = re.compile(pattern = \"[\"    #Pattern pour enlever les emojis\n",
    "          u\"\\U0001F600-\\U0001F64F\"  # emoticons\n",
    "          u\"\\U0001F300-\\U0001F5FF\"  # symbols & pictographs\n",
    "          u\"\\U0001F680-\\U0001F6FF\"  # transport & map symbols\n",
    "          u\"\\U0001F1E0-\\U0001F1FF\"  # flags (iOS)\n",
    "          u\"\\U00002702-\\U000027B0\"\n",
    "          u\"\\U00002702-\\U000027B0\"\n",
    "          u\"\\U000024C2-\\U0001F251\"\n",
    "          u\"\\U0001f926-\\U0001f937\"\n",
    "          u\"\\U00010000-\\U0010ffff\"\n",
    "          u\"\\u2640-\\u2642\" \n",
    "          u\"\\u2600-\\u2B55\"\n",
    "          u\"\\u200d\"\n",
    "          u\"\\u23cf\"\n",
    "          u\"\\u23e9\"\n",
    "          u\"\\u231a\"\n",
    "          u\"\\ufe0f\"  # dingbats\n",
    "          u\"\\u3030\"\n",
    "                            \"]+\", flags = re.UNICODE)\n",
    "  return regex_pattern\n",
    "\n",
    "\n",
    "def clean_text(text):\n",
    "    \n",
    "    \"\"\"\n",
    "    On retire tout d'abord nettoyer les tweets qui ne pourront pas nous servir\n",
    "    \"\"\"\n",
    "    text = text.lower()\n",
    "    text = re.sub(r'{link}', '',text) #Remove links \n",
    "    text = re.sub(r\"\\[video\\]\", '',text) #Remove videos\n",
    "    text = re.sub(r'&[a-z]+;', '',text) #Remove HTML references\n",
    "\n",
    "    text = re.sub(r'@\\w+', '', text) #Remove mention\n",
    "    text = re.sub(r'#\\w+', '', text) #Remove hashtag\n",
    "\n",
    "    text = re.sub(r'\\d+', '', text) #Remove numbers \n",
    "    text = re.sub(r'http\\S+', '',text) #Remove HTML\n",
    "    text = re.sub(r'www\\S+', '',text) #Remove HTML\n",
    "    text = re.sub(r'[^\\w\\s]+',' ',text) #Remove ponctuation et apostrophes\n",
    "    text = re.sub(r'\\s+',' ', text) #Remove new line characters\n",
    "    text = re.sub(r'[^\\w\\s]+',' ',text) #Remove ponctuation et apostrophes\n",
    "    text = re.sub(remove_emoji(),'',text)  #Remove les emojis\n",
    "\n",
    "    \"\"\"\n",
    "    Puis on souhaitera de transformer les mots courants vers des mots plus expressives en anglais\n",
    "    \"\"\"\n",
    "    text = re.sub(r\"won\\'t\", \"would not\", text)\n",
    "    text = re.sub(r\"im\", \"i am\", text)\n",
    "    text = re.sub(r\"Im\", \"I am\", text)\n",
    "    text  = re.sub(r\"can\\'t\", \"can not\", text)\n",
    "    text  = re.sub(r\"don\\'t\", \"do not\", text)\n",
    "    text  = re.sub(r\"shouldn\\'t\", \"should not\", text)\n",
    "    text  = re.sub(r\"needn\\'t\", \"need not\", text)\n",
    "    text  = re.sub(r\"hasn\\'t\", \"has not\", text)\n",
    "    text  = re.sub(r\"haven\\'t\", \"have not\", text)\n",
    "    text  = re.sub(r\"weren\\'t\", \"were not\", text)\n",
    "    text  = re.sub(r\"mightn\\'t\", \"might not\", text )\n",
    "    text  = re.sub(r\"didn\\'t\", \"did not\", text )\n",
    "    text  = re.sub(r\"n\\'t\", \" not\", text )\n",
    "    text  = re.sub(r\"\\'re\", \" are\", text )\n",
    "    text  = re.sub(r\"\\'s\", \" is\", text )\n",
    "    text  = re.sub(r\"\\'d\", \" would\", text )\n",
    "    text  = re.sub(r\"\\'ll\", \" will\", text )\n",
    "    text  = re.sub(r\"\\'t\", \" not\", text )\n",
    "    text  = re.sub(r\"\\'ve\", \" have\", text )\n",
    "    text  = re.sub(r\"\\'m\", \" am\", text )\n",
    "    \n",
    "    # Tokenize the text\n",
    "    tokens = nltk.word_tokenize(text)\n",
    "\n",
    "    # Remove stopwords from the tokenized text\n",
    "    filtered_tokens = [word for word in tokens if word.lower() not in english_stopwords]\n",
    "\n",
    "    # Join the filtered tokens back into a single string\n",
    "    filtered_text = ' '.join(filtered_tokens)\n",
    "\n",
    "    return filtered_text\n",
    "\n",
    "df['tweet_clean'] = df['Tweet'].apply(clean_text)"
   ]
  },
  {
   "cell_type": "code",
   "execution_count": 24,
   "metadata": {},
   "outputs": [
    {
     "data": {
      "text/html": [
       "<div>\n",
       "<style scoped>\n",
       "    .dataframe tbody tr th:only-of-type {\n",
       "        vertical-align: middle;\n",
       "    }\n",
       "\n",
       "    .dataframe tbody tr th {\n",
       "        vertical-align: top;\n",
       "    }\n",
       "\n",
       "    .dataframe thead th {\n",
       "        text-align: right;\n",
       "    }\n",
       "</style>\n",
       "<table border=\"1\" class=\"dataframe\">\n",
       "  <thead>\n",
       "    <tr style=\"text-align: right;\">\n",
       "      <th></th>\n",
       "      <th>game_category</th>\n",
       "      <th>sentiment_category</th>\n",
       "      <th>Tweet</th>\n",
       "      <th>tweet_clean</th>\n",
       "    </tr>\n",
       "  </thead>\n",
       "  <tbody>\n",
       "    <tr>\n",
       "      <th>0</th>\n",
       "      <td>Borderlands</td>\n",
       "      <td>Positive</td>\n",
       "      <td>im getting on borderlands and i will murder yo...</td>\n",
       "      <td>getting borderlands murder</td>\n",
       "    </tr>\n",
       "    <tr>\n",
       "      <th>1</th>\n",
       "      <td>Borderlands</td>\n",
       "      <td>Positive</td>\n",
       "      <td>I am coming to the borders and I will kill you...</td>\n",
       "      <td>coming borders kill</td>\n",
       "    </tr>\n",
       "    <tr>\n",
       "      <th>2</th>\n",
       "      <td>Borderlands</td>\n",
       "      <td>Positive</td>\n",
       "      <td>im getting on borderlands and i will kill you ...</td>\n",
       "      <td>getting borderlands kill</td>\n",
       "    </tr>\n",
       "    <tr>\n",
       "      <th>3</th>\n",
       "      <td>Borderlands</td>\n",
       "      <td>Positive</td>\n",
       "      <td>im coming on borderlands and i will murder you...</td>\n",
       "      <td>coming borderlands murder</td>\n",
       "    </tr>\n",
       "    <tr>\n",
       "      <th>4</th>\n",
       "      <td>Borderlands</td>\n",
       "      <td>Positive</td>\n",
       "      <td>im getting on borderlands 2 and i will murder ...</td>\n",
       "      <td>getting borderlands murder</td>\n",
       "    </tr>\n",
       "  </tbody>\n",
       "</table>\n",
       "</div>"
      ],
      "text/plain": [
       "  game_category sentiment_category  \\\n",
       "0   Borderlands           Positive   \n",
       "1   Borderlands           Positive   \n",
       "2   Borderlands           Positive   \n",
       "3   Borderlands           Positive   \n",
       "4   Borderlands           Positive   \n",
       "\n",
       "                                               Tweet  \\\n",
       "0  im getting on borderlands and i will murder yo...   \n",
       "1  I am coming to the borders and I will kill you...   \n",
       "2  im getting on borderlands and i will kill you ...   \n",
       "3  im coming on borderlands and i will murder you...   \n",
       "4  im getting on borderlands 2 and i will murder ...   \n",
       "\n",
       "                  tweet_clean  \n",
       "0  getting borderlands murder  \n",
       "1         coming borders kill  \n",
       "2    getting borderlands kill  \n",
       "3   coming borderlands murder  \n",
       "4  getting borderlands murder  "
      ]
     },
     "execution_count": 24,
     "metadata": {},
     "output_type": "execute_result"
    }
   ],
   "source": [
    "df.head()"
   ]
  },
  {
   "cell_type": "markdown",
   "metadata": {},
   "source": [
    "Interpréter les poids des termes de vocabulaire (par exemple faire un heatmap)"
   ]
  },
  {
   "cell_type": "code",
   "execution_count": 25,
   "metadata": {},
   "outputs": [
    {
     "name": "stdout",
     "output_type": "stream",
     "text": [
      "<Compressed Sparse Row sparse matrix of dtype 'float64'\n",
      "\twith 395761 stored elements and shape (48731, 3000)>\n",
      "  Coords\tValues\n",
      "  (0, 1115)\t0.48345645629282835\n",
      "  (0, 313)\t0.44426100341495134\n",
      "  (0, 1723)\t0.7542559351529964\n",
      "  (1, 525)\t0.7124862090508931\n",
      "  (1, 1410)\t0.7016861135239081\n",
      "  (2, 1115)\t0.5569316888615897\n",
      "  (2, 313)\t0.5117793499428827\n",
      "  (2, 1410)\t0.6541475299302275\n",
      "  (3, 313)\t0.42383248158428954\n",
      "  (3, 1723)\t0.7195728688502189\n",
      "  (3, 525)\t0.5500735532351726\n",
      "  (4, 1115)\t0.48345645629282835\n",
      "  (4, 313)\t0.44426100341495134\n",
      "  (4, 1723)\t0.7542559351529964\n",
      "  (5, 1115)\t0.48345645629282835\n",
      "  (5, 313)\t0.44426100341495134\n",
      "  (5, 1723)\t0.7542559351529964\n",
      "  (6, 2459)\t0.2551578413945981\n",
      "  (6, 1283)\t0.21379391139866039\n",
      "  (6, 1584)\t0.2136090035015104\n",
      "  (6, 2429)\t0.19542611612077695\n",
      "  (6, 1081)\t0.16933458193087786\n",
      "  (6, 1424)\t0.17776071028753596\n",
      "  (6, 1291)\t0.22908627332575493\n",
      "  (6, 944)\t0.22979528551372286\n",
      "  :\t:\n",
      "  (48727, 2735)\t0.39229343423746055\n",
      "  (48727, 1962)\t0.3579255371954651\n",
      "  (48727, 2677)\t0.4522792105367397\n",
      "  (48727, 2126)\t0.39776478727539377\n",
      "  (48727, 481)\t0.47018687533922965\n",
      "  (48728, 1117)\t0.376356849005785\n",
      "  (48728, 1313)\t0.42135077662115644\n",
      "  (48728, 2735)\t0.4031082953433382\n",
      "  (48728, 1962)\t0.3677929339785386\n",
      "  (48728, 2677)\t0.4647477772170325\n",
      "  (48728, 2126)\t0.40873048425565073\n",
      "  (48729, 1117)\t0.315835181968659\n",
      "  (48729, 1313)\t0.353593669301693\n",
      "  (48729, 2735)\t0.3382847479703556\n",
      "  (48729, 1962)\t0.3086484237944962\n",
      "  (48729, 2677)\t0.3900120302702796\n",
      "  (48729, 1284)\t0.3624441177182847\n",
      "  (48729, 2126)\t0.3430028368343505\n",
      "  (48729, 481)\t0.40545427157677316\n",
      "  (48730, 1117)\t0.35311728357931454\n",
      "  (48730, 1313)\t0.39533289235347574\n",
      "  (48730, 2735)\t0.3782168615130999\n",
      "  (48730, 1369)\t0.47266407914449926\n",
      "  (48730, 2126)\t0.38349188728114436\n",
      "  (48730, 481)\t0.4533152706496997\n"
     ]
    }
   ],
   "source": [
    "from sklearn.model_selection import train_test_split\n",
    "from sklearn.feature_extraction.text import TfidfVectorizer\n",
    "from sklearn.metrics import classification_report\n",
    "from sklearn.preprocessing import LabelEncoder\n",
    "\n",
    "vectorizer = TfidfVectorizer(\n",
    "    max_features = 3000,\n",
    "    max_df = 1.0,\n",
    "    min_df = 10,\n",
    "    ngram_range=(1, 1)\n",
    ")\n",
    "X = vectorizer.fit_transform(df['tweet_clean'])\n",
    "print(X)"
   ]
  },
  {
   "cell_type": "code",
   "execution_count": 26,
   "metadata": {},
   "outputs": [
    {
     "name": "stdout",
     "output_type": "stream",
     "text": [
      "Vocab size:  3000\n",
      "Vocab {'getting': np.int64(1115), 'borderlands': np.int64(313), 'murder': np.int64(1723), 'coming': np.int64(525), 'kill': np.int64(1410), 'spent': np.int64(2459), 'hours': np.int64(1283), 'making': np.int64(1584), 'something': np.int64(2429), 'fun': np.int64(1081), 'know': np.int64(1424), 'huge': np.int64(1291), 'fan': np.int64(944), 'maya': np.int64(1614), 'one': np.int64(1817), 'favorite': np.int64(961), 'characters': np.int64(449), 'decided': np.int64(675), 'make': np.int64(1582), 'pc': np.int64(1887), 'original': np.int64(1839), 'amage': np.int64(81), 'made': np.int64(1574), 'enjoy': np.int64(850), 'pic': np.int64(1908), 'twitter': np.int64(2749), 'com': np.int64(517), 'couple': np.int64(590), 'picture': np.int64(1913), 'compared': np.int64(537), 'rhandlerr': np.int64(2193), 'rock': np.int64(2211), 'hard': np.int64(1205), 'la': np.int64(1433), 'rare': np.int64(2095), 'powerful': np.int64(1990), 'handsome': np.int64(1197), 'xbox': np.int64(2967), 'dlvr': np.int64(747), 'live': np.int64(1514), 'music': np.int64(1724), 'like': np.int64(1498), 'de': np.int64(664), 'first': np.int64(1005), 'session': np.int64(2322), 'long': np.int64(1534), 'ti': np.int64(2653), 'ame': np.int64(95), 'actually': np.int64(30), 'really': np.int64(2117), 'satisfying': np.int64(2260), 'combat': np.int64(518), 'experience': np.int64(914), 'got': np.int64(1151), 'good': np.int64(1146), 'kills': np.int64(1415), 'fighting': np.int64(987), 'enjoyed': np.int64(852), 'rather': np.int64(2099), 'real': np.int64(2110), 'nice': np.int64(1763), 'wait': np.int64(2850), 'hot': np.int64(1281), 'row': np.int64(2228), 'bad': np.int64(218), 'biggest': np.int64(276), 'life': np.int64(1495), 'came': np.int64(391), 'year': np.int64(2975), 'ago': np.int64(54), 'fuck': np.int64(1074), 'disappointment': np.int64(736), 'hanging': np.int64(1199), 'back': np.int64(216), 'last': np.int64(1451), 'finished': np.int64(1002), 'finally': np.int64(996), 'thank': np.int64(2620), 'everyone': np.int64(891), 'try': np.int64(2731), 'stream': np.int64(2518), 'tomorrow': np.int64(2678), 'might': np.int64(1657), 'irl': np.int64(1360), 'streams': np.int64(2523), 'shall': np.int64(2334), 'see': np.int64(2299), 'much': np.int64(1719), 'raids': np.int64(2082), 'find': np.int64(998), 'yes': np.int64(2978), 'maybe': np.int64(1615), 'thanks': np.int64(2621), 'get': np.int64(1113), 'would': np.int64(2958), 'still': np.int64(2499), 'update': np.int64(2789), 'guys': np.int64(1181), 'even': np.int64(882), 'go': np.int64(1133), 'hope': np.int64(1269), 'never': np.int64(1755), 'hey': np.int64(1243), 'use': np.int64(2798), 'many': np.int64(1590), 'man': np.int64(1585), 'gearbox': np.int64(1103), 'needs': np.int64(1746), 'fix': np.int64(1008), 'drops': np.int64(782), 'new': np.int64(1756), 'dlc': np.int64(746), 'cant': np.int64(398), 'fine': np.int64(999), 'farm': np.int64(950), 'mayhem': np.int64(1616), 'legendary': np.int64(1478), 'drop': np.int64(779), 'anywhere': np.int64(150), 'else': np.int64(832), 'sucks': np.int64(2553), 'alot': np.int64(73), 'disappointing': np.int64(735), 'completely': np.int64(548), 'days': np.int64(663), 'foot': np.int64(1029), 'unk': np.int64(2780), 'force': np.int64(1031), 'check': np.int64(459), 'epic': np.int64(863), 'streamer': np.int64(2519), 'watch': np.int64(2875), 'big': np.int64(274), 'sight': np.int64(2375), 'little': np.int64(1513), 'bit': np.int64(281), 'called': np.int64(387), 'early': np.int64(802), 'work': np.int64(2945), 'sorry': np.int64(2441), 'loves': np.int64(1560), 'twitch': np.int64(2748), 'tv': np.int64(2744), 'morning': np.int64(1703), 'catch': np.int64(419), 'love': np.int64(1557), 'every': np.int64(888), 'hair': np.int64(1190), 'heard': np.int64(1222), 'stupid': np.int64(2539), 'assholes': np.int64(189), 'border': np.int64(312), 'fallen': np.int64(937), 'enough': np.int64(854), 'greedy': np.int64(1163), 'going': np.int64(1141), 'finish': np.int64(1001), 'today': np.int64(2672), 'commands': np.int64(526), 'set': np.int64(2323), 'looking': np.int64(1539), 'forward': np.int64(1048), 'starting': np.int64(2485), 'hour': np.int64(1282), 'start': np.int64(2483), 'installed': np.int64(1344), 'events': np.int64(885), 'look': np.int64(1537), 'volume': np.int64(2846), 'awesome': np.int64(212), 'server': np.int64(2318), 'amma': np.int64(106), 'probably': np.int64(2011), 'play': np.int64(1938), 'playing': np.int64(1945), 'video': np.int64(2830), 'hi': np.int64(1244), 'buff': np.int64(363), 'ly': np.int64(1569), 'say': np.int64(2267), 'chat': np.int64(452), 'chance': np.int64(440), 'shout': np.int64(2361), 'upcoming': np.int64(2788), 'also': np.int64(77), 'shows': np.int64(2367), 'via': np.int64(2823), 'officially': np.int64(1804), 'series': np.int64(2315), 'movies': np.int64(1714), 'hate': np.int64(1212), 'easy': np.int64(811), 'event': np.int64(884), 'forever': np.int64(1035), 'game': np.int64(1088), 'since': np.int64(2382), 'added': np.int64(33), 'horrible': np.int64(1275), 'modifiers': np.int64(1689), 'please': np.int64(1951), 'give': np.int64(1123), 'option': np.int64(1833), 'turn': np.int64(2740), 'pls': np.int64(1956), 'si': np.int64(2370), 'ample': np.int64(114), 'chaos': np.int64(446), 'terrible': np.int64(2615), 'saying': np.int64(2268), 'day': np.int64(662), 'ability': np.int64(3), 'thinking': np.int64(2631), 'total': np.int64(2685), 'absolutely': np.int64(6), 'ridiculous': np.int64(2197), 'almost': np.int64(70), 'best': np.int64(265), 'taken': np.int64(2583), 'past': np.int64(1880), 'send': np.int64(2310), 'looked': np.int64(1538), 'pretty': np.int64(2000), 'cool': np.int64(574), 'despite': np.int64(700), 'tier': np.int64(2656), 'writing': np.int64(2962), 'became': np.int64(252), 'yet': np.int64(2980), 'another': np.int64(140), 'shitty': np.int64(2351), 'trend': np.int64(2712), 'die': np.int64(717), 'crappy': np.int64(601), 'turned': np.int64(2741), 'crap': np.int64(600), 'mod': np.int64(1683), 'deep': np.int64(680), 'ulti': np.int64(2761), 'amately': np.int64(87), 'mobile': np.int64(1682), 'top': np.int64(2683), 'annoying': np.int64(139), 'seriously': np.int64(2317), 'appreciate': np.int64(159), 'sonic': np.int64(2435), 'thread': np.int64(2640), 'together': np.int64(2673), 'talk': np.int64(2588), 'multi': np.int64(1720), 'listening': np.int64(1509), 'action': np.int64(26), 'sound': np.int64(2445), 'etc': np.int64(878), 'amazing': np.int64(91), 'field': np.int64(983), 'creating': np.int64(609), 'digital': np.int64(723), 'thoughts': np.int64(2637), 'brought': np.int64(352), 'submit': np.int64(2543), 'ceo': np.int64(429), 'paying': np.int64(1886), 'staff': np.int64(2475), 'file': np.int64(990), 'pay': np.int64(1885), 'employees': np.int64(839), 'entire': np.int64(859), 'fuckin': np.int64(1076), 'trash': np.int64(2706), 'damn': np.int64(650), 'fucking': np.int64(1077), 'thrash': np.int64(2639), 'shit': np.int64(2347), 'played': np.int64(1941), 'actual': np.int64(29), 'great': np.int64(1161), 'guns': np.int64(1179), 'feel': np.int64(972), 'felt': np.int64(978), 'needed': np.int64(1745), 'grind': np.int64(1166), 'story': np.int64(2512), 'hand': np.int64(1194), 'weapons': np.int64(2884), 'funny': np.int64(1083), 'open': np.int64(1823), 'someone': np.int64(2428), 'side': np.int64(2372), 'endless': np.int64(845), 'sure': np.int64(2564), 'oh': np.int64(1808), 'loving': np.int64(1561), 'anyone': np.int64(145), 'drink': np.int64(774), 'ghost': np.int64(1117), 'three': np.int64(2642), 'want': np.int64(2859), 'come': np.int64(522), 'meet': np.int64(1624), 'lovely': np.int64(1559), 'gaming': np.int64(1094), 'gambling': np.int64(1087), 'beautiful': np.int64(251), 'gods': np.int64(1139), 'green': np.int64(1164), 'hell': np.int64(1233), 'halloween': np.int64(1192), 'month': np.int64(1699), 'already': np.int64(75), 'march': np.int64(1593), 'pulling': np.int64(2047), 'bitch': np.int64(282), 'ok': np.int64(1809), 'anything': np.int64(146), 'gets': np.int64(1114), 'hype': np.int64(1300), 'concept': np.int64(550), 'gives': np.int64(1126), 'seeing': np.int64(2300), 'take': np.int64(2582), 'sir': np.int64(2385), 'case': np.int64(411), 'earth': np.int64(805), 'rpg': np.int64(2232), 'uninstalled': np.int64(2776), 'games': np.int64(1093), 'space': np.int64(2451), 'uninstall': np.int64(2775), 'room': np.int64(2223), 'deleted': np.int64(689), 'watching': np.int64(2877), 'edge': np.int64(817), 'cross': np.int64(620), 'overwatch': np.int64(1847), 'mode': np.int64(1684), 'future': np.int64(1085), 'fantasy': np.int64(948), 'non': np.int64(1775), 'bioshock': np.int64(279), 'switch': np.int64(2573), 'count': np.int64(587), 'desert': np.int64(693), 'platinum': np.int64(1937), 'loot': np.int64(1542), 'lot': np.int64(1555), 'named': np.int64(1734), 'reason': np.int64(2118), 'laptop': np.int64(1447), 'run': np.int64(2241), 'war': np.int64(2863), 'thunder': np.int64(2649), 'high': np.int64(1247), 'settings': np.int64(2325), 'moment': np.int64(1692), 'launch': np.int64(1458), 'csgo': np.int64(628), 'computer': np.int64(549), 'crashes': np.int64(604), 'whole': np.int64(2908), 'plus': np.int64(1958), 'easily': np.int64(807), 'currently': np.int64(633), 'dare': np.int64(656), 'mind': np.int64(1661), 'software': np.int64(2418), 'mount': np.int64(1706), 'act': np.int64(24), 'king': np.int64(1418), 'jumping': np.int64(1394), 'vibe': np.int64(2824), 'dropping': np.int64(781), 'quality': np.int64(2061), 'makes': np.int64(1583), 'difference': np.int64(719), 'well': np.int64(2896), 'runs': np.int64(2243), 'dumb': np.int64(788), 'internet': np.int64(1351), 'lmao': np.int64(1517), 'streaming': np.int64(2521), 'downloading': np.int64(766), 'enter': np.int64(856), 'fear': np.int64(964), 'step': np.int64(2496), 'wikipedia': np.int64(2913), 'org': np.int64(1837), 'omg': np.int64(1816), 'ever': np.int64(887), 'bank': np.int64(227), 'late': np.int64(1453), 'seems': np.int64(2303), 'broken': np.int64(347), 'constantly': np.int64(565), 'less': np.int64(1483), 'lower': np.int64(1563), 'levels': np.int64(1490), 'possible': np.int64(1980), 'swear': np.int64(2569), 'blues': np.int64(302), 'boss': np.int64(317), 'falling': np.int64(938), 'rate': np.int64(2097), 'production': np.int64(2017), 'kinda': np.int64(1417), 'pushing': np.int64(2056), 'normal': np.int64(1779), 'people': np.int64(1890), 'moving': np.int64(1715), 'recovery': np.int64(2129), 'fast': np.int64(954), 'next': np.int64(1759), 'gold': np.int64(1142), 'worked': np.int64(2946), 'cut': np.int64(639), 'parts': np.int64(1874), 'report': np.int64(2164), 'rest': np.int64(2175), 'two': np.int64(2750), 'us': np.int64(2797), 'public': np.int64(2043), 'road': np.int64(2208), 'violent': np.int64(2838), 'wall': np.int64(2857), 'says': np.int64(2269), 'country': np.int64(589), 'streets': np.int64(2525), 'somebody': np.int64(2426), 'bits': np.int64(283), 'fact': np.int64(928), 'american': np.int64(99), 'taking': np.int64(2585), 'photos': np.int64(1906), 'ams': np.int64(123), 'tonight': np.int64(2680), 'evening': np.int64(883), 'end': np.int64(842), 'sigh': np.int64(2374), 'allowed': np.int64(69), 'better': np.int64(268), 'part': np.int64(1869), 'jackson': np.int64(1370), 'happy': np.int64(1204), 'wise': np.int64(2927), 'expected': np.int64(912), 'due': np.int64(786), 'realize': np.int64(2115), 'busted': np.int64(380), 'marketing': np.int64(1597), 'business': np.int64(379), 'problem': np.int64(2012), 'far': np.int64(949), 'always': np.int64(79), 'fav': np.int64(959), 'certainly': np.int64(431), 'guardian': np.int64(1174), 'around': np.int64(169), 'weekend': np.int64(2891), 'managed': np.int64(1587), 'done': np.int64(755), 'enjoying': np.int64(853), 'loved': np.int64(1558), 'mechanic': np.int64(1620), 'old': np.int64(1812), 'night': np.int64(1768), 'closer': np.int64(496), 'towards': np.int64(2693), 'art': np.int64(170), 'pieces': np.int64(1916), 'follow': np.int64(1022), 'goodnight': np.int64(1148), 'loads': np.int64(1522), 'artwork': np.int64(176), 'street': np.int64(2524), 'works': np.int64(2949), 'let': np.int64(1484), 'brilliant': np.int64(340), 'halo': np.int64(1193), 'pick': np.int64(1909), 'rocket': np.int64(2212), 'league': np.int64(1465), 'kingdom': np.int64(1419), 'hearts': np.int64(1226), 'super': np.int64(2560), 'mario': np.int64(1594), 'stars': np.int64(2482), 'em': np.int64(833), 'drunk': np.int64(783), 'choose': np.int64(472), 'mainly': np.int64(1579), 'wars': np.int64(2870), 'playstation': np.int64(1949), 'others': np.int64(1841), 'beat': np.int64(248), 'literally': np.int64(1512), 'things': np.int64(2629), 'bl': np.int64(284), 'using': np.int64(2805), 'girl': np.int64(1120), 'fire': np.int64(1004), 'credits': np.int64(614), 'gon': np.int64(1144), 'na': np.int64(1731), 'quit': np.int64(2072), 'leave': np.int64(1472), 'reminds': np.int64(2158), 'knows': np.int64(1428), 'hyped': np.int64(1301), 'movie': np.int64(1713), 'guy': np.int64(1180), 'bc': np.int64(245), 'okay': np.int64(1810), 'kind': np.int64(1416), 'bbc': np.int64(244), 'region': np.int64(2140), 'think': np.int64(2630), 'modern': np.int64(1686), 'warfare': np.int64(2865), 'deals': np.int64(667), 'ps': np.int64(2035), 'co': np.int64(504), 'gear': np.int64(1102), 'nintendo': np.int64(1771), 'group': np.int64(1169), 'online': np.int64(1819), 'collection': np.int64(513), 'welcome': np.int64(2895), 'short': np.int64(2358), 'true': np.int64(2725), 'second': np.int64(2295), 'psycho': np.int64(2036), 'krieg': np.int64(1431), 'fantastic': np.int64(947), 'wonderful': np.int64(2939), 'line': np.int64(1504), 'character': np.int64(448), 'players': np.int64(1943), 'questions': np.int64(2066), 'offers': np.int64(1801), 'issues': np.int64(1364), 'perfect': np.int64(1892), 'fans': np.int64(946), 'opportunity': np.int64(1830), 'close': np.int64(494), 'amportant': np.int64(116), 'vs': np.int64(2849), 'pri': np.int64(2003), 'book': np.int64(309), 'several': np.int64(2327), 'april': np.int64(162), 'patch': np.int64(1881), 'mini': np.int64(1664), 'difficulty': np.int64(722), 'stats': np.int64(2489), 'fresh': np.int64(1063), 'extra': np.int64(919), 'latest': np.int64(1456), 'amate': np.int64(85), 'brand': np.int64(333), 'level': np.int64(1487), 'power': np.int64(1989), 'appears': np.int64(157), 'accident': np.int64(13), 'idea': np.int64(1307), 'happened': np.int64(1201), 'excuse': np.int64(906), 'flow': np.int64(1016), 'reporting': np.int64(2166), 'blood': np.int64(298), 'though': np.int64(2635), 'exactly': np.int64(898), 'reviews': np.int64(2190), 'congratulations': np.int64(555), 'playapex': np.int64(1940), 'respawn': np.int64(2171), 'callofduty': np.int64(389), 'cfduty': np.int64(432), 'special': np.int64(2454), 'campaign': np.int64(395), 'project': np.int64(2023), 'putting': np.int64(2059), 'strong': np.int64(2529), 'parents': np.int64(1867), 'various': np.int64(2816), 'fam': np.int64(941), 'directly': np.int64(727), 'ya': np.int64(2970), 'fandom': np.int64(945), 'cute': np.int64(640), 'telling': np.int64(2609), 'posting': np.int64(1985), 'content': np.int64(567), 'global': np.int64(1131), 'olds': np.int64(1814), 'write': np.int64(2961), 'need': np.int64(1744), 'away': np.int64(211), 'believe': np.int64(261), 'behind': np.int64(260), 'clean': np.int64(486), 'tentacles': np.int64(2612), 'ranked': np.int64(2090), 'ift': np.int64(1313), 'tt': np.int64(2735), 'rank': np.int64(2089), 'black': np.int64(285), 'words': np.int64(2944), 'assault': np.int64(188), 'en': np.int64(841), 'secret': np.int64(2297), 'fave': np.int64(960), 'minecraft': np.int64(1663), 'horizon': np.int64(1274), 'lego': np.int64(1482), 'star': np.int64(2480), 'tournament': np.int64(2691), 'favourite': np.int64(962), 'ep': np.int64(862), 'screen': np.int64(2284), 'titles': np.int64(2668), 'reality': np.int64(2114), 'suffer': np.int64(2555), 'feeling': np.int64(973), 'achieved': np.int64(20), 'died': np.int64(718), 'messed': np.int64(1644), 'assume': np.int64(191), 'previous': np.int64(2002), 'season': np.int64(2294), 'pass': np.int64(1876), 'store': np.int64(2508), 'downloaded': np.int64(765), 'card': np.int64(404), 'ammediately': np.int64(108), 'feels': np.int64(974), 'final': np.int64(995), 'later': np.int64(1455), 'eventually': np.int64(886), 'access': np.int64(12), 'mission': np.int64(1672), 'nothing': np.int64(1783), 'put': np.int64(2057), 'focus': np.int64(1020), 'console': np.int64(562), 'four': np.int64(1050), 'quickly': np.int64(2070), 'hit': np.int64(1255), 'started': np.int64(2484), 'chapter': np.int64(447), 'th': np.int64(2619), 'stop': np.int64(2505), 'dead': np.int64(665), 'ames': np.int64(100), 'february': np.int64(969), 'damned': np.int64(651), 'years': np.int64(2976), 'sub': np.int64(2542), 'friend': np.int64(1065), 'recently': np.int64(2123), 'human': np.int64(1293), 'samsung': np.int64(2255), 'full': np.int64(1079), 'fort': np.int64(1043), 'continue': np.int64(569), 'home': np.int64(1262), 'paid': np.int64(1858), 'lots': np.int64(1556), 'said': np.int64(2250), 'phone': np.int64(1904), 'months': np.int64(1700), 'tell': np.int64(2608), 'door': np.int64(758), 'may': np.int64(1613), 'extremely': np.int64(921), 'base': np.int64(233), 'happening': np.int64(1202), 'sent': np.int64(2313), 'keep': np.int64(1398), 'thursday': np.int64(2650), 'plays': np.int64(1948), 'social': np.int64(2416), 'media': np.int64(1623), 'head': np.int64(1217), 'record': np.int64(2128), 'definitely': np.int64(684), 'active': np.int64(27), 'right': np.int64(2199), 'delay': np.int64(685), 'chris': np.int64(473), 'casting': np.int64(416), 'film': np.int64(993), 'achievements': np.int64(22), 'unreal': np.int64(2786), 'figure': np.int64(988), 'gearboxofficial': np.int64(1104), 'understand': np.int64(2769), 'dont': np.int64(756), 'hrs': np.int64(1288), 'beating': np.int64(249), 'twice': np.int64(2747), 'farming': np.int64(951), 'crazy': np.int64(606), 'decide': np.int64(674), 'way': np.int64(2880), 'working': np.int64(2948), 'album': np.int64(63), 'money': np.int64(1696), 'wanted': np.int64(2860), 'totally': np.int64(2686), 'ji': np.int64(1377), 'tch': np.int64(2596), 'youtube': np.int64(2988), 'beast': np.int64(247), 'solo': np.int64(2422), 'featuring': np.int64(968), 'duo': np.int64(791), 'channel': np.int64(445), 'id': np.int64(1305), 'beyond': np.int64(269), 'scott': np.int64(2281), 'wave': np.int64(2879), 'buy': np.int64(383), 'idk': np.int64(1311), 'class': np.int64(483), 'trying': np.int64(2732), 'controller': np.int64(572), 'disconnected': np.int64(738), 'instagram': np.int64(1342), 'plan': np.int64(1931), 'classes': np.int64(484), 'amagine': np.int64(82), 'tried': np.int64(2717), 'netflix': np.int64(1752), 'took': np.int64(2682), 'desperately': np.int64(699), 'barely': np.int64(232), 'touch': np.int64(2687), 'harder': np.int64(1207), 'supposed': np.int64(2563), 'pm': np.int64(1960), 'gay': np.int64(1100), 'rn': np.int64(2206), 'episode': np.int64(864), 'fm': np.int64(1018), 'fall': np.int64(936), 'damage': np.int64(648), 'exist': np.int64(908), 'universe': np.int64(2779), 'whether': np.int64(2904), 'lil': np.int64(1503), 'preview': np.int64(2001), 'drawing': np.int64(771), 'lately': np.int64(1454), 'spending': np.int64(2458), 'aming': np.int64(104), 'offer': np.int64(1800), 'facebook': np.int64(926), 'nerf': np.int64(1750), 'gun': np.int64(1178), 'pistol': np.int64(1925), 'designed': np.int64(698), 'appear': np.int64(155), 'week': np.int64(2890), 'able': np.int64(4), 'anymore': np.int64(144), 'tired': np.int64(2664), 'stoked': np.int64(2502), 'saturday': np.int64(2261), 'amo': np.int64(110), 'anyways': np.int64(149), 'anyway': np.int64(148), 'product': np.int64(2016), 'stories': np.int64(2509), 'factory': np.int64(929), 'understanding': np.int64(2770), 'point': np.int64(1962), 'knowledge': np.int64(1426), 'faster': np.int64(955), 'weapon': np.int64(2883), 'show': np.int64(2363), 'across': np.int64(23), 'particular': np.int64(1870), 'rifle': np.int64(2198), 'detail': np.int64(705), 'particularly': np.int64(1871), 'reasons': np.int64(2119), 'excited': np.int64(902), 'gb': np.int64(1101), 'sex': np.int64(2328), 'speed': np.int64(2455), 'main': np.int64(1578), 'hear': np.int64(1221), 'voice': np.int64(2845), 'half': np.int64(1191), 'yeah': np.int64(2974), 'apart': np.int64(151), 'ass': np.int64(182), 'wanting': np.int64(2861), 'lose': np.int64(1547), 'demon': np.int64(692), 'doesnt': np.int64(749), 'ah': np.int64(56), 'area': np.int64(164), 'land': np.int64(1444), 'left': np.int64(1475), 'block': np.int64(295), 'holy': np.int64(1261), 'sick': np.int64(2371), 'ta': np.int64(2578), 'stunning': np.int64(2538), 'cosplay': np.int64(583), 'must': np.int64(1725), 'fenco': np.int64(980), 'save': np.int64(2262), 'fox': np.int64(1052), 'read': np.int64(2106), 'blast': np.int64(289), 'face': np.int64(925), 'tips': np.int64(2663), 'master': np.int64(1602), 'graphic': np.int64(1158), 'dude': np.int64(784), 'triple': np.int64(2719), 'personal': np.int64(1900), 'crushing': np.int64(624), 'covid': np.int64(594), 'knowing': np.int64(1425), 'difficult': np.int64(721), 'fifa': np.int64(984), 'uk': np.int64(2759), 'speak': np.int64(2453), 'winner': np.int64(2921), 'sales': np.int64(2253), 'warrior': np.int64(2869), 'yesterday': np.int64(2979), 'lord': np.int64(1545), 'god': np.int64(1137), 'miss': np.int64(1669), 'cd': np.int64(424), 'likely': np.int64(1500), 'forgetting': np.int64(1037), 'playable': np.int64(1939), 'forget': np.int64(1036), 'easier': np.int64(806), 'usually': np.int64(2808), 'worth': np.int64(2957), 'liked': np.int64(1499), 'sea': np.int64(2292), 'thieves': np.int64(2627), 'battlefield': np.int64(240), 'talking': np.int64(2589), 'adventure': np.int64(42), 'happens': np.int64(1203), 'accounts': np.int64(17), 'used': np.int64(2799), 'return': np.int64(2181), 'current': np.int64(632), 'visit': np.int64(2843), 'closed': np.int64(495), 'could': np.int64(586), 'excellent': np.int64(900), 'vehicle': np.int64(2818), 'disappeared': np.int64(732), 'development': np.int64(709), 'course': np.int64(591), 'question': np.int64(2065), 'major': np.int64(1581), 'problems': np.int64(2013), 'dream': np.int64(772), 'official': np.int64(1803), 'lost': np.int64(1554), 'running': np.int64(2242), 'underground': np.int64(2767), 'iii': np.int64(1317), 'glad': np.int64(1128), 'efforts': np.int64(824), 'noticed': np.int64(1785), 'op': np.int64(1822), 'heart': np.int64(1224), 'tattoo': np.int64(2593), 'lol': np.int64(1533), 'thought': np.int64(2636), 'small': np.int64(2404), 'pool': np.int64(1970), 'cause': np.int64(421), 'quite': np.int64(2073), 'hopefully': np.int64(1270), 'soul': np.int64(2443), 'white': np.int64(2906), 'ones': np.int64(1818), 'player': np.int64(1942), 'local': np.int64(1525), 'shop': np.int64(2357), 'haha': np.int64(1188), 'dark': np.int64(657), 'key': np.int64(1402), 'mistake': np.int64(1674), 'mess': np.int64(1641), 'struggle': np.int64(2530), 'beginning': np.int64(257), 'dope': np.int64(759), 'tryna': np.int64(2733), 'squads': np.int64(2470), 'squad': np.int64(2469), 'split': np.int64(2464), 'either': np.int64(827), 'hang': np.int64(1198), 'comes': np.int64(524), 'eu': np.int64(879), 'sounds': np.int64(2446), 'skin': np.int64(2395), 'free': np.int64(1058), 'issue': np.int64(1363), 'stand': np.int64(2478), 'alone': np.int64(71), 'log': np.int64(1529), 'care': np.int64(406), 'hits': np.int64(1256), 'steam': np.int64(2495), 'lets': np.int64(1485), 'garbage': np.int64(1097), 'net': np.int64(1751), 'satisfied': np.int64(2259), 'artist': np.int64(174), 'successful': np.int64(2548), 'youtu': np.int64(2987), 'competition': np.int64(540), 'explain': np.int64(916), 'wan': np.int64(2858), 'download': np.int64(764), 'whilst': np.int64(2905), 'virtual': np.int64(2839), 'without': np.int64(2933), 'friendly': np.int64(1066), 'reminder': np.int64(2157), 'soundtrack': np.int64(2447), 'absolute': np.int64(5), 'song': np.int64(2433), 'track': np.int64(2698), 'classic': np.int64(485), 'theme': np.int64(2624), 'html': np.int64(1290), 'dog': np.int64(750), 'audio': np.int64(201), 'noob': np.int64(1778), 'build': np.int64(367), 'eli': np.int64(829), 'direct': np.int64(725), 'item': np.int64(1365), 'fallout': np.int64(939), 'child': np.int64(465), 'company': np.int64(536), 'third': np.int64(2633), 'amply': np.int64(115), 'soooo': np.int64(2439), 'situation': np.int64(2390), 'harry': np.int64(1211), 'jeff': np.int64(1374), 'rainbow': np.int64(2083), 'silver': np.int64(2380), 'political': np.int64(1969), 'lack': np.int64(1434), 'market': np.int64(1596), 'regular': np.int64(2142), 'basically': np.int64(236), 'sun': np.int64(2558), 'winter': np.int64(2924), 'golden': np.int64(1143), 'completed': np.int64(547), 'wine': np.int64(2919), 'thing': np.int64(2628), 'learned': np.int64(1469), 'different': np.int64(720), 'versions': np.int64(2821), 'edition': np.int64(820), 'complete': np.int64(546), 'reset': np.int64(2170), 'system': np.int64(2577), 'wipe': np.int64(2925), 'everyti': np.int64(893), 'whenever': np.int64(2903), 'gave': np.int64(1099), 'basic': np.int64(235), 'echo': np.int64(815), 'cast': np.int64(415), 'except': np.int64(901), 'loading': np.int64(1521), 'whatever': np.int64(2901), 'paper': np.int64(1866), 'normally': np.int64(1780), 'tho': np.int64(2634), 'leveled': np.int64(1488), 'destroying': np.int64(704), 'everything': np.int64(892), 'monster': np.int64(1697), 'changing': np.int64(444), 'along': np.int64(72), 'successfully': np.int64(2549), 'bought': np.int64(321), 'purchased': np.int64(2051), 'crashing': np.int64(605), 'dumbass': np.int64(789), 'mf': np.int64(1650), 'looks': np.int64(1540), 'asking': np.int64(181), 'randy': np.int64(2088), 'pitchford': np.int64(1927), 'mix': np.int64(1676), 'helped': np.int64(1237), 'honestly': np.int64(1265), 'al': np.int64(62), 'amal': np.int64(83), 'add': np.int64(32), 'mark': np.int64(1595), 'zelda': np.int64(2993), 'recommend': np.int64(2124), 'ill': np.int64(1319), 'bringing': np.int64(342), 'tears': np.int64(2603), 'playthrough': np.int64(1950), 'unlocked': np.int64(2782), 'party': np.int64(1875), 'community': np.int64(533), 'support': np.int64(2561), 'shown': np.int64(2366), 'insane': np.int64(1337), 'showed': np.int64(2364), 'incredible': np.int64(1326), 'yo': np.int64(2982), 'friends': np.int64(1067), 'found': np.int64(1049), 'emotional': np.int64(836), 'went': np.int64(2897), 'bed': np.int64(256), 'wrong': np.int64(2963), 'earlier': np.int64(801), 'safe': np.int64(2249), 'near': np.int64(1742), 'somehow': np.int64(2427), 'nearly': np.int64(1743), 'creator': np.int64(611), 'code': np.int64(507), 'help': np.int64(1236), 'bro': np.int64(344), 'delayed': np.int64(686), 'anti': np.int64(142), 'racism': np.int64(2076), 'visuals': np.int64(2844), 'freeze': np.int64(1060), 'break': np.int64(335), 'frame': np.int64(1055), 'worried': np.int64(2953), 'otherwise': np.int64(1842), 'breaking': np.int64(336), 'whats': np.int64(2902), 'heads': np.int64(1218), 'crash': np.int64(602), 'enjoyable': np.int64(851), 'yall': np.int64(2971), 'giving': np.int64(1127), 'random': np.int64(2086), 'boy': np.int64(327), 'feed': np.int64(970), 'dogs': np.int64(751), 'mac': np.int64(1570), 'outta': np.int64(1845), 'stuff': np.int64(2537), 'angry': np.int64(132), 'town': np.int64(2694), 'football': np.int64(1030), 'school': np.int64(2279), 'genuinely': np.int64(1110), 'st': np.int64(2473), 'interesting': np.int64(1349), 'unpopular': np.int64(2784), 'opinion': np.int64(1828), 'none': np.int64(1776), 'view': np.int64(2834), 'perhaps': np.int64(1896), 'neither': np.int64(1748), 'burn': np.int64(377), 'atleast': np.int64(193), 'cheer': np.int64(462), 'least': np.int64(1471), 'match': np.int64(1605), 'lit': np.int64(1510), 'large': np.int64(1448), 'taste': np.int64(2592), 'discovered': np.int64(740), 'sooo': np.int64(2438), 'living': np.int64(1516), 'exciting': np.int64(904), 'remember': np.int64(2156), 'piece': np.int64(1915), 'merch': np.int64(1639), 'artists': np.int64(175), 'involved': np.int64(1355), 'guess': np.int64(1175), 'emotions': np.int64(837), 'letting': np.int64(1486), 'join': np.int64(1383), 'family': np.int64(942), 'history': np.int64(1254), 'ur': np.int64(2796), 'royal': np.int64(2229), 'review': np.int64(2189), 'brothers': np.int64(351), 'jason': np.int64(1373), 'sky': np.int64(2397), 'wolves': np.int64(2935), 'lines': np.int64(1505), 'stick': np.int64(2498), 'compete': np.int64(538), 'hating': np.int64(1214), 'gta': np.int64(1172), 'stay': np.int64(2491), 'legit': np.int64(1481), 'pleasure': np.int64(1953), 'custom': np.int64(637), 'jobs': np.int64(1379), 'wtf': np.int64(2965), 'worst': np.int64(2956), 'single': np.int64(2384), 'mine': np.int64(1662), 'team': np.int64(2599), 'industry': np.int64(1331), 'badly': np.int64(220), 'sweet': np.int64(2572), 'sweat': np.int64(2570), 'crossplay': np.int64(621), 'waste': np.int64(2872), 'planning': np.int64(1933), 'post': np.int64(1982), 'list': np.int64(1507), 'children': np.int64(466), 'regularly': np.int64(2143), 'wow': np.int64(2959), 'cod': np.int64(506), 'kids': np.int64(1409), 'box': np.int64(325), 'dr': np.int64(767), 'boys': np.int64(329), 'boxes': np.int64(326), 'tom': np.int64(2677), 'filled': np.int64(992), 'ran': np.int64(2085), 'smash': np.int64(2407), 'newest': np.int64(1757), 'hold': np.int64(1258), 'mask': np.int64(1599), 'held': np.int64(1232), 'available': np.int64(206), 'straight': np.int64(2513), 'humor': np.int64(1295), 'perfectly': np.int64(1894), 'goes': np.int64(1140), 'pitch': np.int64(1926), 'summer': np.int64(2557), 'combination': np.int64(519), 'thats': np.int64(2622), 'dragon': np.int64(769), 'bunch': np.int64(375), 'rarely': np.int64(2096), 'therefore': np.int64(2625), 'ampossible': np.int64(118), 'link': np.int64(1506), 'copy': np.int64(577), 'possibly': np.int64(1981), 'sit': np.int64(2387), 'chair': np.int64(433), 'sad': np.int64(2247), 'september': np.int64(2314), 'honor': np.int64(1266), 'joy': np.int64(1389), 'loss': np.int64(1552), 'produced': np.int64(2015), 'based': np.int64(234), 'name': np.int64(1733), 'pokémon': np.int64(1966), 'john': np.int64(1381), 'pokemon': np.int64(1965), 'zombies': np.int64(2997), 'world': np.int64(2950), 'bravo': np.int64(334), 'achievement': np.int64(21), 'increased': np.int64(1325), 'success': np.int64(2547), 'overall': np.int64(1846), 'opened': np.int64(1824), 'score': np.int64(2280), 'app': np.int64(153), 'giveaway': np.int64(1124), 'gift': np.int64(1119), 'subs': np.int64(2544), 'nerd': np.int64(1749), 'receive': np.int64(2120), 'blog': np.int64(297), 'international': np.int64(1350), 'waiting': np.int64(2852), 'buying': np.int64(384), 'division': np.int64(745), 'graphics': np.int64(1159), 'knew': np.int64(1421), 'updated': np.int64(2790), 'consoles': np.int64(563), 'however': np.int64(1285), 'select': np.int64(2305), 'nuts': np.int64(1792), 'zombie': np.int64(2996), 'wonder': np.int64(2938), 'nights': np.int64(1770), 'insanely': np.int64(1338), 'following': np.int64(1025), 'da': np.int64(645), 'performance': np.int64(1895), 'zero': np.int64(2994), 'dawn': np.int64(661), 'red': np.int64(2130), 'sooooo': np.int64(2440), 'tells': np.int64(2610), 'flag': np.int64(1011), 'remaster': np.int64(2154), 'date': np.int64(659), 'cover': np.int64(593), 'selling': np.int64(2309), 'sunday': np.int64(2559), 'mad': np.int64(1572), 'throughout': np.int64(2644), 'followed': np.int64(1023), 'popular': np.int64(1975), 'worse': np.int64(2955), 'tuned': np.int64(2738), 'hello': np.int64(1235), 'reddit': np.int64(2132), 'version': np.int64(2820), 'expect': np.int64(911), 'related': np.int64(2146), 'certain': np.int64(430), 'bear': np.int64(246), 'someti': np.int64(2430), 'hardly': np.int64(1209), 'awful': np.int64(213), 'hands': np.int64(1196), 'pro': np.int64(2010), 'subscribers': np.int64(2546), 'shame': np.int64(2336), 'bring': np.int64(341), 'eh': np.int64(826), 'usual': np.int64(2807), 'onto': np.int64(1820), 'cheers': np.int64(463), 'become': np.int64(253), 'mostly': np.int64(1704), 'laugh': np.int64(1457), 'especially': np.int64(871), 'experienced': np.int64(915), 'dis': np.int64(730), 'proud': np.int64(2033), 'losing': np.int64(1551), 'eagles': np.int64(798), 'batman': np.int64(238), 'sitting': np.int64(2389), 'reading': np.int64(2107), 'radio': np.int64(2078), 'skill': np.int64(2393), 'carried': np.int64(408), 'destiny': np.int64(701), 'park': np.int64(1868), 'shut': np.int64(2369), 'fourth': np.int64(1051), 'ready': np.int64(2108), 'friday': np.int64(1064), 'greatest': np.int64(1162), 'shooter': np.int64(2355), 'launching': np.int64(1459), 'website': np.int64(2888), 'release': np.int64(2148), 'given': np.int64(1125), 'nuclear': np.int64(1790), 'tank': np.int64(2590), 'viewers': np.int64(2835), 'busy': np.int64(381), 'mean': np.int64(1617), 'ive': np.int64(1368), 'order': np.int64(1835), 'rage': np.int64(2079), 'worlds': np.int64(2951), 'control': np.int64(571), 'death': np.int64(669), 'gone': np.int64(1145), 'walking': np.int64(2856), 'strange': np.int64(2514), 'note': np.int64(1781), 'born': np.int64(316), 'shadow': np.int64(2332), 'decent': np.int64(673), 'progress': np.int64(2022), 'congrats': np.int64(554), 'slightly': np.int64(2401), 'women': np.int64(2937), 'truly': np.int64(2728), 'birthday': np.int64(280), 'news': np.int64(1758), 'raid': np.int64(2080), 'strategy': np.int64(2515), 'comments': np.int64(529), 'weird': np.int64(2894), 'notes': np.int64(1782), 'forgot': np.int64(1038), 'mention': np.int64(1635), 'appreciated': np.int64(160), 'followers': np.int64(1024), 'jump': np.int64(1392), 'communities': np.int64(532), 'fight': np.int64(986), 'sharing': np.int64(2339), 'skills': np.int64(2394), 'sports': np.int64(2466), 'members': np.int64(1628), 'monday': np.int64(1695), 'interested': np.int64(1348), 'attempt': np.int64(197), 'spin': np.int64(2461), 'matter': np.int64(1611), 'bloody': np.int64(299), 'clai': np.int64(480), 'killed': np.int64(1411), 'joined': np.int64(1384), 'amself': np.int64(124), 'mr': np.int64(1717), 'franchise': np.int64(1056), 'begins': np.int64(258), 'poorly': np.int64(1972), 'dying': np.int64(795), 'blue': np.int64(301), 'releasing': np.int64(2151), 'govt': np.int64(1154), 'goal': np.int64(1134), 'sucked': np.int64(2551), 'fit': np.int64(1006), 'shitting': np.int64(2350), 'soundtracks': np.int64(2448), 'doom': np.int64(757), 'stuck': np.int64(2532), 'knight': np.int64(1423), 'november': np.int64(1786), 'moments': np.int64(1693), 'starts': np.int64(2486), 'happen': np.int64(1200), 'scary': np.int64(2275), 'including': np.int64(1323), 'mid': np.int64(1655), 'change': np.int64(441), 'city': np.int64(479), 'person': np.int64(1899), 'badass': np.int64(219), 'kidding': np.int64(1408), 'girls': np.int64(1122), 'leg': np.int64(1476), 'turning': np.int64(2742), 'schedule': np.int64(2278), 'july': np.int64(1391), 'nd': np.int64(1741), 'wednesday': np.int64(2889), 'service': np.int64(2320), 'festival': np.int64(981), 'design': np.int64(697), 'tons': np.int64(2681), 'everywhere': np.int64(894), 'painful': np.int64(1860), 'massive': np.int64(1601), 'continues': np.int64(570), 'disrespect': np.int64(743), 'balance': np.int64(222), 'poor': np.int64(1971), 'machine': np.int64(1571), 'considering': np.int64(559), 'finishing': np.int64(1003), 'sister': np.int64(2386), 'ai': np.int64(58), 'shooting': np.int64(2356), 'dance': np.int64(652), 'dreams': np.int64(773), 'per': np.int64(1891), 'se': np.int64(2291), 'kept': np.int64(1401), 'baby': np.int64(215), 'unable': np.int64(2764), 'figured': np.int64(989), 'middle': np.int64(1656), 'place': np.int64(1929), 'posts': np.int64(1987), 'means': np.int64(1618), 'connect': np.int64(556), 'shift': np.int64(2342), 'ticket': np.int64(2654), 'answer': np.int64(141), 'response': np.int64(2173), 'december': np.int64(672), 'videos': np.int64(2832), 'gotten': np.int64(1152), 'uses': np.int64(2804), 'li': np.int64(1492), 'scared': np.int64(2274), 'crying': np.int64(626), 'fell': np.int64(977), 'inside': np.int64(1339), 'call': np.int64(386), 'arcade': np.int64(163), 'register': np.int64(2141), 'properly': np.int64(2031), 'bullets': np.int64(371), 'enemies': np.int64(846), 'soon': np.int64(2437), 'hunt': np.int64(1296), 'daily': np.int64(647), 'club': np.int64(500), 'looting': np.int64(1543), 'killing': np.int64(1414), 'bless': np.int64(290), 'keeping': np.int64(1399), 'killer': np.int64(1412), 'operation': np.int64(1827), 'masterpiece': np.int64(1603), 'standard': np.int64(2479), 'videogame': np.int64(2831), 'jack': np.int64(1369), 'slap': np.int64(2398), 'sending': np.int64(2311), 'package': np.int64(1853), 'ton': np.int64(2679), 'material': np.int64(1609), 'united': np.int64(2778), 'culture': np.int64(629), 'realised': np.int64(2111), 'enemy': np.int64(847), 'realized': np.int64(2116), 'destroy': np.int64(702), 'facing': np.int64(927), 'odd': np.int64(1798), 'thrown': np.int64(2647), 'unique': np.int64(2777), 'introduced': np.int64(1353), 'advice': np.int64(44), 'known': np.int64(1427), 'screw': np.int64(2288), 'removed': np.int64(2160), 'servers': np.int64(2319), 'learning': np.int64(1470), 'install': np.int64(1343), 'intense': np.int64(1346), 'fps': np.int64(1053), 'gameplay': np.int64(1090), 'met': np.int64(1646), 'ship': np.int64(2344), 'flying': np.int64(1017), 'ages': np.int64(53), 'songs': np.int64(2434), 'cars': np.int64(409), 'deal': np.int64(666), 'june': np.int64(1395), 'uncharted': np.int64(2766), 'released': np.int64(2149), 'rant': np.int64(2094), 'ii': np.int64(1316), 'wondering': np.int64(2940), 'joke': np.int64(1386), 'cheat': np.int64(454), 'cheating': np.int64(457), 'hunter': np.int64(1297), 'son': np.int64(2432), 'hacker': np.int64(1184), 'attacked': np.int64(196), 'rolling': np.int64(2219), 'ended': np.int64(843), 'credit': np.int64(613), 'movement': np.int64(1711), 'number': np.int64(1791), 'celebrate': np.int64(426), 'email': np.int64(834), 'host': np.int64(1280), 'bounty': np.int64(322), 'amount': np.int64(112), 'told': np.int64(2676), 'goodbye': np.int64(1147), 'water': np.int64(2878), 'general': np.int64(1107), 'member': np.int64(1627), 'joe': np.int64(1380), 'wild': np.int64(2914), 'checking': np.int64(461), 'christmas': np.int64(475), 'mountain': np.int64(1707), 'sense': np.int64(2312), 'test': np.int64(2616), 'result': np.int64(2179), 'btw': np.int64(357), 'soo': np.int64(2436), 'colors': np.int64(516), 'type': np.int64(2751), 'br': np.int64(330), 'features': np.int64(967), 'choice': np.int64(471), 'young': np.int64(2984), 'among': np.int64(111), 'clips': np.int64(493), 'highlights': np.int64(1251), 'saving': np.int64(2265), 'create': np.int64(607), 'six': np.int64(2391), 'heroes': np.int64(1241), 'instead': np.int64(1345), 'ow': np.int64(1849), 'regarding': np.int64(2139), 'interview': np.int64(1352), 'older': np.int64(1813), 'threw': np.int64(2643), 'mentioned': np.int64(1636), 'gamers': np.int64(1092), 'network': np.int64(1753), 'messages': np.int64(1643), 'cowards': np.int64(595), 'account': np.int64(16), 'created': np.int64(608), 'offline': np.int64(1805), 'ksupport': np.int64(1432), 'although': np.int64(78), 'counter': np.int64(588), 'trick': np.int64(2716), 'trump': np.int64(2729), 'reached': np.int64(2105), 'building': np.int64(368), 'office': np.int64(1802), 'solution': np.int64(2424), 'grow': np.int64(1170), 'deserved': np.int64(695), 'decisions': np.int64(677), 'deserves': np.int64(696), 'decision': np.int64(676), 'plot': np.int64(1955), 'slowly': np.int64(2403), 'walk': np.int64(2854), 'surprise': np.int64(2565), 'lag': np.int64(1438), 'amited': np.int64(105), 'cartel': np.int64(410), 'menus': np.int64(1638), 'menu': np.int64(1637), 'map': np.int64(1591), 'camera': np.int64(392), 'mp': np.int64(1716), 'fully': np.int64(1080), 'trailer': np.int64(2701), 'evil': np.int64(895), 'roll': np.int64(2218), 'devil': np.int64(710), 'cry': np.int64(625), 'zone': np.int64(2998), 'unless': np.int64(2781), 'joining': np.int64(1385), 'personally': np.int64(1901), 'energy': np.int64(848), 'move': np.int64(1709), 'client': np.int64(491), 'defense': np.int64(683), 'wish': np.int64(2928), 'pull': np.int64(2045), 'violence': np.int64(2837), 'uwu': np.int64(2809), 'lagging': np.int64(1440), 'whose': np.int64(2909), 'frustrating': np.int64(1071), 'ideas': np.int64(1308), 'lags': np.int64(1441), 'relevant': np.int64(2152), 'scratch': np.int64(2282), 'folks': np.int64(1021), 'recent': np.int64(2122), 'study': np.int64(2536), 'population': np.int64(1976), 'winning': np.int64(2922), 'bronze': np.int64(348), 'screens': np.int64(2285), 'magic': np.int64(1576), 'gr': np.int64(1155), 'color': np.int64(515), 'sadly': np.int64(2248), 'likes': np.int64(1501), 'serious': np.int64(2316), 'unfortunately': np.int64(2774), 'screenshot': np.int64(2286), 'ending': np.int64(844), 'pirate': np.int64(1920), 'lame': np.int64(1443), 'bst': np.int64(356), 'restart': np.int64(2176), 'stupidest': np.int64(2540), 'flawed': np.int64(1013), 'updates': np.int64(2791), 'cheap': np.int64(453), 'lazy': np.int64(1460), 'captain': np.int64(401), 'appeared': np.int64(156), 'disaster': np.int64(737), 'heck': np.int64(1230), 'dear': np.int64(668), 'complaints': np.int64(545), 'sam': np.int64(2254), 'corner': np.int64(579), 'saw': np.int64(2266), 'ad': np.int64(31), 'upset': np.int64(2795), 'bored': np.int64(314), 'pleased': np.int64(1952), 'announce': np.int64(135), 'agent': np.int64(52), 'freedom': np.int64(1059), 'scammed': np.int64(2272), 'island': np.int64(1361), 'healthy': np.int64(1220), 'ignore': np.int64(1315), 'boots': np.int64(311), 'scum': np.int64(2290), 'band': np.int64(226), 'highly': np.int64(1252), 'pure': np.int64(2052), 'weeks': np.int64(2893), 'companies': np.int64(535), 'fake': np.int64(935), 'huh': np.int64(1292), 'posted': np.int64(1983), 'silly': np.int64(2379), 'kit': np.int64(1420), 'false': np.int64(940), 'purple': np.int64(2053), 'wife': np.int64(2911), 'learn': np.int64(1468), 'lights': np.int64(1497), 'self': np.int64(2307), 'notice': np.int64(1784), 'proof': np.int64(2029), 'light': np.int64(1496), 'devs': np.int64(711), 'ama': np.int64(80), 'vid': np.int64(2829), 'drive': np.int64(775), 'literal': np.int64(1511), 'missed': np.int64(1670), 'lvl': np.int64(1568), 'elite': np.int64(830), 'ft': np.int64(1073), 'horse': np.int64(1278), 'lock': np.int64(1526), 'skins': np.int64(2396), 'aswell': np.int64(192), 'maps': np.int64(1592), 'feature': np.int64(965), 'hoping': np.int64(1272), 'director': np.int64(728), 'recommended': np.int64(2125), 'garage': np.int64(1096), 'engine': np.int64(849), 'ammersive': np.int64(109), 'five': np.int64(1007), 'bag': np.int64(221), 'house': np.int64(1284), 'tf': np.int64(2618), 'plz': np.int64(1959), 'driving': np.int64(777), 'obviously': np.int64(1794), 'nowhere': np.int64(1787), 'fool': np.int64(1027), 'deserve': np.int64(694), 'round': np.int64(2225), 'commission': np.int64(530), 'million': np.int64(1659), 'poverty': np.int64(1988), 'health': np.int64(1219), 'services': np.int64(2321), 'streak': np.int64(2516), 'streaks': np.int64(2517), 'disappointed': np.int64(734), 'pa': np.int64(1851), 'opti': np.int64(1832), 'environment': np.int64(861), 'ampressive': np.int64(120), 'built': np.int64(370), 'ampressed': np.int64(119), 'ground': np.int64(1168), 'besides': np.int64(264), 'watched': np.int64(2876), 'freaking': np.int64(1057), 'reported': np.int64(2165), 'pisses': np.int64(1923), 'reveal': np.int64(2186), 'ppl': np.int64(1991), 'pandemic': np.int64(1864), 'everyday': np.int64(890), 'complain': np.int64(542), 'multiplayer': np.int64(1721), 'chill': np.int64(467), 'ops': np.int64(1831), 'controls': np.int64(573), 'cold': np.int64(511), 'boring': np.int64(315), 'mw': np.int64(1728), 'china': np.int64(469), 'trust': np.int64(2730), 'streamers': np.int64(2520), 'beta': np.int64(267), 'sniping': np.int64(2413), 'slide': np.int64(2400), 'higher': np.int64(1248), 'feet': np.int64(975), 'sniper': np.int64(2412), 'users': np.int64(2803), 'results': np.int64(2180), 'takes': np.int64(2584), 'ca': np.int64(385), 'bullshit': np.int64(373), 'amum': np.int64(125), 'horde': np.int64(1273), 'eating': np.int64(813), 'air': np.int64(59), 'center': np.int64(428), 'dot': np.int64(760), 'yay': np.int64(2973), 'ranks': np.int64(2093), 'treyarch': np.int64(2714), 'user': np.int64(2801), 'useless': np.int64(2800), 'jet': np.int64(1376), 'packs': np.int64(1856), 'setting': np.int64(2324), 'bot': np.int64(318), 'prize': np.int64(2008), 'buck': np.int64(358), 'title': np.int64(2667), 'slow': np.int64(2402), 'quick': np.int64(2069), 'dvd': np.int64(794), 'promoting': np.int64(2028), 'race': np.int64(2074), 'rip': np.int64(2203), 'threat': np.int64(2641), 'selection': np.int64(2306), 'win': np.int64(2917), 'ice': np.int64(1302), 'smh': np.int64(2409), 'south': np.int64(2450), 'period': np.int64(1897), 'goddamn': np.int64(1138), 'alpha': np.int64(74), 'funniest': np.int64(1082), 'honest': np.int64(1264), 'quest': np.int64(2064), 'click': np.int64(490), 'embarrassing': np.int64(835), 'duty': np.int64(793), 'cheats': np.int64(458), 'ruining': np.int64(2238), 'scammers': np.int64(2273), 'ruin': np.int64(2236), 'woods': np.int64(2942), 'hella': np.int64(1234), 'memories': np.int64(1631), 'wont': np.int64(2941), 'atviassist': np.int64(200), 'pre': np.int64(1993), 'longer': np.int64(1535), 'era': np.int64(867), 'allow': np.int64(68), 'anyti': np.int64(147), 'shot': np.int64(2359), 'solid': np.int64(2421), 'double': np.int64(762), 'acting': np.int64(25), 'edit': np.int64(818), 'ex': np.int64(896), 'bo': np.int64(303), 'aka': np.int64(61), 'mechanics': np.int64(1621), 'soldier': np.int64(2420), 'press': np.int64(1998), 'cri': np.int64(618), 'mass': np.int64(1600), 'sell': np.int64(2308), 'direction': np.int64(726), 'africa': np.int64(48), 'yt': np.int64(2991), 'army': np.int64(168), 'max': np.int64(1612), 'returning': np.int64(2183), 'source': np.int64(2449), 'tik': np.int64(2657), 'tok': np.int64(2674), 'effect': np.int64(822), 'sort': np.int64(2442), 'flop': np.int64(1015), 'wasted': np.int64(2873), 'teams': np.int64(2602), 'flip': np.int64(1014), 'plenty': np.int64(1954), 'gamer': np.int64(1091), 'horror': np.int64(1277), 'ww': np.int64(2966), 'rt': np.int64(2233), 'willing': np.int64(2916), 'whoever': np.int64(2907), 'remastered': np.int64(2155), 'hack': np.int64(1182), 'warzone': np.int64(2871), 'meant': np.int64(1619), 'battle': np.int64(239), 'challenges': np.int64(435), 'challenge': np.int64(434), 'hearing': np.int64(1223), 'ladder': np.int64(1435), 'google': np.int64(1149), 'leaving': np.int64(1474), 'stone': np.int64(2504), 'youtubers': np.int64(2990), 'preorder': np.int64(1996), 'ordered': np.int64(1836), 'activision': np.int64(28), 'guard': np.int64(1173), 'picking': np.int64(1910), 'competitive': np.int64(541), 'heavy': np.int64(1229), 'purchase': np.int64(2050), 'apparently': np.int64(154), 'worldwide': np.int64(2952), 'cloud': np.int64(499), 'role': np.int64(2217), 'ubisoft': np.int64(2753), 'alliance': np.int64(67), 'stayed': np.int64(2492), 'reagan': np.int64(2109), 'terms': np.int64(2614), 'exact': np.int64(897), 'tag': np.int64(2580), 'rich': np.int64(2194), 'iconic': np.int64(1304), 'amilar': np.int64(101), 'promising': np.int64(2026), 'mood': np.int64(1701), 'scene': np.int64(2276), 'woman': np.int64(2936), 'wasting': np.int64(2874), 'dislike': np.int64(742), 'auto': np.int64(204), 'car': np.int64(403), 'sa': np.int64(2246), 'europe': np.int64(880), 'lucky': np.int64(1566), 'fixed': np.int64(1009), 'african': np.int64(49), 'article': np.int64(172), 'realistic': np.int64(2113), 'ugly': np.int64(2757), 'leaked': np.int64(1467), 'advertising': np.int64(43), 'korean': np.int64(1430), 'sign': np.int64(2376), 'statement': np.int64(2488), 'cards': np.int64(405), 'positive': np.int64(1979), 'lie': np.int64(1494), 'keeps': np.int64(1400), 'shots': np.int64(2360), 'hackers': np.int64(1185), 'dirty': np.int64(729), 'wants': np.int64(2862), 'remove': np.int64(2159), 'yep': np.int64(2977), 'sr': np.int64(2472), 'codes': np.int64(508), 'tweet': np.int64(2745), 'within': np.int64(2932), 'clash': np.int64(482), 'amprove': np.int64(121), 'gen': np.int64(1106), 'developers': np.int64(708), 'outstanding': np.int64(1844), 'military': np.int64(1658), 'core': np.int64(578), 'pile': np.int64(1917), 'listen': np.int64(1508), 'rid': np.int64(2195), 'sbmm': np.int64(2270), 'stress': np.int64(2527), 'trailers': np.int64(2702), 'ring': np.int64(2200), 'seem': np.int64(2301), 'fr': np.int64(1054), 'thinks': np.int64(2632), 'stopped': np.int64(2506), 'luck': np.int64(1565), 'logging': np.int64(1531), 'trouble': np.int64(2723), 'clear': np.int64(487), 'smelly': np.int64(2408), 'longest': np.int64(1536), 'aware': np.int64(210), 'job': np.int64(1378), 'talented': np.int64(2587), 'sport': np.int64(2465), 'tracker': np.int64(2699), 'gg': np.int64(1116), 'ruined': np.int64(2237), 'upon': np.int64(2794), 'america': np.int64(98), 'camo': np.int64(393), 'training': np.int64(2704), 'till': np.int64(2661), 'august': np.int64(202), 'le': np.int64(1461), 'tbh': np.int64(2595), 'mistakes': np.int64(1675), 'setup': np.int64(2326), 'underrated': np.int64(2768), 'rts': np.int64(2234), 'ezio': np.int64(924), 'shite': np.int64(2348), 'seemed': np.int64(2302), 'ani': np.int64(133), 'amations': np.int64(90), 'amation': np.int64(89), 'james': np.int64(1371), 'planet': np.int64(1932), 'relax': np.int64(2147), 'perfection': np.int64(1893), 'yup': np.int64(2992), 'idc': np.int64(1306), 'fate': np.int64(957), 'information': np.int64(1335), 'teaser': np.int64(2604), 'mm': np.int64(1679), 'rd': np.int64(2102), 'un': np.int64(2763), 'david': np.int64(660), 'pubs': np.int64(2044), 'vibes': np.int64(2825), 'becoming': np.int64(255), 'montage': np.int64(1698), 'effort': np.int64(823), 'agree': np.int64(55), 'wrote': np.int64(2964), 'ampact': np.int64(113), 'beats': np.int64(250), 'liking': np.int64(1502), 'hopes': np.int64(1271), 'national': np.int64(1737), 'broke': np.int64(346), 'nobody': np.int64(1773), 'microsoft': np.int64(1654), 'announcement': np.int64(137), 'surprised': np.int64(2566), 'share': np.int64(2337), 'marvel': np.int64(1598), 'info': np.int64(1334), 'throw': np.int64(2645), 'page': np.int64(1857), 'bout': np.int64(323), 'showing': np.int64(2365), 'danger': np.int64(654), 'rise': np.int64(2204), 'lead': np.int64(1462), 'steps': np.int64(2497), 'frustration': np.int64(1072), 'obvious': np.int64(1793), 'postponed': np.int64(1986), 'dropped': np.int64(780), 'gorgeous': np.int64(1150), 'hurts': np.int64(1299), 'bottom': np.int64(320), 'dollar': np.int64(753), 'hurt': np.int64(1298), 'present': np.int64(1997), 'sleep': np.int64(2399), 'hole': np.int64(1259), 'incredibly': np.int64(1327), 'smaller': np.int64(2405), 'clearly': np.int64(488), 'clip': np.int64(492), 'search': np.int64(2293), 'oops': np.int64(1821), 'bomb': np.int64(307), 'gang': np.int64(1095), 'often': np.int64(1806), 'trapped': np.int64(2705), 'square': np.int64(2471), 'brother': np.int64(349), 'mail': np.int64(1577), 'stinks': np.int64(2500), 'jesus': np.int64(1375), 'christ': np.int64(474), 'demo': np.int64(691), 'pain': np.int64(1859), 'bigger': np.int64(275), 'ngl': np.int64(1761), 'quiet': np.int64(2071), 'hide': np.int64(1245), 'fortnite': np.int64(1045), 'destroyed': np.int64(703), 'broadcast': np.int64(345), 'smooth': np.int64(2410), 'af': np.int64(45), 'pictures': np.int64(1914), 'bio': np.int64(278), 'pathetic': np.int64(1882), 'fools': np.int64(1028), 'balls': np.int64(224), 'worry': np.int64(2954), 'nigga': np.int64(1766), 'shoot': np.int64(2354), 'unfinished': np.int64(2773), 'alex': np.int64(65), 'yikes': np.int64(2981), 'rng': np.int64(2207), 'hated': np.int64(1213), 'sucking': np.int64(2552), 'wifi': np.int64(2912), 'excuses': np.int64(907), 'cost': np.int64(584), 'kid': np.int64(1407), 'lady': np.int64(1437), 'technical': np.int64(2606), 'security': np.int64(2298), 'grinding': np.int64(1167), 'fixing': np.int64(1010), 'fail': np.int64(931), 'cuz': np.int64(641), 'disgusting': np.int64(741), 'mfs': np.int64(1651), 'victi': np.int64(2827), 'dev': np.int64(707), 'treated': np.int64(2711), 'society': np.int64(2417), 'forcing': np.int64(1034), 'realism': np.int64(2112), 'vehicles': np.int64(2819), 'hp': np.int64(1286), 'solve': np.int64(2425), 'meeting': np.int64(1625), 'fucked': np.int64(1075), 'consistently': np.int64(561), 'low': np.int64(1562), 'weak': np.int64(2882), 'constant': np.int64(564), 'west': np.int64(2898), 'ik': np.int64(1318), 'suck': np.int64(2550), 'networking': np.int64(1754), 'adding': np.int64(36), 'represent': np.int64(2167), 'proper': np.int64(2030), 'cell': np.int64(427), 'updating': np.int64(2792), 'blackout': np.int64(286), 'platform': np.int64(1936), 'prefer': np.int64(1994), 'asked': np.int64(180), 'racist': np.int64(2077), 'language': np.int64(1446), 'infinityward': np.int64(1333), 'camp': np.int64(394), 'thru': np.int64(2648), 'becomes': np.int64(254), 'randomly': np.int64(2087), 'punk': np.int64(2049), 'state': np.int64(2487), 'bruh': np.int64(354), 'mixed': np.int64(1677), 'grateful': np.int64(1160), 'growing': np.int64(1171), 'site': np.int64(2388), 'cheaters': np.int64(456), 'age': np.int64(51), 'cracked': np.int64(599), 'russian': np.int64(2245), 'opens': np.int64(1826), 'mins': np.int64(1666), 'word': np.int64(2943), 'aminals': np.int64(103), 'minutes': np.int64(1668), 'board': np.int64(304), 'multiple': np.int64(1722), 'missions': np.int64(1673), 'changed': np.int64(442), 'cancelled': np.int64(397), 'photo': np.int64(1905), 'details': np.int64(706), 'releases': np.int64(2150), 'esti': np.int64(877), 'amated': np.int64(86), 'rising': np.int64(2205), 'tuesday': np.int64(2736), 'windows': np.int64(2918), 'equipment': np.int64(866), 'delete': np.int64(688), 'hop': np.int64(1268), 'status': np.int64(2490), 'push': np.int64(2054), 'yoo': np.int64(2983), 'seen': np.int64(2304), 'entertaining': np.int64(857), 'pop': np.int64(1973), 'pumped': np.int64(2048), 'bowl': np.int64(324), 'everybody': np.int64(889), 'championship': np.int64(439), 'wins': np.int64(2923), 'steal': np.int64(2493), 'exclusive': np.int64(905), 'ffs': np.int64(982), 'ruins': np.int64(2239), 'buddies': np.int64(361), 'shenanigans': np.int64(2340), 'ride': np.int64(2196), 'min': np.int64(1660), 'errors': np.int64(869), 'playoverwatch': np.int64(1947), 'error': np.int64(868), 'spam': np.int64(2452), 'locked': np.int64(1528), 'toxic': np.int64(2695), 'automata': np.int64(205), 'curse': np.int64(634), 'signed': np.int64(2377), 'bet': np.int64(266), 'shoutout': np.int64(2362), 'professional': np.int64(2019), 'tracer': np.int64(2697), 'xp': np.int64(2969), 'arguing': np.int64(166), 'mic': np.int64(1652), 'diamond': np.int64(713), 'ana': np.int64(127), 'ahead': np.int64(57), 'blizzard': np.int64(294), 'nasty': np.int64(1736), 'comp': np.int64(534), 'outside': np.int64(1843), 'hero': np.int64(1240), 'wraith': np.int64(2960), 'panic': np.int64(1865), 'loser': np.int64(1548), 'court': np.int64(592), 'calling': np.int64(388), 'anger': np.int64(131), 'suddenly': np.int64(2554), 'surprisingly': np.int64(2567), 'changes': np.int64(443), 'size': np.int64(2392), 'dad': np.int64(646), 'chilling': np.int64(468), 'cap': np.int64(400), 'thus': np.int64(2651), 'brain': np.int64(332), 'owl': np.int64(1850), 'ban': np.int64(225), 'champion': np.int64(437), 'anybody': np.int64(143), 'body': np.int64(305), 'ask': np.int64(179), 'racing': np.int64(2075), 'forces': np.int64(1033), 'souls': np.int64(2444), 'unstoppable': np.int64(2787), 'police': np.int64(1967), 'dick': np.int64(715), 'protect': np.int64(2032), 'grew': np.int64(1165), 'mentality': np.int64(1634), 'promise': np.int64(2025), 'ten': np.int64(2611), 'corruption': np.int64(582), 'atm': np.int64(194), 'grab': np.int64(1156), 'trolling': np.int64(2721), 'troll': np.int64(2720), 'suit': np.int64(2556), 'armor': np.int64(167), 'interest': np.int64(1347), 'mercy': np.int64(1640), 'morgan': np.int64(1702), 'michael': np.int64(1653), 'coffee': np.int64(509), 'disappoint': np.int64(733), 'flat': np.int64(1012), 'abandon': np.int64(1), 'vr': np.int64(2848), 'paladins': np.int64(1863), 'til': np.int64(2659), 'rounds': np.int64(2226), 'shine': np.int64(2343), 'cat': np.int64(418), 'mom': np.int64(1691), 'style': np.int64(2541), 'pt': np.int64(2037), 'valorant': np.int64(2812), 'smurf': np.int64(2411), 'addicted': np.int64(34), 'eat': np.int64(812), 'exists': np.int64(909), 'student': np.int64(2533), 'students': np.int64(2534), 'matches': np.int64(1606), 'increase': np.int64(1324), 'losers': np.int64(1549), 'points': np.int64(1964), 'champions': np.int64(438), 'filthy': np.int64(994), 'casual': np.int64(417), 'remake': np.int64(2153), 'leaderboard': np.int64(1464), 'login': np.int64(1532), 'crashed': np.int64(603), 'masters': np.int64(1604), 'banning': np.int64(229), 'cursed': np.int64(635), 'reconnect': np.int64(2127), 'throwing': np.int64(2646), 'wake': np.int64(2853), 'crew': np.int64(617), 'strike': np.int64(2528), 'apex': np.int64(152), 'tune': np.int64(2737), 'shared': np.int64(2338), 'forgotten': np.int64(1039), 'mates': np.int64(1610), 'teammate': np.int64(2600), 'award': np.int64(208), 'reward': np.int64(2191), 'essentially': np.int64(875), 'legends': np.int64(1479), 'suspended': np.int64(2568), 'connection': np.int64(557), 'rejoin': np.int64(2145), 'ent': np.int64(855), 'spell': np.int64(2456), 'draw': np.int64(770), 'seconds': np.int64(2296), 'omfg': np.int64(1815), 'xd': np.int64(2968), 'didnt': np.int64(716), 'sexy': np.int64(2330), 'ball': np.int64(223), 'value': np.int64(2813), 'havent': np.int64(1215), 'og': np.int64(1807), 'hes': np.int64(1242), 'hitting': np.int64(1257), 'goat': np.int64(1136), 'mate': np.int64(1608), 'banned': np.int64(228), 'afk': np.int64(46), 'teach': np.int64(2598), 'phenomenal': np.int64(1903), 'featured': np.int64(966), 'idiots': np.int64(1310), 'famous': np.int64(943), 'highlight': np.int64(1250), 'complaining': np.int64(543), 'eyes': np.int64(923), 'ult': np.int64(2760), 'acc': np.int64(10), 'eye': np.int64(922), 'profile': np.int64(2020), 'prominent': np.int64(2024), 'web': np.int64(2887), 'galaxy': np.int64(1086), 'hd': np.int64(1216), 'somewhere': np.int64(2431), 'average': np.int64(207), 'female': np.int64(979), 'highest': np.int64(1249), 'pissing': np.int64(1924), 'pissed': np.int64(1922), 'logged': np.int64(1530), 'academy': np.int64(9), 'girlfriend': np.int64(1121), 'consider': np.int64(558), 'process': np.int64(2014), 'forced': np.int64(1032), 'turns': np.int64(2743), 'bans': np.int64(230), 'weekly': np.int64(2892), 'men': np.int64(1632), 'holiday': np.int64(1260), 'form': np.int64(1040), 'entertainment': np.int64(858), 'program': np.int64(2021), 'afterwards': np.int64(50), 'titanfall': np.int64(2665), 'fortnightly': np.int64(1044), 'blame': np.int64(288), 'esports': np.int64(874), 'teammates': np.int64(2601), 'lobbies': np.int64(1523), 'load': np.int64(1520), 'items': np.int64(1366), 'wire': np.int64(2926), 'tl': np.int64(2670), 'bar': np.int64(231), 'ea': np.int64(796), 'fortune': np.int64(1047), 'lmfao': np.int64(1519), 'shield': np.int64(2341), 'cc': np.int64(423), 'bully': np.int64(374), 'abuse': np.int64(7), 'delivery': np.int64(690), 'hardcore': np.int64(1206), 'youre': np.int64(2985), 'example': np.int64(899), 'expansion': np.int64(910), 'fault': np.int64(958), 'patience': np.int64(1883), 'kicked': np.int64(1405), 'jokes': np.int64(1387), 'matchmaking': np.int64(1607), 'fucks': np.int64(1078), 'cinematic': np.int64(476), 'rev': np.int64(2185), 'text': np.int64(2617), 'tweets': np.int64(2746), 'data': np.int64(658), 'cli': np.int64(489), 'amb': np.int64(93), 'ranking': np.int64(2091), 'rating': np.int64(2100), 'stock': np.int64(2501), 'cheater': np.int64(455), 'dinner': np.int64(724), 'rewards': np.int64(2192), 'cozy': np.int64(597), 'hooked': np.int64(1267), 'meter': np.int64(1649), 'passed': np.int64(1877), 'management': np.int64(1588), 'stage': np.int64(2476), 'cs': np.int64(627), 'nightmare': np.int64(1769), 'expensive': np.int64(913), 'fails': np.int64(933), 'starcraft': np.int64(2481), 'storm': np.int64(2510), 'strength': np.int64(2526), 'chinese': np.int64(470), 'thousands': np.int64(2638), 'dollars': np.int64(754), 'meme': np.int64(1629), 'memes': np.int64(1630), 'nfl': np.int64(1760), 'nba': np.int64(1739), 'ads': np.int64(40), 'espn': np.int64(872), 'ladies': np.int64(1436), 'promo': np.int64(2027), 'reach': np.int64(2104), 'cancel': np.int64(396), 'charge': np.int64(450), 'kobe': np.int64(1429), 'helps': np.int64(1239), 'bots': np.int64(319), 'practice': np.int64(1992), 'dogshit': np.int64(752), 'basketball': np.int64(237), 'respect': np.int64(2172), 'creative': np.int64(610), 'smart': np.int64(2406), 'robot': np.int64(2210), 'opening': np.int64(1825), 'missing': np.int64(1671), 'ratings': np.int64(2101), 'views': np.int64(2836), 'facts': np.int64(930), 'competing': np.int64(539), 'wear': np.int64(2885), 'shirt': np.int64(2346), 'pride': np.int64(2005), 'anniversary': np.int64(134), 'riot': np.int64(2201), 'combined': np.int64(520), 'fascinating': np.int64(953), 'soccer': np.int64(2415), 'pink': np.int64(1919), 'addiction': np.int64(35), 'fair': np.int64(934), 'est': np.int64(876), 'front': np.int64(1069), 'empty': np.int64(840), 'hilarious': np.int64(1253), 'blessed': np.int64(291), 'pretend': np.int64(1999), 'boyfriend': np.int64(328), 'received': np.int64(2121), 'customer': np.int64(638), 'contact': np.int64(566), 'nbak': np.int64(1740), 'myteam': np.int64(1729), 'nk': np.int64(1772), 'victory': np.int64(2828), 'awards': np.int64(209), 'advantage': np.int64(41), 'sync': np.int64(2575), 'ronniek': np.int64(2222), 'beluba': np.int64(262), 'touched': np.int64(2688), 'ronk': np.int64(2221), 'tough': np.int64(2689), 'spend': np.int64(2457), 'vc': np.int64(2817), 'reply': np.int64(2163), 'heavily': np.int64(1228), 'signing': np.int64(2378), 'pvp': np.int64(2060), 'dangerous': np.int64(655), 'generation': np.int64(1108), 'screwed': np.int64(2289), 'dm': np.int64(748), 'sincerely': np.int64(2383), 'illegal': np.int64(1320), 'opponent': np.int64(1829), 'frustrated': np.int64(1070), 'lmaooo': np.int64(1518), 'niggas': np.int64(1767), 'token': np.int64(2675), 'sake': np.int64(2251), 'stealing': np.int64(2494), 'unplayable': np.int64(2783), 'confusing': np.int64(553), 'pack': np.int64(1852), 'position': np.int64(1978), 'bs': np.int64(355), 'glitch': np.int64(1129), 'attention': np.int64(199), 'handle': np.int64(1195), 'arena': np.int64(165), 'fat': np.int64(956), 'spread': np.int64(2468), 'mon': np.int64(1694), 'tour': np.int64(2690), 'ak': np.int64(60), 'dudes': np.int64(785), 'shits': np.int64(2349), 'dame': np.int64(649), 'wide': np.int64(2910), 'shoes': np.int64(2353), 'assist': np.int64(190), 'east': np.int64(810), 'def': np.int64(681), 'extreme': np.int64(920), 'buggy': np.int64(365), 'alright': np.int64(76), 'hacked': np.int64(1183), 'cpu': np.int64(598), 'brown': np.int64(353), 'saves': np.int64(2264), 'bud': np.int64(360), 'disrespectful': np.int64(744), 'nhl': np.int64(1762), 'easports': np.int64(808), 'lagged': np.int64(1439), 'government': np.int64(1153), 'madden': np.int64(1573), 'studio': np.int64(2535), 'alert': np.int64(64), 'empire': np.int64(838), 'visions': np.int64(2842), 'helping': np.int64(1238), 'poster': np.int64(1984), 'defender': np.int64(682), 'warning': np.int64(2868), 'files': np.int64(991), 'larry': np.int64(1450), 'nonsense': np.int64(1777), 'creators': np.int64(612), 'blow': np.int64(300), 'apple': np.int64(158), 'addition': np.int64(37), 'legend': np.int64(1477), 'naughty': np.int64(1738), 'refund': np.int64(2138), 'asap': np.int64(177), 'dang': np.int64(653), 'clothes': np.int64(497), 'clothing': np.int64(498), 'treasure': np.int64(2708), 'moved': np.int64(1710), 'feedback': np.int64(971), 'unranked': np.int64(2785), 'afraid': np.int64(47), 'trio': np.int64(2718), 'comment': np.int64(527), 'buddy': np.int64(362), 'manage': np.int64(1586), 'scam': np.int64(2271), 'pl': np.int64(1928), 'dota': np.int64(761), 'breath': np.int64(338), 'waited': np.int64(2851), 'di': np.int64(712), 'mt': np.int64(1718), 'idiot': np.int64(1309), 'glitches': np.int64(1130), 'booted': np.int64(310), 'repeat': np.int64(2162), 'homies': np.int64(1263), 'consistent': np.int64(560), 'quarantine': np.int64(2062), 'career': np.int64(407), 'wit': np.int64(2929), 'upgrade': np.int64(2793), 'bonus': np.int64(308), 'required': np.int64(2169), 'rush': np.int64(2244), 'premier': np.int64(1995), 'queen': np.int64(2063), 'packages': np.int64(1854), 'podcast': np.int64(1961), 'whale': np.int64(2899), 'aminal': np.int64(102), 'explaining': np.int64(917), 'mods': np.int64(1690), 'lobby': np.int64(1524), 'ultra': np.int64(2762), 'popping': np.int64(1974), 'blocked': np.int64(296), 'doubt': np.int64(763), 'commentary': np.int64(528), 'nick': np.int64(1764), 'iv': np.int64(1367), 'modes': np.int64(1687), 'price': np.int64(2004), 'youth': np.int64(2986), 'bugs': np.int64(366), 'kicking': np.int64(1406), 'accept': np.int64(11), 'partner': np.int64(1873), 'talent': np.int64(2586), 'blew': np.int64(292), 'retweet': np.int64(2184), 'complains': np.int64(544), 'brings': np.int64(343), 'isnt': np.int64(1362), 'pulled': np.int64(2046), 'lamar': np.int64(1442), 'scream': np.int64(2283), 'ip': np.int64(1357), 'passing': np.int64(1878), 'target': np.int64(2591), 'rob': np.int64(2209), 'puts': np.int64(2058), 'piss': np.int64(1921), 'cmon': np.int64(503), 'nah': np.int64(1732), 'contest': np.int64(568), 'leaves': np.int64(1473), 'kick': np.int64(1404), 'hiding': np.int64(1246), 'fut': np.int64(1084), 'negative': np.int64(1747), 'redd': np.int64(2131), 'unban': np.int64(2765), 'cinematics': np.int64(477), 'articles': np.int64(173), 'cis': np.int64(478), 'geek': np.int64(1105), 'bracket': np.int64(331), 'fnatic': np.int64(1019), 'casey': np.int64(412), 'bug': np.int64(364), 'lp': np.int64(1564), 'warcraft': np.int64(2864), 'bundle': np.int64(376), 'witch': np.int64(2930), 'valve': np.int64(2814), 'draft': np.int64(768), 'abilities': np.int64(2), 'packed': np.int64(1855), 'coronavirus': np.int64(581), 'virus': np.int64(2840), 'former': np.int64(1041), 'ugh': np.int64(2756), 'zonestream': np.int64(2999), 'cx': np.int64(642), 'comeback': np.int64(523), 'failed': np.int64(932), 'german': np.int64(1112), 'cup': np.int64(630), 'picks': np.int64(1911), 'attempts': np.int64(198), 'subscribe': np.int64(2545), 'roster': np.int64(2224), 'friendship': np.int64(1068), 'finger': np.int64(1000), 'mmr': np.int64(1680), 'trial': np.int64(2715), 'grand': np.int64(1157), 'sexual': np.int64(2329), 'sg': np.int64(2331), 'toxicity': np.int64(2696), 'indeed': np.int64(1328), 'decade': np.int64(670), 'titans': np.int64(2666), 'legion': np.int64(1480), 'guild': np.int64(1177), 'battlepass': np.int64(243), 'india': np.int64(1329), 'turbo': np.int64(2739), 'tags': np.int64(2581), 'mother': np.int64(1705), 'hahaha': np.int64(1189), 'model': np.int64(1685), 'cowboy': np.int64(596), 'workers': np.int64(2947), 'valhalla': np.int64(2811), 'address': np.int64(38), 'leader': np.int64(1463), 'snow': np.int64(2414), 'ol': np.int64(1811), 'cash': np.int64(413), 'prizes': np.int64(2009), 'annoyed': np.int64(138), 'crush': np.int64(623), 'polish': np.int64(1968), 'queue': np.int64(2068), 'eager': np.int64(797), 'treasures': np.int64(2709), 'thx': np.int64(2652), 'sale': np.int64(2252), 'gameforce': np.int64(1089), 'jp': np.int64(1390), 'button': np.int64(382), 'meta': np.int64(1647), 'announced': np.int64(136), 'melee': np.int64(1626), 'warm': np.int64(2867), 'equally': np.int64(865), 'dice': np.int64(714), 'earning': np.int64(804), 'egg': np.int64(825), 'delays': np.int64(687), 'managing': np.int64(1589), 'input': np.int64(1336), 'riotgames': np.int64(2202), 'amals': np.int64(84), 'mvp': np.int64(1727), 'scenes': np.int64(2277), 'unfair': np.int64(2772), 'port': np.int64(1977), 'priest': np.int64(2006), 'vi': np.int64(2822), 'inspiration': np.int64(1340), 'supporting': np.int64(2562), 'warlock': np.int64(2866), 'vac': np.int64(2810), 'accurate': np.int64(18), 'excitement': np.int64(903), 'pushed': np.int64(2055), 'physical': np.int64(1907), 'largest': np.int64(1449), 'ping': np.int64(1918), 'products': np.int64(2018), 'shaman': np.int64(2335), 'medal': np.int64(1622), 'breathtaking': np.int64(339), 'october': np.int64(1797), 'ipad': np.int64(1358), 'spot': np.int64(2467), 'admit': np.int64(39), 'oce': np.int64(1796), 'earned': np.int64(803), 'attack': np.int64(195), 'hacking': np.int64(1186), 'entirely': np.int64(860), 'humbly': np.int64(1294), 'toast': np.int64(2671), 'alexander': np.int64(66), 'ancients': np.int64(128), 'shadowlands': np.int64(2333), 'formula': np.int64(1042), 'reinstalled': np.int64(2144), 'burning': np.int64(378), 'horrific': np.int64(1276), 'vision': np.int64(2841), 'orgri': np.int64(1838), 'ammar': np.int64(107), 'chicken': np.int64(464), 'glory': np.int64(1132), 'raider': np.int64(2081), 'checked': np.int64(460), 'shroud': np.int64(2368), 'curve': np.int64(636), 'journey': np.int64(1388), 'dungeon': np.int64(790), 'included': np.int64(1322), 'elf': np.int64(828), 'leviathan': np.int64(1491), 'stormwind': np.int64(2511), 'license': np.int64(1493), 'plague': np.int64(1930), 'lore': np.int64(1546), 'unexpected': np.int64(2771), 'reforged': np.int64(2137), 'shocked': np.int64(2352), 'discord': np.int64(739), 'billion': np.int64(277), 'quests': np.int64(2067), 'lasted': np.int64(1452), 'rogue': np.int64(2216), 'technology': np.int64(2607), 'background': np.int64(217), 'maintenance': np.int64(1580), 'include': np.int64(1321), 'hr': np.int64(1287), 'siege': np.int64(2373), 'tinyurl': np.int64(2662), 'fb': np.int64(963), 'communication': np.int64(531), 'paul': np.int64(1884), 'evax': np.int64(881), 'sold': np.int64(2419), 'category': np.int64(420), 'peace': np.int64(1888), 'lunch': np.int64(1567), 'leveling': np.int64(1489), 'train': np.int64(2703), 'assassin': np.int64(185), 'creed': np.int64(616), 'hearthstone': np.int64(1225), 'awww': np.int64(214), 'amed': np.int64(96), 'indian': np.int64(1330), 'japanese': np.int64(1372), 'amazon': np.int64(92), 'mixer': np.int64(1678), 'spirit': np.int64(2463), 'goals': np.int64(1135), 'food': np.int64(1026), 'lives': np.int64(1515), 'blade': np.int64(287), 'pet': np.int64(1902), 'password': np.int64(1879), 'ways': np.int64(2881), 'bf': np.int64(270), 'moves': np.int64(1712), 'metacritic': np.int64(1648), 'tides': np.int64(2655), 'costume': np.int64(585), 'tavern': np.int64(2594), 'responses': np.int64(2174), 'print': np.int64(2007), 'deck': np.int64(678), 'cyberpunk': np.int64(643), 'bg': np.int64(273), 'trophy': np.int64(2722), 'minute': np.int64(1667), 'genre': np.int64(1109), 'parties': np.int64(1872), 'champ': np.int64(436), 'inspired': np.int64(1341), 'returned': np.int64(2182), 'clutch': np.int64(502), 'tiktok': np.int64(2658), 'streamlabs': np.int64(2522), 'wn': np.int64(2934), 'nr': np.int64(1789), 'wingman': np.int64(2920), 'esea': np.int64(870), 'iphone': np.int64(1359), 'editing': np.int64(819), 'idle': np.int64(1312), 'knife': np.int64(1422), 'bullied': np.int64(372), 'ace': np.int64(19), 'amproved': np.int64(122), 'jumped': np.int64(1393), 'lockdown': np.int64(1527), 'trading': np.int64(2700), 'casino': np.int64(414), 'finals': np.int64(997), 'charm': np.int64(451), 'losses': np.int64(1553), 'combo': np.int64(521), 'tactical': np.int64(2579), 'message': np.int64(1642), 'san': np.int64(2256), 'loses': np.int64(1550), 'esport': np.int64(873), 'infinite': np.int64(1332), 'route': np.int64(2227), 'ambot': np.int64(94), 'corona': np.int64(580), 'loose': np.int64(1541), 'economy': np.int64(816), 'pubg': np.int64(2040), 'switched': np.int64(2574), 'crisis': np.int64(619), 'mouse': np.int64(1708), 'playlist': np.int64(1946), 'screenshots': np.int64(2287), 'hacks': np.int64(1187), 'confused': np.int64(552), 'tournaments': np.int64(2692), 'icon': np.int64(1303), 'plans': np.int64(1934), 'college': np.int64(514), 'sweaty': np.int64(2571), 'jungle': np.int64(1396), 'tech': np.int64(2605), 'rated': np.int64(2098), 'rankings': np.int64(2092), 'provide': np.int64(2034), 'amateur': np.int64(88), 'uc': np.int64(2755), 'edt': np.int64(821), 'guide': np.int64(1176), 'elo': np.int64(831), 'assassins': np.int64(186), 'killers': np.int64(1413), 'brotherhood': np.int64(350), 'odyssey': np.int64(1799), 'assassinscreed': np.int64(187), 'credo': np.int64(615), 'spider': np.int64(2460), 'mythology': np.int64(1730), 'origins': np.int64(1840), 'permanently': np.int64(1898), 'assasin': np.int64(183), 'stops': np.int64(2507), 'revelations': np.int64(2187), 'request': np.int64(2168), 'ac': np.int64(8), 'pics': np.int64(1912), 'witcher': np.int64(2931), 'tsushi': np.int64(2734), 'assasins': np.int64(184), 'struggling': np.int64(2531), 'vote': np.int64(2847), 'explore': np.int64(918), 'pts': np.int64(2038), 'wearing': np.int64(2886), 'ubisoftsupport': np.int64(2754), 'youtuber': np.int64(2989), 'syndicate': np.int64(2576), 'cop': np.int64(575), 'accidentally': np.int64(14), 'trueachievement': np.int64(2726), 'trueachievements': np.int64(2727), 'ign': np.int64(1314), 'theft': np.int64(2623), 'occurred': np.int64(1795), 'rockstar': np.int64(2213), 'android': np.int64(130), 'ameline': np.int64(97), 'ubi': np.int64(2752), 'uh': np.int64(2758), 'ebay': np.int64(814), 'aaa': np.int64(0), 'eahelp': np.int64(799), 'mental': np.int64(1633), 'boi': np.int64(306), 'saved': np.int64(2263), 'solos': np.int64(2423), 'zoe': np.int64(2995), 'capture': np.int64(402), 'royale': np.int64(2230), 'gas': np.int64(1098), 'names': np.int64(1735), 'rp': np.int64(2231), 'canyon': np.int64(399), 'spinning': np.int64(2462), 'blitz': np.int64(293), 'penalty': np.int64(1889), 'plat': np.int64(1935), 'crunch': np.int64(622), 'causing': np.int64(422), 'mnk': np.int64(1681), 'coins': np.int64(510), 'amzn': np.int64(126), 'revenge': np.int64(2188), 'pub': np.int64(2039), 'rainbowgame': np.int64(2084), 'vids': np.int64(2833), 'thief': np.int64(2626), 'restarting': np.int64(2178), 'freezing': np.int64(1062), 'restarted': np.int64(2177), 'disable': np.int64(731), 'concert': np.int64(551), 'curious': np.int64(631), 'leagueoflegends': np.int64(1466), 'treat': np.int64(2710), 'fortnitegame': np.int64(1046), 'lane': np.int64(1445), 'username': np.int64(2802), 'pointless': np.int64(1963), 'lor': np.int64(1544), 'apps': np.int64(161), 'keyboard': np.int64(1403), 'harm': np.int64(1210), 'sanction': np.int64(2257), 'according': np.int64(15), 'coach': np.int64(505), 'tile': np.int64(2660), 'tk': np.int64(2669), 'invalid': np.int64(1354), 'bennitegame': np.int64(263), 'calls': np.int64(390), 'duos': np.int64(792), 'asia': np.int64(178), 'bucks': np.int64(359), 'behalf': np.int64(259), 'travis': np.int64(2707), 'truck': np.int64(2724), 'ios': np.int64(1356), 'george': np.int64(1111), 'clubs': np.int64(501), 'hs': np.int64(1289), 'heartstone': np.int64(1227), 'playhearthstone': np.int64(1944), 'freezes': np.int64(1061), 'minion': np.int64(1665), 'felfire': np.int64(976), 'battlegrounds': np.int64(242), 'decks': np.int64(679), 'duels': np.int64(787), 'mage': np.int64(1575), 'reno': np.int64(2161), 'options': np.int64(1834), 'stole': np.int64(2503), 'paladin': np.int64(1862), 'npc': np.int64(1788), 'buildings': np.int64(369), 'fart': np.int64(952), 'bfdb': np.int64(271), 'hardline': np.int64(1208), 'amposed': np.int64(117), 'decades': np.int64(671), 'redemption': np.int64(2136), 'battlefront': np.int64(241), 'rdr': np.int64(2103), 'rtx': np.int64(2235), 'bfv': np.int64(272), 'rule': np.int64(2240), 'recon': np.int64(2126), 'tdm': np.int64(2597), 'pakistan': np.int64(1861), 'pubgmobile': np.int64(2041), 'pubgmoe': np.int64(2042), 'modi': np.int64(1688), 'fife': np.int64(985), 'sat': np.int64(2258), 'redeeming': np.int64(2133), 'nigeria': np.int64(1765), 'easportsfifa': np.int64(809), 'messi': np.int64(1645), 'ronaldo': np.int64(2220), 'heist': np.int64(1231), 'stamina': np.int64(2477), 'van': np.int64(2815), 'redeemption': np.int64(2134), 'arthur': np.int64(171), 'rockstargames': np.int64(2214), 'redement': np.int64(2135), 'horses': np.int64(1279), 'andreas': np.int64(129), 'walker': np.int64(2855), 'rockstarsupport': np.int64(2215), 'johnny': np.int64(1382), 'drivers': np.int64(776), 'cops': np.int64(576), 'shipment': np.int64(2345), 'plunder': np.int64(1957), 'usps': np.int64(2806), 'drone': np.int64(778), 'stack': np.int64(2474), 'clancy': np.int64(481), 'toronto': np.int64(2684), 'vice': np.int64(2826), 'trevor': np.int64(2713), 'keanu': np.int64(1397), 'eamaddennfl': np.int64(800), 'mut': np.int64(1726), 'yard': np.int64(2972), 'cole': np.int64(512), 'ovr': np.int64(1848), 'cdpr': np.int64(425), 'cyberpunkgame': np.int64(644), 'silverhand': np.int64(2381), 'ghostrecon': np.int64(1118), 'breakpoint': np.int64(337), 'auroa': np.int64(203), 'wildlands': np.int64(2915), 'terminator': np.int64(2613), 'nomad': np.int64(1774), 'whalers': np.int64(2900)}\n"
     ]
    }
   ],
   "source": [
    "print(\"Vocab size: \", len(vectorizer.vocabulary_))\n",
    "print(\"Vocab\", vectorizer.vocabulary_)\n",
    "\n",
    "## Faire un graphe pour déterminer chaque vocabulaire qui centre le plus"
   ]
  },
  {
   "cell_type": "code",
   "execution_count": 27,
   "metadata": {},
   "outputs": [],
   "source": [
    "import pandas as pd\n",
    "import seaborn as sns\n",
    "import matplotlib.pyplot as plt\n",
    "\n",
    "# Convertir en DataFrame pour plus de clarté\n",
    "tfidf_df = pd.DataFrame(X.toarray(), columns=vectorizer.get_feature_names_out())\n",
    "\n",
    "# Étape 2 : Filtrer la plage des documents (indices des documents inclus)\n",
    "def filter_documents(tfidf_df, start_doc, end_doc):\n",
    "    return tfidf_df.iloc[start_doc:end_doc]\n",
    "\n",
    "# Étape 3 : Sélectionner les mots avec les scores les plus élevés\n",
    "# Limiter le nombre de mots les plus importants (par colonne globale)\n",
    "def filter_top_words(tfidf_df, top_n):\n",
    "    # Obtenir les mots les plus importants selon leur importance moyenne\n",
    "    word_scores = tfidf_df.mean(axis=0).sort_values(ascending=False)\n",
    "    top_words = word_scores.head(top_n).index\n",
    "    return tfidf_df[top_words]\n",
    "\n",
    "# Étape 4 : Générer le heatmap\n",
    "def plot_heatmap(filtered_df):\n",
    "    plt.figure(figsize=(10, 6))\n",
    "    sns.heatmap(filtered_df, annot=True, cmap=\"coolwarm\", cbar=True, fmt=\".2f\")\n",
    "    plt.title(\"Heatmap des scores TF-IDF\")\n",
    "    plt.xlabel(\"Mots\")\n",
    "    plt.ylabel(\"Tweets\")\n",
    "    plt.show()\n"
   ]
  },
  {
   "cell_type": "code",
   "execution_count": 28,
   "metadata": {},
   "outputs": [
    {
     "data": {
      "image/png": "[encoded data removed]",
      "text/plain": [
       "<Figure size 1000x600 with 2 Axes>"
      ]
     },
     "metadata": {},
     "output_type": "display_data"
    }
   ],
   "source": [
    "# Exemple d'utilisation\n",
    "start_doc, end_doc = 0, 10  # Inclure les 10 premiers documents\n",
    "top_n_words = 10            # Afficher les 5 mots les plus importants\n",
    "\n",
    "filtered_docs = filter_documents(tfidf_df, start_doc, end_doc)\n",
    "filtered_top_words = filter_top_words(filtered_docs, top_n_words)\n",
    "\n",
    "# Afficher le heatmap\n",
    "plot_heatmap(filtered_top_words)"
   ]
  },
  {
   "cell_type": "code",
   "execution_count": 29,
   "metadata": {},
   "outputs": [],
   "source": [
    "# Encodage des catégories\n",
    "sentiments = LabelEncoder()\n",
    "df['sentiment_category_encoded'] = sentiments.fit_transform(df['sentiment_category'])\n",
    "y = df['sentiment_category_encoded']\n",
    "\n",
    "# Division des données\n",
    "X_train, X_test, y_train, y_test = train_test_split(X, y, test_size=0.3, random_state=42)"
   ]
  },
  {
   "cell_type": "code",
   "execution_count": 30,
   "metadata": {},
   "outputs": [
    {
     "name": "stdout",
     "output_type": "stream",
     "text": [
      "Logistic Regression\n",
      "Cross-validation scores: [0.71449509 0.71503958 0.72324831 0.7176781  0.72017004]\n",
      "Mean cross-validation score: 0.7181262241251792\n",
      "Test score: 0.7249658002735978\n",
      "\n",
      "Random Forest\n",
      "Cross-validation scores: [0.85402316 0.85722662 0.87100557 0.86352976 0.8554676 ]\n",
      "Mean cross-validation score: 0.8602505416840526\n",
      "Test score: 0.8812585499316006\n",
      "\n",
      "SVC\n"
     ]
    },
    {
     "ename": "KeyboardInterrupt",
     "evalue": "",
     "output_type": "error",
     "traceback": [
      "\u001b[1;31m---------------------------------------------------------------------------\u001b[0m",
      "\u001b[1;31mKeyboardInterrupt\u001b[0m                         Traceback (most recent call last)",
      "Cell \u001b[1;32mIn[30], line 18\u001b[0m\n\u001b[0;32m     16\u001b[0m \u001b[38;5;28mprint\u001b[39m(clf_name)\n\u001b[0;32m     17\u001b[0m \u001b[38;5;66;03m# Perform cross-validation\u001b[39;00m\n\u001b[1;32m---> 18\u001b[0m cv_scores \u001b[38;5;241m=\u001b[39m \u001b[43mcross_val_score\u001b[49m\u001b[43m(\u001b[49m\u001b[43mclf\u001b[49m\u001b[43m,\u001b[49m\u001b[43m \u001b[49m\u001b[43mX_train\u001b[49m\u001b[43m,\u001b[49m\u001b[43m \u001b[49m\u001b[43my_train\u001b[49m\u001b[43m,\u001b[49m\u001b[43m \u001b[49m\u001b[43mcv\u001b[49m\u001b[38;5;241;43m=\u001b[39;49m\u001b[38;5;241;43m5\u001b[39;49m\u001b[43m,\u001b[49m\u001b[43m \u001b[49m\u001b[43mscoring\u001b[49m\u001b[38;5;241;43m=\u001b[39;49m\u001b[38;5;124;43m\"\u001b[39;49m\u001b[38;5;124;43maccuracy\u001b[39;49m\u001b[38;5;124;43m\"\u001b[39;49m\u001b[43m)\u001b[49m\n\u001b[0;32m     19\u001b[0m \u001b[38;5;28mprint\u001b[39m(\u001b[38;5;124mf\u001b[39m\u001b[38;5;124m\"\u001b[39m\u001b[38;5;124mCross-validation scores: \u001b[39m\u001b[38;5;132;01m{\u001b[39;00mcv_scores\u001b[38;5;132;01m}\u001b[39;00m\u001b[38;5;124m\"\u001b[39m)\n\u001b[0;32m     20\u001b[0m \u001b[38;5;28mprint\u001b[39m(\u001b[38;5;124mf\u001b[39m\u001b[38;5;124m\"\u001b[39m\u001b[38;5;124mMean cross-validation score: \u001b[39m\u001b[38;5;132;01m{\u001b[39;00mcv_scores\u001b[38;5;241m.\u001b[39mmean()\u001b[38;5;132;01m}\u001b[39;00m\u001b[38;5;124m\"\u001b[39m)\n",
      "File \u001b[1;32md:\\Work\\Sorbonne\\ML2\\Sentiment_analytics\\env\\Lib\\site-packages\\sklearn\\utils\\_param_validation.py:216\u001b[0m, in \u001b[0;36mvalidate_params.<locals>.decorator.<locals>.wrapper\u001b[1;34m(*args, **kwargs)\u001b[0m\n\u001b[0;32m    210\u001b[0m \u001b[38;5;28;01mtry\u001b[39;00m:\n\u001b[0;32m    211\u001b[0m     \u001b[38;5;28;01mwith\u001b[39;00m config_context(\n\u001b[0;32m    212\u001b[0m         skip_parameter_validation\u001b[38;5;241m=\u001b[39m(\n\u001b[0;32m    213\u001b[0m             prefer_skip_nested_validation \u001b[38;5;129;01mor\u001b[39;00m global_skip_validation\n\u001b[0;32m    214\u001b[0m         )\n\u001b[0;32m    215\u001b[0m     ):\n\u001b[1;32m--> 216\u001b[0m         \u001b[38;5;28;01mreturn\u001b[39;00m \u001b[43mfunc\u001b[49m\u001b[43m(\u001b[49m\u001b[38;5;241;43m*\u001b[39;49m\u001b[43margs\u001b[49m\u001b[43m,\u001b[49m\u001b[43m \u001b[49m\u001b[38;5;241;43m*\u001b[39;49m\u001b[38;5;241;43m*\u001b[39;49m\u001b[43mkwargs\u001b[49m\u001b[43m)\u001b[49m\n\u001b[0;32m    217\u001b[0m \u001b[38;5;28;01mexcept\u001b[39;00m InvalidParameterError \u001b[38;5;28;01mas\u001b[39;00m e:\n\u001b[0;32m    218\u001b[0m     \u001b[38;5;66;03m# When the function is just a wrapper around an estimator, we allow\u001b[39;00m\n\u001b[0;32m    219\u001b[0m     \u001b[38;5;66;03m# the function to delegate validation to the estimator, but we replace\u001b[39;00m\n\u001b[0;32m    220\u001b[0m     \u001b[38;5;66;03m# the name of the estimator by the name of the function in the error\u001b[39;00m\n\u001b[0;32m    221\u001b[0m     \u001b[38;5;66;03m# message to avoid confusion.\u001b[39;00m\n\u001b[0;32m    222\u001b[0m     msg \u001b[38;5;241m=\u001b[39m re\u001b[38;5;241m.\u001b[39msub(\n\u001b[0;32m    223\u001b[0m         \u001b[38;5;124mr\u001b[39m\u001b[38;5;124m\"\u001b[39m\u001b[38;5;124mparameter of \u001b[39m\u001b[38;5;124m\\\u001b[39m\u001b[38;5;124mw+ must be\u001b[39m\u001b[38;5;124m\"\u001b[39m,\n\u001b[0;32m    224\u001b[0m         \u001b[38;5;124mf\u001b[39m\u001b[38;5;124m\"\u001b[39m\u001b[38;5;124mparameter of \u001b[39m\u001b[38;5;132;01m{\u001b[39;00mfunc\u001b[38;5;241m.\u001b[39m\u001b[38;5;18m__qualname__\u001b[39m\u001b[38;5;132;01m}\u001b[39;00m\u001b[38;5;124m must be\u001b[39m\u001b[38;5;124m\"\u001b[39m,\n\u001b[0;32m    225\u001b[0m         \u001b[38;5;28mstr\u001b[39m(e),\n\u001b[0;32m    226\u001b[0m     )\n",
      "File \u001b[1;32md:\\Work\\Sorbonne\\ML2\\Sentiment_analytics\\env\\Lib\\site-packages\\sklearn\\model_selection\\_validation.py:684\u001b[0m, in \u001b[0;36mcross_val_score\u001b[1;34m(estimator, X, y, groups, scoring, cv, n_jobs, verbose, params, pre_dispatch, error_score)\u001b[0m\n\u001b[0;32m    681\u001b[0m \u001b[38;5;66;03m# To ensure multimetric format is not supported\u001b[39;00m\n\u001b[0;32m    682\u001b[0m scorer \u001b[38;5;241m=\u001b[39m check_scoring(estimator, scoring\u001b[38;5;241m=\u001b[39mscoring)\n\u001b[1;32m--> 684\u001b[0m cv_results \u001b[38;5;241m=\u001b[39m \u001b[43mcross_validate\u001b[49m\u001b[43m(\u001b[49m\n\u001b[0;32m    685\u001b[0m \u001b[43m    \u001b[49m\u001b[43mestimator\u001b[49m\u001b[38;5;241;43m=\u001b[39;49m\u001b[43mestimator\u001b[49m\u001b[43m,\u001b[49m\n\u001b[0;32m    686\u001b[0m \u001b[43m    \u001b[49m\u001b[43mX\u001b[49m\u001b[38;5;241;43m=\u001b[39;49m\u001b[43mX\u001b[49m\u001b[43m,\u001b[49m\n\u001b[0;32m    687\u001b[0m \u001b[43m    \u001b[49m\u001b[43my\u001b[49m\u001b[38;5;241;43m=\u001b[39;49m\u001b[43my\u001b[49m\u001b[43m,\u001b[49m\n\u001b[0;32m    688\u001b[0m \u001b[43m    \u001b[49m\u001b[43mgroups\u001b[49m\u001b[38;5;241;43m=\u001b[39;49m\u001b[43mgroups\u001b[49m\u001b[43m,\u001b[49m\n\u001b[0;32m    689\u001b[0m \u001b[43m    \u001b[49m\u001b[43mscoring\u001b[49m\u001b[38;5;241;43m=\u001b[39;49m\u001b[43m{\u001b[49m\u001b[38;5;124;43m\"\u001b[39;49m\u001b[38;5;124;43mscore\u001b[39;49m\u001b[38;5;124;43m\"\u001b[39;49m\u001b[43m:\u001b[49m\u001b[43m \u001b[49m\u001b[43mscorer\u001b[49m\u001b[43m}\u001b[49m\u001b[43m,\u001b[49m\n\u001b[0;32m    690\u001b[0m \u001b[43m    \u001b[49m\u001b[43mcv\u001b[49m\u001b[38;5;241;43m=\u001b[39;49m\u001b[43mcv\u001b[49m\u001b[43m,\u001b[49m\n\u001b[0;32m    691\u001b[0m \u001b[43m    \u001b[49m\u001b[43mn_jobs\u001b[49m\u001b[38;5;241;43m=\u001b[39;49m\u001b[43mn_jobs\u001b[49m\u001b[43m,\u001b[49m\n\u001b[0;32m    692\u001b[0m \u001b[43m    \u001b[49m\u001b[43mverbose\u001b[49m\u001b[38;5;241;43m=\u001b[39;49m\u001b[43mverbose\u001b[49m\u001b[43m,\u001b[49m\n\u001b[0;32m    693\u001b[0m \u001b[43m    \u001b[49m\u001b[43mparams\u001b[49m\u001b[38;5;241;43m=\u001b[39;49m\u001b[43mparams\u001b[49m\u001b[43m,\u001b[49m\n\u001b[0;32m    694\u001b[0m \u001b[43m    \u001b[49m\u001b[43mpre_dispatch\u001b[49m\u001b[38;5;241;43m=\u001b[39;49m\u001b[43mpre_dispatch\u001b[49m\u001b[43m,\u001b[49m\n\u001b[0;32m    695\u001b[0m \u001b[43m    \u001b[49m\u001b[43merror_score\u001b[49m\u001b[38;5;241;43m=\u001b[39;49m\u001b[43merror_score\u001b[49m\u001b[43m,\u001b[49m\n\u001b[0;32m    696\u001b[0m \u001b[43m\u001b[49m\u001b[43m)\u001b[49m\n\u001b[0;32m    697\u001b[0m \u001b[38;5;28;01mreturn\u001b[39;00m cv_results[\u001b[38;5;124m\"\u001b[39m\u001b[38;5;124mtest_score\u001b[39m\u001b[38;5;124m\"\u001b[39m]\n",
      "File \u001b[1;32md:\\Work\\Sorbonne\\ML2\\Sentiment_analytics\\env\\Lib\\site-packages\\sklearn\\utils\\_param_validation.py:216\u001b[0m, in \u001b[0;36mvalidate_params.<locals>.decorator.<locals>.wrapper\u001b[1;34m(*args, **kwargs)\u001b[0m\n\u001b[0;32m    210\u001b[0m \u001b[38;5;28;01mtry\u001b[39;00m:\n\u001b[0;32m    211\u001b[0m     \u001b[38;5;28;01mwith\u001b[39;00m config_context(\n\u001b[0;32m    212\u001b[0m         skip_parameter_validation\u001b[38;5;241m=\u001b[39m(\n\u001b[0;32m    213\u001b[0m             prefer_skip_nested_validation \u001b[38;5;129;01mor\u001b[39;00m global_skip_validation\n\u001b[0;32m    214\u001b[0m         )\n\u001b[0;32m    215\u001b[0m     ):\n\u001b[1;32m--> 216\u001b[0m         \u001b[38;5;28;01mreturn\u001b[39;00m \u001b[43mfunc\u001b[49m\u001b[43m(\u001b[49m\u001b[38;5;241;43m*\u001b[39;49m\u001b[43margs\u001b[49m\u001b[43m,\u001b[49m\u001b[43m \u001b[49m\u001b[38;5;241;43m*\u001b[39;49m\u001b[38;5;241;43m*\u001b[39;49m\u001b[43mkwargs\u001b[49m\u001b[43m)\u001b[49m\n\u001b[0;32m    217\u001b[0m \u001b[38;5;28;01mexcept\u001b[39;00m InvalidParameterError \u001b[38;5;28;01mas\u001b[39;00m e:\n\u001b[0;32m    218\u001b[0m     \u001b[38;5;66;03m# When the function is just a wrapper around an estimator, we allow\u001b[39;00m\n\u001b[0;32m    219\u001b[0m     \u001b[38;5;66;03m# the function to delegate validation to the estimator, but we replace\u001b[39;00m\n\u001b[0;32m    220\u001b[0m     \u001b[38;5;66;03m# the name of the estimator by the name of the function in the error\u001b[39;00m\n\u001b[0;32m    221\u001b[0m     \u001b[38;5;66;03m# message to avoid confusion.\u001b[39;00m\n\u001b[0;32m    222\u001b[0m     msg \u001b[38;5;241m=\u001b[39m re\u001b[38;5;241m.\u001b[39msub(\n\u001b[0;32m    223\u001b[0m         \u001b[38;5;124mr\u001b[39m\u001b[38;5;124m\"\u001b[39m\u001b[38;5;124mparameter of \u001b[39m\u001b[38;5;124m\\\u001b[39m\u001b[38;5;124mw+ must be\u001b[39m\u001b[38;5;124m\"\u001b[39m,\n\u001b[0;32m    224\u001b[0m         \u001b[38;5;124mf\u001b[39m\u001b[38;5;124m\"\u001b[39m\u001b[38;5;124mparameter of \u001b[39m\u001b[38;5;132;01m{\u001b[39;00mfunc\u001b[38;5;241m.\u001b[39m\u001b[38;5;18m__qualname__\u001b[39m\u001b[38;5;132;01m}\u001b[39;00m\u001b[38;5;124m must be\u001b[39m\u001b[38;5;124m\"\u001b[39m,\n\u001b[0;32m    225\u001b[0m         \u001b[38;5;28mstr\u001b[39m(e),\n\u001b[0;32m    226\u001b[0m     )\n",
      "File \u001b[1;32md:\\Work\\Sorbonne\\ML2\\Sentiment_analytics\\env\\Lib\\site-packages\\sklearn\\model_selection\\_validation.py:411\u001b[0m, in \u001b[0;36mcross_validate\u001b[1;34m(estimator, X, y, groups, scoring, cv, n_jobs, verbose, params, pre_dispatch, return_train_score, return_estimator, return_indices, error_score)\u001b[0m\n\u001b[0;32m    408\u001b[0m \u001b[38;5;66;03m# We clone the estimator to make sure that all the folds are\u001b[39;00m\n\u001b[0;32m    409\u001b[0m \u001b[38;5;66;03m# independent, and that it is pickle-able.\u001b[39;00m\n\u001b[0;32m    410\u001b[0m parallel \u001b[38;5;241m=\u001b[39m Parallel(n_jobs\u001b[38;5;241m=\u001b[39mn_jobs, verbose\u001b[38;5;241m=\u001b[39mverbose, pre_dispatch\u001b[38;5;241m=\u001b[39mpre_dispatch)\n\u001b[1;32m--> 411\u001b[0m results \u001b[38;5;241m=\u001b[39m \u001b[43mparallel\u001b[49m\u001b[43m(\u001b[49m\n\u001b[0;32m    412\u001b[0m \u001b[43m    \u001b[49m\u001b[43mdelayed\u001b[49m\u001b[43m(\u001b[49m\u001b[43m_fit_and_score\u001b[49m\u001b[43m)\u001b[49m\u001b[43m(\u001b[49m\n\u001b[0;32m    413\u001b[0m \u001b[43m        \u001b[49m\u001b[43mclone\u001b[49m\u001b[43m(\u001b[49m\u001b[43mestimator\u001b[49m\u001b[43m)\u001b[49m\u001b[43m,\u001b[49m\n\u001b[0;32m    414\u001b[0m \u001b[43m        \u001b[49m\u001b[43mX\u001b[49m\u001b[43m,\u001b[49m\n\u001b[0;32m    415\u001b[0m \u001b[43m        \u001b[49m\u001b[43my\u001b[49m\u001b[43m,\u001b[49m\n\u001b[0;32m    416\u001b[0m \u001b[43m        \u001b[49m\u001b[43mscorer\u001b[49m\u001b[38;5;241;43m=\u001b[39;49m\u001b[43mscorers\u001b[49m\u001b[43m,\u001b[49m\n\u001b[0;32m    417\u001b[0m \u001b[43m        \u001b[49m\u001b[43mtrain\u001b[49m\u001b[38;5;241;43m=\u001b[39;49m\u001b[43mtrain\u001b[49m\u001b[43m,\u001b[49m\n\u001b[0;32m    418\u001b[0m \u001b[43m        \u001b[49m\u001b[43mtest\u001b[49m\u001b[38;5;241;43m=\u001b[39;49m\u001b[43mtest\u001b[49m\u001b[43m,\u001b[49m\n\u001b[0;32m    419\u001b[0m \u001b[43m        \u001b[49m\u001b[43mverbose\u001b[49m\u001b[38;5;241;43m=\u001b[39;49m\u001b[43mverbose\u001b[49m\u001b[43m,\u001b[49m\n\u001b[0;32m    420\u001b[0m \u001b[43m        \u001b[49m\u001b[43mparameters\u001b[49m\u001b[38;5;241;43m=\u001b[39;49m\u001b[38;5;28;43;01mNone\u001b[39;49;00m\u001b[43m,\u001b[49m\n\u001b[0;32m    421\u001b[0m \u001b[43m        \u001b[49m\u001b[43mfit_params\u001b[49m\u001b[38;5;241;43m=\u001b[39;49m\u001b[43mrouted_params\u001b[49m\u001b[38;5;241;43m.\u001b[39;49m\u001b[43mestimator\u001b[49m\u001b[38;5;241;43m.\u001b[39;49m\u001b[43mfit\u001b[49m\u001b[43m,\u001b[49m\n\u001b[0;32m    422\u001b[0m \u001b[43m        \u001b[49m\u001b[43mscore_params\u001b[49m\u001b[38;5;241;43m=\u001b[39;49m\u001b[43mrouted_params\u001b[49m\u001b[38;5;241;43m.\u001b[39;49m\u001b[43mscorer\u001b[49m\u001b[38;5;241;43m.\u001b[39;49m\u001b[43mscore\u001b[49m\u001b[43m,\u001b[49m\n\u001b[0;32m    423\u001b[0m \u001b[43m        \u001b[49m\u001b[43mreturn_train_score\u001b[49m\u001b[38;5;241;43m=\u001b[39;49m\u001b[43mreturn_train_score\u001b[49m\u001b[43m,\u001b[49m\n\u001b[0;32m    424\u001b[0m \u001b[43m        \u001b[49m\u001b[43mreturn_times\u001b[49m\u001b[38;5;241;43m=\u001b[39;49m\u001b[38;5;28;43;01mTrue\u001b[39;49;00m\u001b[43m,\u001b[49m\n\u001b[0;32m    425\u001b[0m \u001b[43m        \u001b[49m\u001b[43mreturn_estimator\u001b[49m\u001b[38;5;241;43m=\u001b[39;49m\u001b[43mreturn_estimator\u001b[49m\u001b[43m,\u001b[49m\n\u001b[0;32m    426\u001b[0m \u001b[43m        \u001b[49m\u001b[43merror_score\u001b[49m\u001b[38;5;241;43m=\u001b[39;49m\u001b[43merror_score\u001b[49m\u001b[43m,\u001b[49m\n\u001b[0;32m    427\u001b[0m \u001b[43m    \u001b[49m\u001b[43m)\u001b[49m\n\u001b[0;32m    428\u001b[0m \u001b[43m    \u001b[49m\u001b[38;5;28;43;01mfor\u001b[39;49;00m\u001b[43m \u001b[49m\u001b[43mtrain\u001b[49m\u001b[43m,\u001b[49m\u001b[43m \u001b[49m\u001b[43mtest\u001b[49m\u001b[43m \u001b[49m\u001b[38;5;129;43;01min\u001b[39;49;00m\u001b[43m \u001b[49m\u001b[43mindices\u001b[49m\n\u001b[0;32m    429\u001b[0m \u001b[43m\u001b[49m\u001b[43m)\u001b[49m\n\u001b[0;32m    431\u001b[0m _warn_or_raise_about_fit_failures(results, error_score)\n\u001b[0;32m    433\u001b[0m \u001b[38;5;66;03m# For callable scoring, the return type is only know after calling. If the\u001b[39;00m\n\u001b[0;32m    434\u001b[0m \u001b[38;5;66;03m# return type is a dictionary, the error scores can now be inserted with\u001b[39;00m\n\u001b[0;32m    435\u001b[0m \u001b[38;5;66;03m# the correct key.\u001b[39;00m\n",
      "File \u001b[1;32md:\\Work\\Sorbonne\\ML2\\Sentiment_analytics\\env\\Lib\\site-packages\\sklearn\\utils\\parallel.py:77\u001b[0m, in \u001b[0;36mParallel.__call__\u001b[1;34m(self, iterable)\u001b[0m\n\u001b[0;32m     72\u001b[0m config \u001b[38;5;241m=\u001b[39m get_config()\n\u001b[0;32m     73\u001b[0m iterable_with_config \u001b[38;5;241m=\u001b[39m (\n\u001b[0;32m     74\u001b[0m     (_with_config(delayed_func, config), args, kwargs)\n\u001b[0;32m     75\u001b[0m     \u001b[38;5;28;01mfor\u001b[39;00m delayed_func, args, kwargs \u001b[38;5;129;01min\u001b[39;00m iterable\n\u001b[0;32m     76\u001b[0m )\n\u001b[1;32m---> 77\u001b[0m \u001b[38;5;28;01mreturn\u001b[39;00m \u001b[38;5;28;43msuper\u001b[39;49m\u001b[43m(\u001b[49m\u001b[43m)\u001b[49m\u001b[38;5;241;43m.\u001b[39;49m\u001b[38;5;21;43m__call__\u001b[39;49m\u001b[43m(\u001b[49m\u001b[43miterable_with_config\u001b[49m\u001b[43m)\u001b[49m\n",
      "File \u001b[1;32md:\\Work\\Sorbonne\\ML2\\Sentiment_analytics\\env\\Lib\\site-packages\\joblib\\parallel.py:1918\u001b[0m, in \u001b[0;36mParallel.__call__\u001b[1;34m(self, iterable)\u001b[0m\n\u001b[0;32m   1916\u001b[0m     output \u001b[38;5;241m=\u001b[39m \u001b[38;5;28mself\u001b[39m\u001b[38;5;241m.\u001b[39m_get_sequential_output(iterable)\n\u001b[0;32m   1917\u001b[0m     \u001b[38;5;28mnext\u001b[39m(output)\n\u001b[1;32m-> 1918\u001b[0m     \u001b[38;5;28;01mreturn\u001b[39;00m output \u001b[38;5;28;01mif\u001b[39;00m \u001b[38;5;28mself\u001b[39m\u001b[38;5;241m.\u001b[39mreturn_generator \u001b[38;5;28;01melse\u001b[39;00m \u001b[38;5;28mlist\u001b[39m(output)\n\u001b[0;32m   1920\u001b[0m \u001b[38;5;66;03m# Let's create an ID that uniquely identifies the current call. If the\u001b[39;00m\n\u001b[0;32m   1921\u001b[0m \u001b[38;5;66;03m# call is interrupted early and that the same instance is immediately\u001b[39;00m\n\u001b[0;32m   1922\u001b[0m \u001b[38;5;66;03m# re-used, this id will be used to prevent workers that were\u001b[39;00m\n\u001b[0;32m   1923\u001b[0m \u001b[38;5;66;03m# concurrently finalizing a task from the previous call to run the\u001b[39;00m\n\u001b[0;32m   1924\u001b[0m \u001b[38;5;66;03m# callback.\u001b[39;00m\n\u001b[0;32m   1925\u001b[0m \u001b[38;5;28;01mwith\u001b[39;00m \u001b[38;5;28mself\u001b[39m\u001b[38;5;241m.\u001b[39m_lock:\n",
      "File \u001b[1;32md:\\Work\\Sorbonne\\ML2\\Sentiment_analytics\\env\\Lib\\site-packages\\joblib\\parallel.py:1847\u001b[0m, in \u001b[0;36mParallel._get_sequential_output\u001b[1;34m(self, iterable)\u001b[0m\n\u001b[0;32m   1845\u001b[0m \u001b[38;5;28mself\u001b[39m\u001b[38;5;241m.\u001b[39mn_dispatched_batches \u001b[38;5;241m+\u001b[39m\u001b[38;5;241m=\u001b[39m \u001b[38;5;241m1\u001b[39m\n\u001b[0;32m   1846\u001b[0m \u001b[38;5;28mself\u001b[39m\u001b[38;5;241m.\u001b[39mn_dispatched_tasks \u001b[38;5;241m+\u001b[39m\u001b[38;5;241m=\u001b[39m \u001b[38;5;241m1\u001b[39m\n\u001b[1;32m-> 1847\u001b[0m res \u001b[38;5;241m=\u001b[39m \u001b[43mfunc\u001b[49m\u001b[43m(\u001b[49m\u001b[38;5;241;43m*\u001b[39;49m\u001b[43margs\u001b[49m\u001b[43m,\u001b[49m\u001b[43m \u001b[49m\u001b[38;5;241;43m*\u001b[39;49m\u001b[38;5;241;43m*\u001b[39;49m\u001b[43mkwargs\u001b[49m\u001b[43m)\u001b[49m\n\u001b[0;32m   1848\u001b[0m \u001b[38;5;28mself\u001b[39m\u001b[38;5;241m.\u001b[39mn_completed_tasks \u001b[38;5;241m+\u001b[39m\u001b[38;5;241m=\u001b[39m \u001b[38;5;241m1\u001b[39m\n\u001b[0;32m   1849\u001b[0m \u001b[38;5;28mself\u001b[39m\u001b[38;5;241m.\u001b[39mprint_progress()\n",
      "File \u001b[1;32md:\\Work\\Sorbonne\\ML2\\Sentiment_analytics\\env\\Lib\\site-packages\\sklearn\\utils\\parallel.py:139\u001b[0m, in \u001b[0;36m_FuncWrapper.__call__\u001b[1;34m(self, *args, **kwargs)\u001b[0m\n\u001b[0;32m    137\u001b[0m     config \u001b[38;5;241m=\u001b[39m {}\n\u001b[0;32m    138\u001b[0m \u001b[38;5;28;01mwith\u001b[39;00m config_context(\u001b[38;5;241m*\u001b[39m\u001b[38;5;241m*\u001b[39mconfig):\n\u001b[1;32m--> 139\u001b[0m     \u001b[38;5;28;01mreturn\u001b[39;00m \u001b[38;5;28;43mself\u001b[39;49m\u001b[38;5;241;43m.\u001b[39;49m\u001b[43mfunction\u001b[49m\u001b[43m(\u001b[49m\u001b[38;5;241;43m*\u001b[39;49m\u001b[43margs\u001b[49m\u001b[43m,\u001b[49m\u001b[43m \u001b[49m\u001b[38;5;241;43m*\u001b[39;49m\u001b[38;5;241;43m*\u001b[39;49m\u001b[43mkwargs\u001b[49m\u001b[43m)\u001b[49m\n",
      "File \u001b[1;32md:\\Work\\Sorbonne\\ML2\\Sentiment_analytics\\env\\Lib\\site-packages\\sklearn\\model_selection\\_validation.py:866\u001b[0m, in \u001b[0;36m_fit_and_score\u001b[1;34m(estimator, X, y, scorer, train, test, verbose, parameters, fit_params, score_params, return_train_score, return_parameters, return_n_test_samples, return_times, return_estimator, split_progress, candidate_progress, error_score)\u001b[0m\n\u001b[0;32m    864\u001b[0m         estimator\u001b[38;5;241m.\u001b[39mfit(X_train, \u001b[38;5;241m*\u001b[39m\u001b[38;5;241m*\u001b[39mfit_params)\n\u001b[0;32m    865\u001b[0m     \u001b[38;5;28;01melse\u001b[39;00m:\n\u001b[1;32m--> 866\u001b[0m         \u001b[43mestimator\u001b[49m\u001b[38;5;241;43m.\u001b[39;49m\u001b[43mfit\u001b[49m\u001b[43m(\u001b[49m\u001b[43mX_train\u001b[49m\u001b[43m,\u001b[49m\u001b[43m \u001b[49m\u001b[43my_train\u001b[49m\u001b[43m,\u001b[49m\u001b[43m \u001b[49m\u001b[38;5;241;43m*\u001b[39;49m\u001b[38;5;241;43m*\u001b[39;49m\u001b[43mfit_params\u001b[49m\u001b[43m)\u001b[49m\n\u001b[0;32m    868\u001b[0m \u001b[38;5;28;01mexcept\u001b[39;00m \u001b[38;5;167;01mException\u001b[39;00m:\n\u001b[0;32m    869\u001b[0m     \u001b[38;5;66;03m# Note fit time as time until error\u001b[39;00m\n\u001b[0;32m    870\u001b[0m     fit_time \u001b[38;5;241m=\u001b[39m time\u001b[38;5;241m.\u001b[39mtime() \u001b[38;5;241m-\u001b[39m start_time\n",
      "File \u001b[1;32md:\\Work\\Sorbonne\\ML2\\Sentiment_analytics\\env\\Lib\\site-packages\\sklearn\\base.py:1389\u001b[0m, in \u001b[0;36m_fit_context.<locals>.decorator.<locals>.wrapper\u001b[1;34m(estimator, *args, **kwargs)\u001b[0m\n\u001b[0;32m   1382\u001b[0m     estimator\u001b[38;5;241m.\u001b[39m_validate_params()\n\u001b[0;32m   1384\u001b[0m \u001b[38;5;28;01mwith\u001b[39;00m config_context(\n\u001b[0;32m   1385\u001b[0m     skip_parameter_validation\u001b[38;5;241m=\u001b[39m(\n\u001b[0;32m   1386\u001b[0m         prefer_skip_nested_validation \u001b[38;5;129;01mor\u001b[39;00m global_skip_validation\n\u001b[0;32m   1387\u001b[0m     )\n\u001b[0;32m   1388\u001b[0m ):\n\u001b[1;32m-> 1389\u001b[0m     \u001b[38;5;28;01mreturn\u001b[39;00m \u001b[43mfit_method\u001b[49m\u001b[43m(\u001b[49m\u001b[43mestimator\u001b[49m\u001b[43m,\u001b[49m\u001b[43m \u001b[49m\u001b[38;5;241;43m*\u001b[39;49m\u001b[43margs\u001b[49m\u001b[43m,\u001b[49m\u001b[43m \u001b[49m\u001b[38;5;241;43m*\u001b[39;49m\u001b[38;5;241;43m*\u001b[39;49m\u001b[43mkwargs\u001b[49m\u001b[43m)\u001b[49m\n",
      "File \u001b[1;32md:\\Work\\Sorbonne\\ML2\\Sentiment_analytics\\env\\Lib\\site-packages\\sklearn\\svm\\_base.py:257\u001b[0m, in \u001b[0;36mBaseLibSVM.fit\u001b[1;34m(self, X, y, sample_weight)\u001b[0m\n\u001b[0;32m    254\u001b[0m     \u001b[38;5;28mprint\u001b[39m(\u001b[38;5;124m\"\u001b[39m\u001b[38;5;124m[LibSVM]\u001b[39m\u001b[38;5;124m\"\u001b[39m, end\u001b[38;5;241m=\u001b[39m\u001b[38;5;124m\"\u001b[39m\u001b[38;5;124m\"\u001b[39m)\n\u001b[0;32m    256\u001b[0m seed \u001b[38;5;241m=\u001b[39m rnd\u001b[38;5;241m.\u001b[39mrandint(np\u001b[38;5;241m.\u001b[39miinfo(\u001b[38;5;124m\"\u001b[39m\u001b[38;5;124mi\u001b[39m\u001b[38;5;124m\"\u001b[39m)\u001b[38;5;241m.\u001b[39mmax)\n\u001b[1;32m--> 257\u001b[0m \u001b[43mfit\u001b[49m\u001b[43m(\u001b[49m\u001b[43mX\u001b[49m\u001b[43m,\u001b[49m\u001b[43m \u001b[49m\u001b[43my\u001b[49m\u001b[43m,\u001b[49m\u001b[43m \u001b[49m\u001b[43msample_weight\u001b[49m\u001b[43m,\u001b[49m\u001b[43m \u001b[49m\u001b[43msolver_type\u001b[49m\u001b[43m,\u001b[49m\u001b[43m \u001b[49m\u001b[43mkernel\u001b[49m\u001b[43m,\u001b[49m\u001b[43m \u001b[49m\u001b[43mrandom_seed\u001b[49m\u001b[38;5;241;43m=\u001b[39;49m\u001b[43mseed\u001b[49m\u001b[43m)\u001b[49m\n\u001b[0;32m    258\u001b[0m \u001b[38;5;66;03m# see comment on the other call to np.iinfo in this file\u001b[39;00m\n\u001b[0;32m    260\u001b[0m \u001b[38;5;28mself\u001b[39m\u001b[38;5;241m.\u001b[39mshape_fit_ \u001b[38;5;241m=\u001b[39m X\u001b[38;5;241m.\u001b[39mshape \u001b[38;5;28;01mif\u001b[39;00m \u001b[38;5;28mhasattr\u001b[39m(X, \u001b[38;5;124m\"\u001b[39m\u001b[38;5;124mshape\u001b[39m\u001b[38;5;124m\"\u001b[39m) \u001b[38;5;28;01melse\u001b[39;00m (n_samples,)\n",
      "File \u001b[1;32md:\\Work\\Sorbonne\\ML2\\Sentiment_analytics\\env\\Lib\\site-packages\\sklearn\\svm\\_base.py:376\u001b[0m, in \u001b[0;36mBaseLibSVM._sparse_fit\u001b[1;34m(self, X, y, sample_weight, solver_type, kernel, random_seed)\u001b[0m\n\u001b[0;32m    362\u001b[0m kernel_type \u001b[38;5;241m=\u001b[39m \u001b[38;5;28mself\u001b[39m\u001b[38;5;241m.\u001b[39m_sparse_kernels\u001b[38;5;241m.\u001b[39mindex(kernel)\n\u001b[0;32m    364\u001b[0m libsvm_sparse\u001b[38;5;241m.\u001b[39mset_verbosity_wrap(\u001b[38;5;28mself\u001b[39m\u001b[38;5;241m.\u001b[39mverbose)\n\u001b[0;32m    366\u001b[0m (\n\u001b[0;32m    367\u001b[0m     \u001b[38;5;28mself\u001b[39m\u001b[38;5;241m.\u001b[39msupport_,\n\u001b[0;32m    368\u001b[0m     \u001b[38;5;28mself\u001b[39m\u001b[38;5;241m.\u001b[39msupport_vectors_,\n\u001b[0;32m    369\u001b[0m     dual_coef_data,\n\u001b[0;32m    370\u001b[0m     \u001b[38;5;28mself\u001b[39m\u001b[38;5;241m.\u001b[39mintercept_,\n\u001b[0;32m    371\u001b[0m     \u001b[38;5;28mself\u001b[39m\u001b[38;5;241m.\u001b[39m_n_support,\n\u001b[0;32m    372\u001b[0m     \u001b[38;5;28mself\u001b[39m\u001b[38;5;241m.\u001b[39m_probA,\n\u001b[0;32m    373\u001b[0m     \u001b[38;5;28mself\u001b[39m\u001b[38;5;241m.\u001b[39m_probB,\n\u001b[0;32m    374\u001b[0m     \u001b[38;5;28mself\u001b[39m\u001b[38;5;241m.\u001b[39mfit_status_,\n\u001b[0;32m    375\u001b[0m     \u001b[38;5;28mself\u001b[39m\u001b[38;5;241m.\u001b[39m_num_iter,\n\u001b[1;32m--> 376\u001b[0m ) \u001b[38;5;241m=\u001b[39m \u001b[43mlibsvm_sparse\u001b[49m\u001b[38;5;241;43m.\u001b[39;49m\u001b[43mlibsvm_sparse_train\u001b[49m\u001b[43m(\u001b[49m\n\u001b[0;32m    377\u001b[0m \u001b[43m    \u001b[49m\u001b[43mX\u001b[49m\u001b[38;5;241;43m.\u001b[39;49m\u001b[43mshape\u001b[49m\u001b[43m[\u001b[49m\u001b[38;5;241;43m1\u001b[39;49m\u001b[43m]\u001b[49m\u001b[43m,\u001b[49m\n\u001b[0;32m    378\u001b[0m \u001b[43m    \u001b[49m\u001b[43mX\u001b[49m\u001b[38;5;241;43m.\u001b[39;49m\u001b[43mdata\u001b[49m\u001b[43m,\u001b[49m\n\u001b[0;32m    379\u001b[0m \u001b[43m    \u001b[49m\u001b[43mX\u001b[49m\u001b[38;5;241;43m.\u001b[39;49m\u001b[43mindices\u001b[49m\u001b[43m,\u001b[49m\n\u001b[0;32m    380\u001b[0m \u001b[43m    \u001b[49m\u001b[43mX\u001b[49m\u001b[38;5;241;43m.\u001b[39;49m\u001b[43mindptr\u001b[49m\u001b[43m,\u001b[49m\n\u001b[0;32m    381\u001b[0m \u001b[43m    \u001b[49m\u001b[43my\u001b[49m\u001b[43m,\u001b[49m\n\u001b[0;32m    382\u001b[0m \u001b[43m    \u001b[49m\u001b[43msolver_type\u001b[49m\u001b[43m,\u001b[49m\n\u001b[0;32m    383\u001b[0m \u001b[43m    \u001b[49m\u001b[43mkernel_type\u001b[49m\u001b[43m,\u001b[49m\n\u001b[0;32m    384\u001b[0m \u001b[43m    \u001b[49m\u001b[38;5;28;43mself\u001b[39;49m\u001b[38;5;241;43m.\u001b[39;49m\u001b[43mdegree\u001b[49m\u001b[43m,\u001b[49m\n\u001b[0;32m    385\u001b[0m \u001b[43m    \u001b[49m\u001b[38;5;28;43mself\u001b[39;49m\u001b[38;5;241;43m.\u001b[39;49m\u001b[43m_gamma\u001b[49m\u001b[43m,\u001b[49m\n\u001b[0;32m    386\u001b[0m \u001b[43m    \u001b[49m\u001b[38;5;28;43mself\u001b[39;49m\u001b[38;5;241;43m.\u001b[39;49m\u001b[43mcoef0\u001b[49m\u001b[43m,\u001b[49m\n\u001b[0;32m    387\u001b[0m \u001b[43m    \u001b[49m\u001b[38;5;28;43mself\u001b[39;49m\u001b[38;5;241;43m.\u001b[39;49m\u001b[43mtol\u001b[49m\u001b[43m,\u001b[49m\n\u001b[0;32m    388\u001b[0m \u001b[43m    \u001b[49m\u001b[38;5;28;43mself\u001b[39;49m\u001b[38;5;241;43m.\u001b[39;49m\u001b[43mC\u001b[49m\u001b[43m,\u001b[49m\n\u001b[0;32m    389\u001b[0m \u001b[43m    \u001b[49m\u001b[38;5;28;43mgetattr\u001b[39;49m\u001b[43m(\u001b[49m\u001b[38;5;28;43mself\u001b[39;49m\u001b[43m,\u001b[49m\u001b[43m \u001b[49m\u001b[38;5;124;43m\"\u001b[39;49m\u001b[38;5;124;43mclass_weight_\u001b[39;49m\u001b[38;5;124;43m\"\u001b[39;49m\u001b[43m,\u001b[49m\u001b[43m \u001b[49m\u001b[43mnp\u001b[49m\u001b[38;5;241;43m.\u001b[39;49m\u001b[43mempty\u001b[49m\u001b[43m(\u001b[49m\u001b[38;5;241;43m0\u001b[39;49m\u001b[43m)\u001b[49m\u001b[43m)\u001b[49m\u001b[43m,\u001b[49m\n\u001b[0;32m    390\u001b[0m \u001b[43m    \u001b[49m\u001b[43msample_weight\u001b[49m\u001b[43m,\u001b[49m\n\u001b[0;32m    391\u001b[0m \u001b[43m    \u001b[49m\u001b[38;5;28;43mself\u001b[39;49m\u001b[38;5;241;43m.\u001b[39;49m\u001b[43mnu\u001b[49m\u001b[43m,\u001b[49m\n\u001b[0;32m    392\u001b[0m \u001b[43m    \u001b[49m\u001b[38;5;28;43mself\u001b[39;49m\u001b[38;5;241;43m.\u001b[39;49m\u001b[43mcache_size\u001b[49m\u001b[43m,\u001b[49m\n\u001b[0;32m    393\u001b[0m \u001b[43m    \u001b[49m\u001b[38;5;28;43mself\u001b[39;49m\u001b[38;5;241;43m.\u001b[39;49m\u001b[43mepsilon\u001b[49m\u001b[43m,\u001b[49m\n\u001b[0;32m    394\u001b[0m \u001b[43m    \u001b[49m\u001b[38;5;28;43mint\u001b[39;49m\u001b[43m(\u001b[49m\u001b[38;5;28;43mself\u001b[39;49m\u001b[38;5;241;43m.\u001b[39;49m\u001b[43mshrinking\u001b[49m\u001b[43m)\u001b[49m\u001b[43m,\u001b[49m\n\u001b[0;32m    395\u001b[0m \u001b[43m    \u001b[49m\u001b[38;5;28;43mint\u001b[39;49m\u001b[43m(\u001b[49m\u001b[38;5;28;43mself\u001b[39;49m\u001b[38;5;241;43m.\u001b[39;49m\u001b[43mprobability\u001b[49m\u001b[43m)\u001b[49m\u001b[43m,\u001b[49m\n\u001b[0;32m    396\u001b[0m \u001b[43m    \u001b[49m\u001b[38;5;28;43mself\u001b[39;49m\u001b[38;5;241;43m.\u001b[39;49m\u001b[43mmax_iter\u001b[49m\u001b[43m,\u001b[49m\n\u001b[0;32m    397\u001b[0m \u001b[43m    \u001b[49m\u001b[43mrandom_seed\u001b[49m\u001b[43m,\u001b[49m\n\u001b[0;32m    398\u001b[0m \u001b[43m\u001b[49m\u001b[43m)\u001b[49m\n\u001b[0;32m    400\u001b[0m \u001b[38;5;28mself\u001b[39m\u001b[38;5;241m.\u001b[39m_warn_from_fit_status()\n\u001b[0;32m    402\u001b[0m \u001b[38;5;28;01mif\u001b[39;00m \u001b[38;5;28mhasattr\u001b[39m(\u001b[38;5;28mself\u001b[39m, \u001b[38;5;124m\"\u001b[39m\u001b[38;5;124mclasses_\u001b[39m\u001b[38;5;124m\"\u001b[39m):\n",
      "File \u001b[1;32m_libsvm_sparse.pyx:218\u001b[0m, in \u001b[0;36msklearn.svm._libsvm_sparse.libsvm_sparse_train\u001b[1;34m()\u001b[0m\n",
      "File \u001b[1;32md:\\Work\\Sorbonne\\ML2\\Sentiment_analytics\\env\\Lib\\site-packages\\scipy\\sparse\\_compressed.py:27\u001b[0m, in \u001b[0;36m_cs_matrix.__init__\u001b[1;34m(self, arg1, shape, dtype, copy)\u001b[0m\n\u001b[0;32m     22\u001b[0m \u001b[38;5;28;01mclass\u001b[39;00m \u001b[38;5;21;01m_cs_matrix\u001b[39;00m(_data_matrix, _minmax_mixin, IndexMixin):\n\u001b[0;32m     23\u001b[0m \u001b[38;5;250m    \u001b[39m\u001b[38;5;124;03m\"\"\"\u001b[39;00m\n\u001b[0;32m     24\u001b[0m \u001b[38;5;124;03m    base array/matrix class for compressed row- and column-oriented arrays/matrices\u001b[39;00m\n\u001b[0;32m     25\u001b[0m \u001b[38;5;124;03m    \"\"\"\u001b[39;00m\n\u001b[1;32m---> 27\u001b[0m     \u001b[38;5;28;01mdef\u001b[39;00m \u001b[38;5;21m__init__\u001b[39m(\u001b[38;5;28mself\u001b[39m, arg1, shape\u001b[38;5;241m=\u001b[39m\u001b[38;5;28;01mNone\u001b[39;00m, dtype\u001b[38;5;241m=\u001b[39m\u001b[38;5;28;01mNone\u001b[39;00m, copy\u001b[38;5;241m=\u001b[39m\u001b[38;5;28;01mFalse\u001b[39;00m):\n\u001b[0;32m     28\u001b[0m         _data_matrix\u001b[38;5;241m.\u001b[39m\u001b[38;5;21m__init__\u001b[39m(\u001b[38;5;28mself\u001b[39m, arg1)\n\u001b[0;32m     29\u001b[0m         is_array \u001b[38;5;241m=\u001b[39m \u001b[38;5;28misinstance\u001b[39m(\u001b[38;5;28mself\u001b[39m, sparray)\n",
      "\u001b[1;31mKeyboardInterrupt\u001b[0m: "
     ]
    }
   ],
   "source": [
    "#@title\n",
    "from sklearn.model_selection import cross_val_score\n",
    "from sklearn.linear_model import LogisticRegression\n",
    "from sklearn.ensemble import RandomForestClassifier\n",
    "\n",
    "# Initialize classifiers\n",
    "classifiers = {\n",
    "    \"Logistic Regression\": LogisticRegression(max_iter=1000),\n",
    "    \"Random Forest\": RandomForestClassifier(),\n",
    "}\n",
    "\n",
    "# Train and evaluate classifiers with cross-validation\n",
    "for clf_name, clf in classifiers.items():\n",
    "    print(clf_name)\n",
    "    # Perform cross-validation\n",
    "    cv_scores = cross_val_score(clf, X_train, y_train, cv=5, scoring=\"accuracy\")\n",
    "    print(f\"Cross-validation scores: {cv_scores}\")\n",
    "    print(f\"Mean cross-validation score: {cv_scores.mean()}\")\n",
    "\n",
    "    # Fit the classifier on the entire training set\n",
    "    clf.fit(X_train, y_train)\n",
    "\n",
    "    # Evaluate the classifier on the test set\n",
    "    test_score = clf.score(X_test, y_test)\n",
    "\n",
    "    print(f\"Test score: {test_score}\\n\")"
   ]
  },
  {
   "cell_type": "code",
   "execution_count": null,
   "metadata": {},
   "outputs": [],
   "source": [
    "from sklearn.model_selection import RandomizedSearchCV\n",
    "from scipy.stats import randint\n",
    "\n",
    "# Définir les hyperparamètres à tester\n",
    "param_distributions = {\n",
    "    'n_estimators': randint(100, 200),  # Distribution pour le nombre d'arbres\n",
    "    'max_depth': [None, 6],            # Valeurs fixes possibles\n",
    "    'min_samples_split': randint(2, 5),  # Distribution pour le nombre minimal d'échantillons\n",
    "    'min_samples_leaf': randint(1, 2)    # Distribution pour les feuilles\n",
    "}\n",
    "\n",
    "# Instanciation du modèle\n",
    "rf_model = RandomForestClassifier()\n",
    "\n",
    "# RandomizedSearchCV\n",
    "random_search = RandomizedSearchCV(\n",
    "    estimator=rf_model,\n",
    "    param_distributions=param_distributions,\n",
    "    n_iter=20,                 # Nombre d'échantillons aléatoires à tester\n",
    "    scoring='accuracy',        # Métrique d'évaluation\n",
    "    cv=5,                      # Validation croisée avec 5 folds\n",
    "    verbose=1,                 # Affichage des détails\n",
    "    random_state=42,           # Pour la reproductibilité\n",
    "    n_jobs=-1                  # Utilisation de tous les cœurs disponibles\n",
    ")\n",
    "\n",
    "# Entraînement de RandomizedSearchCV\n",
    "random_search.fit(X_train, y_train)\n",
    "\n",
    "# Obtenir les meilleurs paramètres et le meilleur score\n",
    "best_params = random_search.best_params_\n",
    "best_score = random_search.best_score_\n",
    "\n",
    "print(\"Best Parameters:\", best_params)\n",
    "print(\"Best Score:\", best_score)"
   ]
  },
  {
   "cell_type": "code",
   "execution_count": null,
   "metadata": {},
   "outputs": [],
   "source": [
    "model_1 = RandomForestClassifier()\n",
    "model_1.fit(X_train, y_train)\n",
    "\n",
    "# Prédictions\n",
    "y_pred = model_1.predict(X_test)\n",
    "\n",
    "# Rapport de classification\n",
    "print(classification_report(y_test, y_pred, target_names=sentiments.classes_))"
   ]
  },
  {
   "cell_type": "code",
   "execution_count": null,
   "metadata": {},
   "outputs": [],
   "source": [
    "# Modèle\n",
    "model_2 = RandomForestClassifier(**best_params)\n",
    "model_2.fit(X_train, y_train)\n",
    "\n",
    "# Prédictions\n",
    "y_pred = model_2.predict(X_test)\n",
    "\n",
    "# Rapport de classification\n",
    "print(classification_report(y_test, y_pred, target_names=sentiments.classes_))"
   ]
  },
  {
   "cell_type": "code",
   "execution_count": null,
   "metadata": {},
   "outputs": [],
   "source": [
    "# Exemple de tweets à prédire\n",
    "new_tweets = [\n",
    "    # Positive\n",
    "    \"I love playing Call of Duty, the action is incredible!\",\n",
    "    \"Borderlands 3 is such an amazing game, highly recommended!\",\n",
    "    # Negative\n",
    "    \"Dota2's community is so toxic, it's hard to enjoy the game sometimes.\",\n",
    "    \"Cyberpunk2077 still has bugs even after all these patches.\",\n",
    "    # Neutral\n",
    "    \"AssassinsCreed's open worlds are impressive, but they can feel overwhelming.\",\n",
    "    \"Thinking about trying out Cyberpunk 2077; heard mixed reviews. #Cyberpunk2077\",\n",
    "    \"Did you know Overwatch lore? But I'm not into gaming much.\",\n",
    "    \"Fortnite is creative with its events, but I'm not into building mechanics.\"\n",
    "]\n",
    "\n",
    "# Vectoriser les nouveaux tweets\n",
    "new_tweets_tfidf = vectorizer.transform(new_tweets)\n",
    "\n",
    "# Faire les prédictions\n",
    "#predicted_sentiments = model_2.predict(new_tweets_tfidf)\n",
    "predicted_sentiments = model_1.predict(new_tweets_tfidf)\n",
    "\n",
    "# Afficher les résultats\n",
    "for tweet, sentiment in zip(new_tweets, predicted_sentiments):\n",
    "    sentiment_class = sentiments.inverse_transform([sentiment])[0]\n",
    "    print(f\"Tweet: {tweet}\")\n",
    "    print(f\"Predicted Sentiment: {sentiment} = {sentiment_class}\")"
   ]
  },
  {
   "cell_type": "code",
   "execution_count": null,
   "metadata": {},
   "outputs": [],
   "source": [
    "print(new_tweets_tfidf)"
   ]
  },
  {
   "cell_type": "code",
   "execution_count": null,
   "metadata": {},
   "outputs": [],
   "source": [
    "# Exemple d'utilisation\n",
    "tfidf_df_2 = pd.DataFrame(new_tweets_tfidf.toarray(), columns=vectorizer.get_feature_names_out())\n",
    "\n",
    "start_doc, end_doc = 0, 7  # Inclure les 10 premiers documents\n",
    "top_n_words = 10            # Afficher les 5 mots les plus importants\n",
    "\n",
    "filtered_docs = filter_documents(tfidf_df, start_doc, end_doc)\n",
    "filtered_top_words = filter_top_words(filtered_docs, top_n_words)\n",
    "\n",
    "# Afficher le heatmap\n",
    "plot_heatmap(filtered_top_words)"
   ]
  }
 ],
 "metadata": {
  "kernelspec": {
   "display_name": "env",
   "language": "python",
   "name": "python3"
  },
  "language_info": {
   "codemirror_mode": {
    "name": "ipython",
    "version": 3
   },
   "file_extension": ".py",
   "mimetype": "text/x-python",
   "name": "python",
   "nbconvert_exporter": "python",
   "pygments_lexer": "ipython3",
   "version": "3.11.7"
  }
 },
 "nbformat": 4,
 "nbformat_minor": 2
}
